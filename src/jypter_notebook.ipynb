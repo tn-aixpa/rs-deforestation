{
 "cells": [
  {
   "cell_type": "markdown",
   "id": "d470c258",
   "metadata": {},
   "source": [
    "# DEFORESTATION SCENARIO PIPELINE"
   ]
  },
  {
   "cell_type": "code",
   "execution_count": 1,
   "id": "22976efc-003a-4170-bcf0-6a33ac84e76a",
   "metadata": {},
   "outputs": [],
   "source": [
    "import digitalhub as dh\n",
    "PROJECT_NAME = \"deforestation\"\n",
    "proj = dh.get_or_create_project(PROJECT_NAME) # source=\"git://github.com/scc-digitalhu"
   ]
  },
  {
   "cell_type": "markdown",
   "id": "246d5c4d",
   "metadata": {},
   "source": [
    "Register to the open data space copenicus(if not already) and get your credentials.\n",
    "\n",
    "https://identity.dataspace.copernicus.eu/auth/realms/CDSE/login-actions/registration?client_id=cdse-public&tab_id=FIiRPJeoiX4\n",
    "\n",
    "Log the credentials as project secret keys as shown below"
   ]
  },
  {
   "cell_type": "code",
   "execution_count": null,
   "id": "cbb91e46",
   "metadata": {},
   "outputs": [],
   "source": [
    "# THIS NEED TO BE EXECUTED JUST ONCE\n",
    "secret0 = proj.new_secret(name=\"CDSETOOL_ESA_USER\", secret_value=\"esa_username\")\n",
    "secret1 = proj.new_secret(name=\"CDSETOOL_ESA_PASSWORD\", secret_value=\"esa_password\")"
   ]
  },
  {
   "cell_type": "markdown",
   "id": "29a61c81",
   "metadata": {},
   "source": [
    "### Download data from Sentinel 2"
   ]
  },
  {
   "cell_type": "code",
   "execution_count": 3,
   "id": "c49ced7c",
   "metadata": {},
   "outputs": [],
   "source": [
    "string_dict_data = \"\"\"{\n",
    " \"satelliteParams\":{\n",
    "     \"satelliteType\": \"Sentinel2\"\n",
    " },\n",
    " \"startDate\": \"2018-01-01\",\n",
    " \"endDate\": \"2019-12-31\",\n",
    " \"geometry\": \"POLYGON((10.98014831542969 45.455314263477874,11.030273437500002 45.44808893044964,10.99937438964844 45.42014226680115,10.953025817871096 45.435803739956725,10.98014831542969 45.455314263477874))\",\n",
    " \"area_sampling\": \"true\",\n",
    " \"cloudCover\": \"[0,20]\",\n",
    " \"artifact_name\": \"data\" \n",
    " }\"\"\"\n",
    "\n",
    "list_args =  [\"main.py\",string_dict_data]\n",
    "function_s2 = proj.new_function(\"download_images_s2\",kind=\"container\",image=\"ghcr.io/tn-aixpa/sentinel-tools:0.10.1\",command=\"python\")"
   ]
  },
  {
   "cell_type": "code",
   "execution_count": null,
   "id": "a3c0cfdf",
   "metadata": {},
   "outputs": [],
   "source": [
    "run = function_s2.run(action=\"job\",\n",
    "        secrets=[\"CDSETOOL_ESA_USER\",\"CDSETOOL_ESA_PASSWORD\"],\n",
    "        fs_group='8877',\n",
    "        args=list_args,           \n",
    "        volumes=[{\n",
    "            \"volume_type\": \"persistent_volume_claim\",\n",
    "            \"name\": \"volume-deforestation\",\n",
    "            \"mount_path\": \"/app/files\",\n",
    "            \"spec\": {\n",
    "                \"size\": \"300Gi\"\n",
    "            }}])"
   ]
  },
  {
   "cell_type": "code",
   "execution_count": 29,
   "id": "2dd8bc1d-9695-4945-8d18-50fc6e4727ca",
   "metadata": {},
   "outputs": [
    {
     "data": {
      "text/plain": [
       "'RUNNING'"
      ]
     },
     "execution_count": 29,
     "metadata": {},
     "output_type": "execute_result"
    }
   ],
   "source": [
    "run.refresh().status.state"
   ]
  },
  {
   "cell_type": "code",
   "execution_count": 11,
   "id": "2a26dc06-62ba-479c-81cb-b6f7e1732e6d",
   "metadata": {},
   "outputs": [],
   "source": [
    "artifact = proj.get_artifact('data')"
   ]
  },
  {
   "cell_type": "markdown",
   "id": "cb5d1d27-54e4-4810-8466-d8f040682d4d",
   "metadata": {},
   "source": [
    "### Perform Data Elaboration on RS-Tool"
   ]
  },
  {
   "cell_type": "markdown",
   "id": "30cebf36-2e51-4f5d-99ab-982bc0aa31e2",
   "metadata": {},
   "source": [
    "#### Input data (Shape file)"
   ]
  },
  {
   "cell_type": "code",
   "execution_count": null,
   "id": "f4a857ec-04bc-4c6e-ae4b-4c6366221690",
   "metadata": {},
   "outputs": [],
   "source": [
    "artifact_name='bosco'\n",
    "src_path='bosco'\n",
    "artifact_bosco = proj.log_artifact(name=artifact_name, kind=\"artifact\", source=src_path)"
   ]
  },
  {
   "cell_type": "markdown",
   "id": "50675c63-3bb4-45e6-a32f-432bfe492fb2",
   "metadata": {},
   "source": [
    "#### Input data (Tiles)"
   ]
  },
  {
   "cell_type": "code",
   "execution_count": 4,
   "id": "b5b8f1cf-dafe-4046-b330-e036c7f5f270",
   "metadata": {},
   "outputs": [],
   "source": [
    "artifact_name='data'\n",
    "src_path='data'\n",
    "artifact_data = proj.log_artifact(name=artifact_name, kind=\"artifact\", source=src_path)"
   ]
  },
  {
   "cell_type": "code",
   "execution_count": 2,
   "id": "d9786c85-7790-4508-92d5-32276d8b8921",
   "metadata": {},
   "outputs": [],
   "source": [
    "function_rs = proj.new_function(\"elaborate\",kind=\"container\", image=\"ghcr.io/tn-aixpa/rs-deforestation:2.7_b2\", code_src=\"launch.sh\")"
   ]
  },
  {
   "cell_type": "code",
   "execution_count": null,
   "id": "f658ca14-a41b-4ab4-94a5-3da78bfaddfe",
   "metadata": {},
   "outputs": [],
   "source": [
    "#!pip uninstall digitalhub -y && pip install git+https://github.com/scc-digitalhub/digitalhub-sdk\n",
    "!pip uninstall digitalhub digitalhub-runtime-container -y && pip install git+https://github.com/scc-digitalhub/digitalhub-sdk git+https://github.com/scc-digitalhub/digitalhub-sdk-runtime-container "
   ]
  },
  {
   "cell_type": "code",
   "execution_count": null,
   "id": "1c445924-4370-4f8d-b24c-9fb18d9fd053",
   "metadata": {},
   "outputs": [],
   "source": [
    "run_el = function_rs.run(action=\"job\",\n",
    "            fs_group='8877',\n",
    "            resources={\n",
    "                \"cpu\": {\n",
    "                    \"requests\": \"3\",\n",
    "                    \n",
    "                },\n",
    "                \"mem\":{\n",
    "                    \"requests\": \"16Gi\"\n",
    "                }\n",
    "            },\n",
    "            profile=\"1xa100\",\n",
    "            volumes=[{\n",
    "            \"volume_type\": \"persistent_volume_claim\",            \n",
    "            \"name\": \"volume-deforestation\", # this name has to be equal to the name of the volume created in krm\n",
    "            \"mount_path\": \"/app/files\",\n",
    "            \"spec\": {\n",
    "                \"size\": \"5Gi\"\n",
    "            }}],\n",
    "            args=['/shared/launch.sh', 'bosco','data',\"['2018','2019']\",'deforestation_output']\n",
    "         )"
   ]
  },
  {
   "cell_type": "code",
   "execution_count": 8,
   "id": "8d864d90-2904-417b-bf35-3e2cdf5ddd95",
   "metadata": {},
   "outputs": [
    {
     "data": {
      "text/plain": [
       "'RUNNING'"
      ]
     },
     "execution_count": 8,
     "metadata": {},
     "output_type": "execute_result"
    }
   ],
   "source": [
    "run_el.refresh().status.state"
   ]
  },
  {
   "cell_type": "code",
   "execution_count": 11,
   "id": "484d7ab2-d640-45aa-ac3b-945066c12aeb",
   "metadata": {},
   "outputs": [
    {
     "data": {
      "text/plain": [
       "'{\"satelliteParams\":{\"satelliteType\": \"Sentinel2\" }, \"startDate\": \"2018-01-01\", \"endDate\": \"2019-12-31\", \"geometry\": \"POLYGON((10.98014831542969 45.455314263477874,11.030273437500002 45.44808893044964,10.99937438964844 45.42014226680115,10.953025817871096 45.435803739956725,10.98014831542969 45.455314263477874))\", \"area_sampling\": \"true\", \"cloudCover\": \"[0,20]\", \"artifact_name\": \"data_s2_deforestation\"}'"
      ]
     },
     "execution_count": 11,
     "metadata": {},
     "output_type": "execute_result"
    }
   ],
   "source": [
    "startYear=2018\n",
    "endYear=2019\n",
    "geometry=\"POLYGON((10.98014831542969 45.455314263477874,11.030273437500002 45.44808893044964,10.99937438964844 45.42014226680115,10.953025817871096 45.435803739956725,10.98014831542969 45.455314263477874))\"\n",
    "string_dict_data = \"\"\"{\"satelliteParams\":{\"satelliteType\": \"Sentinel2\" }, \"startDate\": \\\"\"\"\" + str(startYear) + \"\"\"-01-01\\\", \"endDate\": \\\"\"\"\" + str(endYear) + \"\"\"-12-31\\\", \"geometry\": \\\"\"\"\" + str(geometry) + \"\"\"\\\", \"area_sampling\": \"true\", \"cloudCover\": \"[0,20]\", \"artifact_name\": \"data_s2_deforestation\"}\"\"\"\n",
    "string_dict_data"
   ]
  },
  {
   "cell_type": "code",
   "execution_count": 14,
   "id": "ee69e7f5-ecb5-4eea-aebb-e6d36b544cf0",
   "metadata": {},
   "outputs": [
    {
     "data": {
      "text/plain": [
       "'[2018,2019]'"
      ]
     },
     "execution_count": 14,
     "metadata": {},
     "output_type": "execute_result"
    }
   ],
   "source": [
    "yearList=\"[\" + str(startYear) + ',' + str(endYear) + \"]\"\n",
    "yearList"
   ]
  },
  {
   "cell_type": "code",
   "execution_count": 15,
   "id": "b6ba73a2",
   "metadata": {},
   "outputs": [
    {
     "name": "stdout",
     "output_type": "stream",
     "text": [
      "Writing deforestation_pipeline.py\n"
     ]
    }
   ],
   "source": [
    "%%writefile \"deforestation_pipeline.py\"\n",
    "\n",
    "\n",
    "from digitalhub_runtime_kfp.dsl import pipeline_context\n",
    "\n",
    "def myhandler(startYear, endYear, geometry, input1, input2, outputName):\n",
    "    with pipeline_context() as pc:\n",
    "        string_dict_data = \"\"\"{\"satelliteParams\":{\"satelliteType\": \"Sentinel2\" }, \"startDate\": \\\"\"\"\" + str(startYear) + \"\"\"-01-01\\\", \"endDate\": \\\"\"\"\" + str(endYear) + \"\"\"-12-31\\\", \"geometry\": \\\"\"\"\" + str(geometry) + \"\"\"\\\", \"area_sampling\": \"true\", \"cloudCover\": \"[0,20]\", \"artifact_name\": \"data_s2_deforestation\"}\"\"\"\n",
    "        list_args =  [\"main.py\",string_dict_data]\n",
    "        s1 = pc.step(name=\"download\",function=\"download_images_s2\", action=\"job\", secrets=[\"CDSETOOL_ESA_USER\",\"CDSETOOL_ESA_PASSWORD\"], fs_group='8877', args=list_args, profile=\"1xa100\", volumes=[{\"volume_type\": \"persistent_volume_claim\",\"name\": \"volume-s2\",\"mount_path\": \"/app/files\",\"spec\": {\"claim_name\": \"volume-s2\"}}])\n",
    "        s2 = pc.step(name=\"elaborate\", function=\"elaborate\", action=\"job\", fs_group='8877', resources={\"cpu\": {\"requests\": \"3\"},\"mem\":{\"requests\": \"16Gi\"}},profile=\"1xa100\",volumes=[{\"volume_type\": \"persistent_volume_claim\",\"name\": \"volume-deforestation\", \"mount_path\": \"/app/files\",\"spec\": {\"size\": \"5Gi\"}}],args=['/shared/launch.sh', input1, 'data_s2_deforestation',\"[\" + str(startYear) + ',' + str(endYear) + \"]\",outputName]).after(s1)        \n",
    "     \n"
   ]
  },
  {
   "cell_type": "code",
   "execution_count": 16,
   "id": "65f1d654",
   "metadata": {},
   "outputs": [],
   "source": [
    "workflow = proj.new_workflow(name=\"pipeline_deforestation\", kind=\"kfp\", code_src= \"deforestation_pipeline.py\", handler = \"myhandler\")"
   ]
  },
  {
   "cell_type": "code",
   "execution_count": 17,
   "id": "68608529",
   "metadata": {},
   "outputs": [
    {
     "name": "stderr",
     "output_type": "stream",
     "text": [
      "2025-05-22 07:20:28,879 - INFO - Waiting for run 1d7285fbd80e460681c25bd68b4ac7b9 to finish...\n",
      "2025-05-22 07:20:33,902 - INFO - Waiting for run 1d7285fbd80e460681c25bd68b4ac7b9 to finish...\n",
      "2025-05-22 07:20:38,935 - INFO - Waiting for run 1d7285fbd80e460681c25bd68b4ac7b9 to finish...\n",
      "2025-05-22 07:20:43,971 - INFO - Run 1d7285fbd80e460681c25bd68b4ac7b9 finished in 15.09 seconds.\n"
     ]
    },
    {
     "data": {
      "text/plain": [
       "{'kind': 'kfp+run', 'metadata': {'project': 'deforestation', 'name': '1d7285fbd80e460681c25bd68b4ac7b9', 'created': '2025-05-22T07:20:28.82Z', 'updated': '2025-05-22T07:20:34.251Z', 'created_by': 'khurshid@fbk.eu', 'updated_by': 'khurshid@fbk.eu', 'relationships': [{'type': 'run_of', 'dest': 'store://deforestation/workflow/kfp/pipeline_deforestation:274d94b2ef6244cc8fbf1229712dd7f8'}]}, 'spec': {'task': 'kfp+build://deforestation/4b6c921d8d274b32b0c1b70df2bcbb10', 'local_execution': False, 'workflow': 'kfp://deforestation/pipeline_deforestation:274d94b2ef6244cc8fbf1229712dd7f8', 'source': {'source': 'deforestation_pipeline.py', 'handler': 'myhandler', 'base64': 'Cgpmcm9tIGRpZ2l0YWxodWJfcnVudGltZV9rZnAuZHNsIGltcG9ydCBwaXBlbGluZV9jb250ZXh0CgpkZWYgbXloYW5kbGVyKHN0YXJ0WWVhciwgZW5kWWVhciwgZ2VvbWV0cnksIGlucHV0MSwgaW5wdXQyLCBvdXRwdXROYW1lKToKICAgIHdpdGggcGlwZWxpbmVfY29udGV4dCgpIGFzIHBjOgogICAgICAgIHN0cmluZ19kaWN0X2RhdGEgPSAiIiJ7InNhdGVsbGl0ZVBhcmFtcyI6eyJzYXRlbGxpdGVUeXBlIjogIlNlbnRpbmVsMiIgfSwgInN0YXJ0RGF0ZSI6IFwiIiIiICsgc3RyKHN0YXJ0WWVhcikgKyAiIiItMDEtMDFcIiwgImVuZERhdGUiOiBcIiIiIiArIHN0cihlbmRZZWFyKSArICIiIi0xMi0zMVwiLCAiZ2VvbWV0cnkiOiBcIiIiIiArIHN0cihnZW9tZXRyeSkgKyAiIiJcIiwgImFyZWFfc2FtcGxpbmciOiAidHJ1ZSIsICJjbG91ZENvdmVyIjogIlswLDIwXSIsICJhcnRpZmFjdF9uYW1lIjogImRhdGFfczJfZGVmb3Jlc3RhdGlvbiJ9IiIiCiAgICAgICAgbGlzdF9hcmdzID0gIFsibWFpbi5weSIsc3RyaW5nX2RpY3RfZGF0YV0KICAgICAgICBzMSA9IHBjLnN0ZXAobmFtZT0iZG93bmxvYWQiLGZ1bmN0aW9uPSJkb3dubG9hZF9pbWFnZXNfczIiLCBhY3Rpb249ImpvYiIsIHNlY3JldHM9WyJDRFNFVE9PTF9FU0FfVVNFUiIsIkNEU0VUT09MX0VTQV9QQVNTV09SRCJdLCBmc19ncm91cD0nODg3NycsIGFyZ3M9bGlzdF9hcmdzLCBwcm9maWxlPSIxeGExMDAiLCB2b2x1bWVzPVt7InZvbHVtZV90eXBlIjogInBlcnNpc3RlbnRfdm9sdW1lX2NsYWltIiwibmFtZSI6ICJ2b2x1bWUtczIiLCJtb3VudF9wYXRoIjogIi9hcHAvZmlsZXMiLCJzcGVjIjogeyJjbGFpbV9uYW1lIjogInZvbHVtZS1zMiJ9fV0pCiAgICAgICAgczIgPSBwYy5zdGVwKG5hbWU9ImVsYWJvcmF0ZSIsIGFjdGlvbj0iam9iIiwgZnNfZ3JvdXA9Jzg4NzcnLCByZXNvdXJjZXM9eyJjcHUiOiB7InJlcXVlc3RzIjogIjMifSwibWVtIjp7InJlcXVlc3RzIjogIjE2R2kifX0scHJvZmlsZT0iMXhhMTAwIix2b2x1bWVzPVt7InZvbHVtZV90eXBlIjogInBlcnNpc3RlbnRfdm9sdW1lX2NsYWltIiwibmFtZSI6ICJ2b2x1bWUtZGVmb3Jlc3RhdGlvbiIsICJtb3VudF9wYXRoIjogIi9hcHAvZmlsZXMiLCJzcGVjIjogeyJzaXplIjogIjVHaSJ9fV0sYXJncz1bJy9zaGFyZWQvbGF1bmNoLnNoJywgaW5wdXQxLCAnZGF0YV9zMl9kZWZvcmVzdGF0aW9uJywiWyIgKyBzdHIoc3RhcnRZZWFyKSArICcsJyArIHN0cihlbmRZZWFyKSArICJdIixvdXRwdXROYW1lXSkuYWZ0ZXIoczEpICAgICAgICAKICAgICAK', 'lang': 'python'}, 'inputs': {}, 'outputs': {}, 'parameters': {}}, 'status': {'state': 'ERROR', 'message': 'Job condition failed: Job has reached the specified backoff limit', 'transitions': [{'status': 'ERROR', 'message': 'Job condition failed: Job has reached the specified backoff limit', 'time': '2025-05-22T07:20:34.240889175Z'}, {'status': 'RUNNING', 'time': '2025-05-22T07:20:28.917644163Z'}, {'status': 'READY', 'time': '2025-05-22T07:20:28.83743663Z'}, {'status': 'BUILT', 'time': '2025-05-22T07:20:28.829650973Z'}], 'k8s': {'job': {'metadata': {'creationTimestamp': 1747898428.0, 'generation': 1, 'labels': {'app.kubernetes.io/instance': 'dhcore-1d7285fbd80e460681c25bd68b4ac7b9', 'app.kubernetes.io/managed-by': 'dhcore', 'app.kubernetes.io/part-of': 'dhcore-deforestation', 'app.kubernetes.io/version': '1d7285fbd80e460681c25bd68b4ac7b9', 'dhcore/framework': 'k8sjob', 'dhcore/project': 'deforestation', 'dhcore/run': '1d7285fbd80e460681c25bd68b4ac7b9', 'dhcore/runtime': 'kfp'}, 'managedFields': [{'apiVersion': 'batch/v1', 'fieldsType': 'FieldsV1', 'manager': 'Kubernetes Java Client', 'operation': 'Update', 'time': 1747898428.0}, {'apiVersion': 'batch/v1', 'fieldsType': 'FieldsV1', 'manager': 'kube-controller-manager', 'operation': 'Update', 'subresource': 'status', 'time': 1747898434.0}], 'name': 'j-kfppipeline-1d7285fbd80e460681c25bd68b4ac7b9', 'namespace': 'digitalhub-tenant1', 'resourceVersion': '133432', 'uid': '38e610f9-b47c-4f6c-81da-a02a50ee2c4e'}, 'apiVersion': 'batch/v1', 'kind': 'Job', 'spec': {'activeDeadlineSeconds': 604800, 'backoffLimit': 0, 'completionMode': 'NonIndexed', 'completions': 1, 'manualSelector': False, 'parallelism': 1, 'podReplacementPolicy': 'TerminatingOrFailed', 'selector': {'matchLabels': {'batch.kubernetes.io/controller-uid': '38e610f9-b47c-4f6c-81da-a02a50ee2c4e'}}, 'suspend': False, 'template': {'metadata': {'labels': {'app.kubernetes.io/instance': 'dhcore-1d7285fbd80e460681c25bd68b4ac7b9', 'app.kubernetes.io/managed-by': 'dhcore', 'app.kubernetes.io/part-of': 'dhcore-deforestation', 'app.kubernetes.io/version': '1d7285fbd80e460681c25bd68b4ac7b9', 'batch.kubernetes.io/controller-uid': '38e610f9-b47c-4f6c-81da-a02a50ee2c4e', 'batch.kubernetes.io/job-name': 'j-kfppipeline-1d7285fbd80e460681c25bd68b4ac7b9', 'controller-uid': '38e610f9-b47c-4f6c-81da-a02a50ee2c4e', 'dhcore/framework': 'k8sjob', 'dhcore/project': 'deforestation', 'dhcore/run': '1d7285fbd80e460681c25bd68b4ac7b9', 'dhcore/runtime': 'kfp', 'job-name': 'j-kfppipeline-1d7285fbd80e460681c25bd68b4ac7b9'}, 'name': 'j-kfppipeline-1d7285fbd80e460681c25bd68b4ac7b9'}, 'spec': {'containers': [{'args': ['wrapper.py'], 'command': ['python'], 'env': [{'name': 'DH_RUN_SECRET_NAME', 'value': 'sec-kfppipeline-1d7285fbd80e460681c25bd68b4ac7b9'}, {'name': 'AWS_REGION', 'valueFrom': {'secretKeyRef': {'key': 'AWS_REGION', 'name': 'sec-kfppipeline-1d7285fbd80e460681c25bd68b4ac7b9'}}}, {'name': 'DB_PLATFORM', 'valueFrom': {'secretKeyRef': {'key': 'DB_PLATFORM', 'name': 'sec-kfppipeline-1d7285fbd80e460681c25bd68b4ac7b9'}}}, {'name': 'DHCORE_ACCESS_TOKEN', 'valueFrom': {'secretKeyRef': {'key': 'DHCORE_ACCESS_TOKEN', 'name': 'sec-kfppipeline-1d7285fbd80e460681c25bd68b4ac7b9'}}}, {'name': 'DIGITALHUB_CORE_WORKFLOW_IMAGE', 'value': 'ghcr.io/scc-digitalhub/digitalhub-sdk-wrapper-kfp/wrapper-kfp:latest'}, {'name': 'PROJECTS', 'valueFrom': {'secretKeyRef': {'key': 'PROJECTS', 'name': 'sec-kfppipeline-1d7285fbd80e460681c25bd68b4ac7b9'}}}, {'name': 'DHCORE_CLIENT_ID', 'valueFrom': {'secretKeyRef': {'key': 'DHCORE_CLIENT_ID', 'name': 'sec-kfppipeline-1d7285fbd80e460681c25bd68b4ac7b9'}}}, {'name': 'DB_PORT', 'valueFrom': {'secretKeyRef': {'key': 'DB_PORT', 'name': 'sec-kfppipeline-1d7285fbd80e460681c25bd68b4ac7b9'}}}, {'name': 'DHCORE_ID_TOKEN', 'valueFrom': {'secretKeyRef': {'key': 'DHCORE_ID_TOKEN', 'name': 'sec-kfppipeline-1d7285fbd80e460681c25bd68b4ac7b9'}}}, {'name': 'AWS_SECRET_ACCESS_KEY', 'valueFrom': {'secretKeyRef': {'key': 'AWS_SECRET_ACCESS_KEY', 'name': 'sec-kfppipeline-1d7285fbd80e460681c25bd68b4ac7b9'}}}, {'name': 'AWS_ENDPOINT_URL', 'valueFrom': {'secretKeyRef': {'key': 'AWS_ENDPOINT_URL', 'name': 'sec-kfppipeline-1d7285fbd80e460681c25bd68b4ac7b9'}}}, {'name': 'DHCORE_ISSUER', 'valueFrom': {'secretKeyRef': {'key': 'DHCORE_ISSUER', 'name': 'sec-kfppipeline-1d7285fbd80e460681c25bd68b4ac7b9'}}}, {'name': 'DB_HOST', 'valueFrom': {'secretKeyRef': {'key': 'DB_HOST', 'name': 'sec-kfppipeline-1d7285fbd80e460681c25bd68b4ac7b9'}}}, {'name': 'PROJECT_NAME', 'value': 'deforestation'}, {'name': 'RUN_ID', 'value': '1d7285fbd80e460681c25bd68b4ac7b9'}, {'name': 'AWS_SESSION_TOKEN', 'valueFrom': {'secretKeyRef': {'key': 'AWS_SESSION_TOKEN', 'name': 'sec-kfppipeline-1d7285fbd80e460681c25bd68b4ac7b9'}}}, {'name': 'DHCORE_REFRESH_TOKEN', 'valueFrom': {'secretKeyRef': {'key': 'DHCORE_REFRESH_TOKEN', 'name': 'sec-kfppipeline-1d7285fbd80e460681c25bd68b4ac7b9'}}}, {'name': 'DB_USERNAME', 'valueFrom': {'secretKeyRef': {'key': 'DB_USERNAME', 'name': 'sec-kfppipeline-1d7285fbd80e460681c25bd68b4ac7b9'}}}, {'name': 'AWS_ACCESS_KEY_ID', 'valueFrom': {'secretKeyRef': {'key': 'AWS_ACCESS_KEY_ID', 'name': 'sec-kfppipeline-1d7285fbd80e460681c25bd68b4ac7b9'}}}, {'name': 'S3_SIGNATURE_VERSION', 'valueFrom': {'secretKeyRef': {'key': 'S3_SIGNATURE_VERSION', 'name': 'sec-kfppipeline-1d7285fbd80e460681c25bd68b4ac7b9'}}}, {'name': 'DHCORE_EXPIRES_IN', 'valueFrom': {'secretKeyRef': {'key': 'DHCORE_EXPIRES_IN', 'name': 'sec-kfppipeline-1d7285fbd80e460681c25bd68b4ac7b9'}}}, {'name': 'DB_DATABASE', 'valueFrom': {'secretKeyRef': {'key': 'DB_DATABASE', 'name': 'sec-kfppipeline-1d7285fbd80e460681c25bd68b4ac7b9'}}}, {'name': 'DB_PASSWORD', 'valueFrom': {'secretKeyRef': {'key': 'DB_PASSWORD', 'name': 'sec-kfppipeline-1d7285fbd80e460681c25bd68b4ac7b9'}}}], 'envFrom': [{'configMapRef': {'name': 'digitalhub-common-env'}}], 'image': 'ghcr.io/scc-digitalhub/digitalhub-sdk-wrapper-kfp/wrapper-kfp:latest', 'imagePullPolicy': 'IfNotPresent', 'name': 'c-kfppipeline-1d7285fbd80e460681c25bd68b4ac7b9', 'securityContext': {'allowPrivilegeEscalation': False, 'privileged': False, 'runAsNonRoot': True}, 'terminationMessagePath': '/dev/termination-log', 'terminationMessagePolicy': 'File'}], 'dnsPolicy': 'ClusterFirst', 'imagePullSecrets': [{'name': 'registry-credentials'}], 'restartPolicy': 'Never', 'schedulerName': 'default-scheduler', 'securityContext': {'runAsNonRoot': True}, 'terminationGracePeriodSeconds': 30}}}, 'status': {'conditions': [{'lastProbeTime': 1747898434.0, 'lastTransitionTime': 1747898434.0, 'message': 'Job has reached the specified backoff limit', 'reason': 'BackoffLimitExceeded', 'status': 'True', 'type': 'FailureTarget'}, {'lastProbeTime': 1747898434.0, 'lastTransitionTime': 1747898434.0, 'message': 'Job has reached the specified backoff limit', 'reason': 'BackoffLimitExceeded', 'status': 'True', 'type': 'Failed'}], 'failed': 1, 'ready': 0, 'startTime': 1747898428.0, 'terminating': 0}}, 'pods': [{'metadata': {'creationTimestamp': 1747898428.0, 'generateName': 'j-kfppipeline-1d7285fbd80e460681c25bd68b4ac7b9-', 'labels': {'app.kubernetes.io/instance': 'dhcore-1d7285fbd80e460681c25bd68b4ac7b9', 'app.kubernetes.io/managed-by': 'dhcore', 'app.kubernetes.io/part-of': 'dhcore-deforestation', 'app.kubernetes.io/version': '1d7285fbd80e460681c25bd68b4ac7b9', 'batch.kubernetes.io/controller-uid': '38e610f9-b47c-4f6c-81da-a02a50ee2c4e', 'batch.kubernetes.io/job-name': 'j-kfppipeline-1d7285fbd80e460681c25bd68b4ac7b9', 'controller-uid': '38e610f9-b47c-4f6c-81da-a02a50ee2c4e', 'dhcore/framework': 'k8sjob', 'dhcore/project': 'deforestation', 'dhcore/run': '1d7285fbd80e460681c25bd68b4ac7b9', 'dhcore/runtime': 'kfp', 'job-name': 'j-kfppipeline-1d7285fbd80e460681c25bd68b4ac7b9'}, 'managedFields': [{'apiVersion': 'v1', 'fieldsType': 'FieldsV1', 'manager': 'kube-controller-manager', 'operation': 'Update', 'time': 1747898428.0}, {'apiVersion': 'v1', 'fieldsType': 'FieldsV1', 'manager': 'kubelet', 'operation': 'Update', 'subresource': 'status', 'time': 1747898433.0}], 'name': 'j-kfppipeline-1d7285fbd80e460681c25bd68b4ac7b9-wg2gs', 'namespace': 'digitalhub-tenant1', 'ownerReferences': [{'apiVersion': 'batch/v1', 'blockOwnerDeletion': True, 'controller': True, 'kind': 'Job', 'name': 'j-kfppipeline-1d7285fbd80e460681c25bd68b4ac7b9', 'uid': '38e610f9-b47c-4f6c-81da-a02a50ee2c4e'}], 'resourceVersion': '133430', 'uid': '2ed148ee-ea5d-4e22-8fdc-13e706a7506c'}, 'spec': {'containers': [{'args': ['wrapper.py'], 'command': ['python'], 'env': [{'name': 'DH_RUN_SECRET_NAME', 'value': 'sec-kfppipeline-1d7285fbd80e460681c25bd68b4ac7b9'}, {'name': 'AWS_REGION', 'valueFrom': {'secretKeyRef': {'key': 'AWS_REGION', 'name': 'sec-kfppipeline-1d7285fbd80e460681c25bd68b4ac7b9'}}}, {'name': 'DB_PLATFORM', 'valueFrom': {'secretKeyRef': {'key': 'DB_PLATFORM', 'name': 'sec-kfppipeline-1d7285fbd80e460681c25bd68b4ac7b9'}}}, {'name': 'DHCORE_ACCESS_TOKEN', 'valueFrom': {'secretKeyRef': {'key': 'DHCORE_ACCESS_TOKEN', 'name': 'sec-kfppipeline-1d7285fbd80e460681c25bd68b4ac7b9'}}}, {'name': 'DIGITALHUB_CORE_WORKFLOW_IMAGE', 'value': 'ghcr.io/scc-digitalhub/digitalhub-sdk-wrapper-kfp/wrapper-kfp:latest'}, {'name': 'PROJECTS', 'valueFrom': {'secretKeyRef': {'key': 'PROJECTS', 'name': 'sec-kfppipeline-1d7285fbd80e460681c25bd68b4ac7b9'}}}, {'name': 'DHCORE_CLIENT_ID', 'valueFrom': {'secretKeyRef': {'key': 'DHCORE_CLIENT_ID', 'name': 'sec-kfppipeline-1d7285fbd80e460681c25bd68b4ac7b9'}}}, {'name': 'DB_PORT', 'valueFrom': {'secretKeyRef': {'key': 'DB_PORT', 'name': 'sec-kfppipeline-1d7285fbd80e460681c25bd68b4ac7b9'}}}, {'name': 'DHCORE_ID_TOKEN', 'valueFrom': {'secretKeyRef': {'key': 'DHCORE_ID_TOKEN', 'name': 'sec-kfppipeline-1d7285fbd80e460681c25bd68b4ac7b9'}}}, {'name': 'AWS_SECRET_ACCESS_KEY', 'valueFrom': {'secretKeyRef': {'key': 'AWS_SECRET_ACCESS_KEY', 'name': 'sec-kfppipeline-1d7285fbd80e460681c25bd68b4ac7b9'}}}, {'name': 'AWS_ENDPOINT_URL', 'valueFrom': {'secretKeyRef': {'key': 'AWS_ENDPOINT_URL', 'name': 'sec-kfppipeline-1d7285fbd80e460681c25bd68b4ac7b9'}}}, {'name': 'DHCORE_ISSUER', 'valueFrom': {'secretKeyRef': {'key': 'DHCORE_ISSUER', 'name': 'sec-kfppipeline-1d7285fbd80e460681c25bd68b4ac7b9'}}}, {'name': 'DB_HOST', 'valueFrom': {'secretKeyRef': {'key': 'DB_HOST', 'name': 'sec-kfppipeline-1d7285fbd80e460681c25bd68b4ac7b9'}}}, {'name': 'PROJECT_NAME', 'value': 'deforestation'}, {'name': 'RUN_ID', 'value': '1d7285fbd80e460681c25bd68b4ac7b9'}, {'name': 'AWS_SESSION_TOKEN', 'valueFrom': {'secretKeyRef': {'key': 'AWS_SESSION_TOKEN', 'name': 'sec-kfppipeline-1d7285fbd80e460681c25bd68b4ac7b9'}}}, {'name': 'DHCORE_REFRESH_TOKEN', 'valueFrom': {'secretKeyRef': {'key': 'DHCORE_REFRESH_TOKEN', 'name': 'sec-kfppipeline-1d7285fbd80e460681c25bd68b4ac7b9'}}}, {'name': 'DB_USERNAME', 'valueFrom': {'secretKeyRef': {'key': 'DB_USERNAME', 'name': 'sec-kfppipeline-1d7285fbd80e460681c25bd68b4ac7b9'}}}, {'name': 'AWS_ACCESS_KEY_ID', 'valueFrom': {'secretKeyRef': {'key': 'AWS_ACCESS_KEY_ID', 'name': 'sec-kfppipeline-1d7285fbd80e460681c25bd68b4ac7b9'}}}, {'name': 'S3_SIGNATURE_VERSION', 'valueFrom': {'secretKeyRef': {'key': 'S3_SIGNATURE_VERSION', 'name': 'sec-kfppipeline-1d7285fbd80e460681c25bd68b4ac7b9'}}}, {'name': 'DHCORE_EXPIRES_IN', 'valueFrom': {'secretKeyRef': {'key': 'DHCORE_EXPIRES_IN', 'name': 'sec-kfppipeline-1d7285fbd80e460681c25bd68b4ac7b9'}}}, {'name': 'DB_DATABASE', 'valueFrom': {'secretKeyRef': {'key': 'DB_DATABASE', 'name': 'sec-kfppipeline-1d7285fbd80e460681c25bd68b4ac7b9'}}}, {'name': 'DB_PASSWORD', 'valueFrom': {'secretKeyRef': {'key': 'DB_PASSWORD', 'name': 'sec-kfppipeline-1d7285fbd80e460681c25bd68b4ac7b9'}}}], 'envFrom': [{'configMapRef': {'name': 'digitalhub-common-env'}}], 'image': 'ghcr.io/scc-digitalhub/digitalhub-sdk-wrapper-kfp/wrapper-kfp:latest', 'imagePullPolicy': 'IfNotPresent', 'name': 'c-kfppipeline-1d7285fbd80e460681c25bd68b4ac7b9', 'securityContext': {'allowPrivilegeEscalation': False, 'privileged': False, 'runAsNonRoot': True}, 'terminationMessagePath': '/dev/termination-log', 'terminationMessagePolicy': 'File', 'volumeMounts': [{'mountPath': '/var/run/secrets/kubernetes.io/serviceaccount', 'name': 'kube-api-access-vcpx7', 'readOnly': True}]}], 'dnsPolicy': 'ClusterFirst', 'enableServiceLinks': True, 'imagePullSecrets': [{'name': 'registry-credentials'}], 'nodeName': 'digitalhub-dev-md-0-wjgd6-lfgsn', 'preemptionPolicy': 'PreemptLowerPriority', 'priority': 0, 'restartPolicy': 'Never', 'schedulerName': 'default-scheduler', 'securityContext': {'runAsNonRoot': True}, 'serviceAccount': 'default', 'serviceAccountName': 'default', 'terminationGracePeriodSeconds': 30, 'tolerations': [{'effect': 'NoExecute', 'key': 'node.kubernetes.io/not-ready', 'operator': 'Exists', 'tolerationSeconds': 300}, {'effect': 'NoExecute', 'key': 'node.kubernetes.io/unreachable', 'operator': 'Exists', 'tolerationSeconds': 300}], 'volumes': [{'name': 'kube-api-access-vcpx7', 'projected': {'defaultMode': 420, 'sources': [{'serviceAccountToken': {'expirationSeconds': 3607, 'path': 'token'}}, {'configMap': {'items': [{'key': 'ca.crt', 'path': 'ca.crt'}], 'name': 'kube-root-ca.crt'}}, {'downwardAPI': {'items': [{'fieldRef': {'apiVersion': 'v1', 'fieldPath': 'metadata.namespace'}, 'path': 'namespace'}]}}]}}]}, 'status': {'conditions': [{'lastTransitionTime': 1747898433.0, 'status': 'False', 'type': 'PodReadyToStartContainers'}, {'lastTransitionTime': 1747898428.0, 'status': 'True', 'type': 'Initialized'}, {'lastTransitionTime': 1747898432.0, 'reason': 'PodFailed', 'status': 'False', 'type': 'Ready'}, {'lastTransitionTime': 1747898432.0, 'reason': 'PodFailed', 'status': 'False', 'type': 'ContainersReady'}, {'lastTransitionTime': 1747898428.0, 'status': 'True', 'type': 'PodScheduled'}], 'containerStatuses': [{'containerID': 'containerd://9b14d5d119c587337fcdddabe54bb486eef72de6ff75b027ef4e363109ce7cf7', 'image': 'ghcr.io/scc-digitalhub/digitalhub-sdk-wrapper-kfp/wrapper-kfp:latest', 'imageID': 'ghcr.io/scc-digitalhub/digitalhub-sdk-wrapper-kfp/wrapper-kfp@sha256:c87035c6018426e00cffe8a1a8c5b80ede28d90cfcd1a9c0efbc49dc22527d5c', 'name': 'c-kfppipeline-1d7285fbd80e460681c25bd68b4ac7b9', 'ready': False, 'restartCount': 0, 'started': False, 'state': {'terminated': {'containerID': 'containerd://9b14d5d119c587337fcdddabe54bb486eef72de6ff75b027ef4e363109ce7cf7', 'exitCode': 1, 'finishedAt': 1747898431.0, 'reason': 'Error', 'startedAt': 1747898429.0}}, 'volumeMounts': [{'mountPath': '/var/run/secrets/kubernetes.io/serviceaccount', 'name': 'kube-api-access-vcpx7', 'readOnly': True, 'recursiveReadOnly': 'Disabled'}]}], 'hostIP': '10.1.0.4', 'hostIPs': [{'ip': '10.1.0.4'}], 'phase': 'Failed', 'podIP': '192.168.0.123', 'podIPs': [{'ip': '192.168.0.123'}], 'qosClass': 'BestEffort', 'startTime': 1747898428.0}}], 'secret': {'secret': {'apiVersion': 'v1', 'kind': 'Secret', 'metadata': {'labels': {'dhcore/framework': 'k8sjob', 'app.kubernetes.io/managed-by': 'dhcore', 'app.kubernetes.io/part-of': 'dhcore-deforestation', 'dhcore/project': 'deforestation', 'dhcore/runtime': 'kfp', 'dhcore/run': '1d7285fbd80e460681c25bd68b4ac7b9', 'app.kubernetes.io/instance': 'dhcore-1d7285fbd80e460681c25bd68b4ac7b9', 'app.kubernetes.io/version': '1d7285fbd80e460681c25bd68b4ac7b9'}, 'name': 'sec-kfppipeline-1d7285fbd80e460681c25bd68b4ac7b9', 'namespace': 'digitalhub-tenant1'}}}}, 'metrics': {}}, 'user': 'khurshid@fbk.eu', 'project': 'deforestation', 'id': '1d7285fbd80e460681c25bd68b4ac7b9', 'name': '1d7285fbd80e460681c25bd68b4ac7b9', 'key': 'store://deforestation/run/kfp+run/1d7285fbd80e460681c25bd68b4ac7b9'}"
      ]
     },
     "execution_count": 17,
     "metadata": {},
     "output_type": "execute_result"
    }
   ],
   "source": [
    "workflow.run(action=\"build\", wait=True)"
   ]
  },
  {
   "cell_type": "code",
   "execution_count": 18,
   "id": "a6364f4d",
   "metadata": {},
   "outputs": [
    {
     "ename": "BadRequestError",
     "evalue": "Bad request. Response: {\"status\":400,\"message\":\"workflowSpec is null\",\"errorCode\":null}.",
     "output_type": "error",
     "traceback": [
      "\u001b[0;31m---------------------------------------------------------------------------\u001b[0m",
      "\u001b[0;31mHTTPError\u001b[0m                                 Traceback (most recent call last)",
      "File \u001b[0;32m/opt/conda/lib/python3.9/site-packages/digitalhub/stores/client/dhcore/error_parser.py:37\u001b[0m, in \u001b[0;36mErrorParser.parse\u001b[0;34m(response)\u001b[0m\n\u001b[1;32m     36\u001b[0m \u001b[38;5;28;01mtry\u001b[39;00m:\n\u001b[0;32m---> 37\u001b[0m     \u001b[43mresponse\u001b[49m\u001b[38;5;241;43m.\u001b[39;49m\u001b[43mraise_for_status\u001b[49m\u001b[43m(\u001b[49m\u001b[43m)\u001b[49m\n\u001b[1;32m     39\u001b[0m \u001b[38;5;66;03m# Backend errors\u001b[39;00m\n",
      "File \u001b[0;32m/opt/conda/lib/python3.9/site-packages/requests/models.py:1021\u001b[0m, in \u001b[0;36mResponse.raise_for_status\u001b[0;34m(self)\u001b[0m\n\u001b[1;32m   1020\u001b[0m \u001b[38;5;28;01mif\u001b[39;00m http_error_msg:\n\u001b[0;32m-> 1021\u001b[0m     \u001b[38;5;28;01mraise\u001b[39;00m HTTPError(http_error_msg, response\u001b[38;5;241m=\u001b[39m\u001b[38;5;28mself\u001b[39m)\n",
      "\u001b[0;31mHTTPError\u001b[0m: 400 Client Error:  for url: http://digitalhub-tenant1-core:8080/api/v1/-/deforestation/runs",
      "\nDuring handling of the above exception, another exception occurred:\n",
      "\u001b[0;31mBadRequestError\u001b[0m                           Traceback (most recent call last)",
      "Cell \u001b[0;32mIn [18], line 1\u001b[0m\n\u001b[0;32m----> 1\u001b[0m workflow_run \u001b[38;5;241m=\u001b[39m \u001b[43mworkflow\u001b[49m\u001b[38;5;241;43m.\u001b[39;49m\u001b[43mrun\u001b[49m\u001b[43m(\u001b[49m\u001b[43maction\u001b[49m\u001b[38;5;241;43m=\u001b[39;49m\u001b[38;5;124;43m\"\u001b[39;49m\u001b[38;5;124;43mpipeline\u001b[39;49m\u001b[38;5;124;43m\"\u001b[39;49m\u001b[43m,\u001b[49m\u001b[43m \u001b[49m\u001b[43mparameters\u001b[49m\u001b[38;5;241;43m=\u001b[39;49m\u001b[43m{\u001b[49m\n\u001b[1;32m      2\u001b[0m \u001b[43m    \u001b[49m\u001b[38;5;124;43m\"\u001b[39;49m\u001b[38;5;124;43mstartYear\u001b[39;49m\u001b[38;5;124;43m\"\u001b[39;49m\u001b[43m:\u001b[49m\u001b[43m \u001b[49m\u001b[38;5;241;43m2018\u001b[39;49m\u001b[43m,\u001b[49m\n\u001b[1;32m      3\u001b[0m \u001b[43m    \u001b[49m\u001b[38;5;124;43m\"\u001b[39;49m\u001b[38;5;124;43mendYear\u001b[39;49m\u001b[38;5;124;43m\"\u001b[39;49m\u001b[43m:\u001b[49m\u001b[43m \u001b[49m\u001b[38;5;241;43m2019\u001b[39;49m\u001b[43m,\u001b[49m\n\u001b[1;32m      4\u001b[0m \u001b[43m    \u001b[49m\u001b[38;5;124;43m\"\u001b[39;49m\u001b[38;5;124;43mgeometry\u001b[39;49m\u001b[38;5;124;43m\"\u001b[39;49m\u001b[43m:\u001b[49m\u001b[43m \u001b[49m\u001b[38;5;124;43m\"\u001b[39;49m\u001b[38;5;124;43mPOLYGON((10.98014831542969 45.455314263477874,11.030273437500002 45.44808893044964,10.99937438964844 45.42014226680115,10.953025817871096 45.435803739956725,10.98014831542969 45.455314263477874))\u001b[39;49m\u001b[38;5;124;43m\"\u001b[39;49m\u001b[43m,\u001b[49m\n\u001b[1;32m      5\u001b[0m \u001b[43m    \u001b[49m\u001b[38;5;124;43m\"\u001b[39;49m\u001b[38;5;124;43minput1\u001b[39;49m\u001b[38;5;124;43m\"\u001b[39;49m\u001b[43m:\u001b[49m\u001b[38;5;124;43m\"\u001b[39;49m\u001b[38;5;124;43mbosco\u001b[39;49m\u001b[38;5;124;43m\"\u001b[39;49m\u001b[43m,\u001b[49m\n\u001b[1;32m      6\u001b[0m \u001b[43m    \u001b[49m\u001b[38;5;124;43m'\u001b[39;49m\u001b[38;5;124;43minput2\u001b[39;49m\u001b[38;5;124;43m'\u001b[39;49m\u001b[43m:\u001b[49m\u001b[43m \u001b[49m\u001b[38;5;124;43m\"\u001b[39;49m\u001b[38;5;124;43mdata_s2_deforestation\u001b[39;49m\u001b[38;5;124;43m\"\u001b[39;49m\u001b[43m,\u001b[49m\n\u001b[1;32m      7\u001b[0m \u001b[43m    \u001b[49m\u001b[38;5;124;43m\"\u001b[39;49m\u001b[38;5;124;43moutputName\u001b[39;49m\u001b[38;5;124;43m\"\u001b[39;49m\u001b[43m:\u001b[49m\u001b[43m \u001b[49m\u001b[38;5;124;43m\"\u001b[39;49m\u001b[38;5;124;43mdeforestation_2018_19\u001b[39;49m\u001b[38;5;124;43m\"\u001b[39;49m\n\u001b[1;32m      8\u001b[0m \u001b[43m    \u001b[49m\u001b[43m}\u001b[49m\u001b[43m,\u001b[49m\n\u001b[1;32m      9\u001b[0m \u001b[43m    \u001b[49m\u001b[43mwait\u001b[49m\u001b[38;5;241;43m=\u001b[39;49m\u001b[38;5;28;43;01mTrue\u001b[39;49;00m\u001b[43m)\u001b[49m\n",
      "File \u001b[0;32m/opt/conda/lib/python3.9/site-packages/digitalhub/entities/workflow/_base/entity.py:86\u001b[0m, in \u001b[0;36mWorkflow.run\u001b[0;34m(self, action, wait, log_info, **kwargs)\u001b[0m\n\u001b[1;32m     84\u001b[0m \u001b[38;5;66;03m# Set as run's parent\u001b[39;00m\n\u001b[1;32m     85\u001b[0m run\u001b[38;5;241m.\u001b[39madd_relationship(Relationship\u001b[38;5;241m.\u001b[39mRUN_OF\u001b[38;5;241m.\u001b[39mvalue, \u001b[38;5;28mself\u001b[39m\u001b[38;5;241m.\u001b[39mkey)\n\u001b[0;32m---> 86\u001b[0m \u001b[43mrun\u001b[49m\u001b[38;5;241;43m.\u001b[39;49m\u001b[43msave\u001b[49m\u001b[43m(\u001b[49m\u001b[43m)\u001b[49m\n\u001b[1;32m     88\u001b[0m \u001b[38;5;28;01mif\u001b[39;00m wait:\n\u001b[1;32m     89\u001b[0m     \u001b[38;5;28;01mreturn\u001b[39;00m run\u001b[38;5;241m.\u001b[39mwait(log_info\u001b[38;5;241m=\u001b[39mlog_info)\n",
      "File \u001b[0;32m/opt/conda/lib/python3.9/site-packages/digitalhub/entities/_base/context/entity.py:56\u001b[0m, in \u001b[0;36mContextEntity.save\u001b[0;34m(self, update)\u001b[0m\n\u001b[1;32m     54\u001b[0m \u001b[38;5;28;01mif\u001b[39;00m update:\n\u001b[1;32m     55\u001b[0m     \u001b[38;5;28;01mreturn\u001b[39;00m \u001b[38;5;28mself\u001b[39m\u001b[38;5;241m.\u001b[39m_update()\n\u001b[0;32m---> 56\u001b[0m \u001b[38;5;28;01mreturn\u001b[39;00m \u001b[38;5;28;43mself\u001b[39;49m\u001b[38;5;241;43m.\u001b[39;49m\u001b[43m_save\u001b[49m\u001b[43m(\u001b[49m\u001b[43m)\u001b[49m\n",
      "File \u001b[0;32m/opt/conda/lib/python3.9/site-packages/digitalhub/entities/_base/context/entity.py:67\u001b[0m, in \u001b[0;36mContextEntity._save\u001b[0;34m(self)\u001b[0m\n\u001b[1;32m     58\u001b[0m \u001b[38;5;28;01mdef\u001b[39;00m \u001b[38;5;21m_save\u001b[39m(\u001b[38;5;28mself\u001b[39m) \u001b[38;5;241m-\u001b[39m\u001b[38;5;241m>\u001b[39m ContextEntity:\n\u001b[1;32m     59\u001b[0m     \u001b[38;5;124;03m\"\"\"\u001b[39;00m\n\u001b[1;32m     60\u001b[0m \u001b[38;5;124;03m    Save entity into backend.\u001b[39;00m\n\u001b[1;32m     61\u001b[0m \n\u001b[0;32m   (...)\u001b[0m\n\u001b[1;32m     65\u001b[0m \u001b[38;5;124;03m        Entity saved.\u001b[39;00m\n\u001b[1;32m     66\u001b[0m \u001b[38;5;124;03m    \"\"\"\u001b[39;00m\n\u001b[0;32m---> 67\u001b[0m     new_obj \u001b[38;5;241m=\u001b[39m \u001b[43mcontext_processor\u001b[49m\u001b[38;5;241;43m.\u001b[39;49m\u001b[43mcreate_context_entity\u001b[49m\u001b[43m(\u001b[49m\u001b[43m_entity\u001b[49m\u001b[38;5;241;43m=\u001b[39;49m\u001b[38;5;28;43mself\u001b[39;49m\u001b[43m)\u001b[49m\n\u001b[1;32m     68\u001b[0m     \u001b[38;5;28mself\u001b[39m\u001b[38;5;241m.\u001b[39m_update_attributes(new_obj)\n\u001b[1;32m     69\u001b[0m     \u001b[38;5;28;01mreturn\u001b[39;00m \u001b[38;5;28mself\u001b[39m\n",
      "File \u001b[0;32m/opt/conda/lib/python3.9/site-packages/digitalhub/entities/_processors/context.py:95\u001b[0m, in \u001b[0;36mContextEntityOperationsProcessor.create_context_entity\u001b[0;34m(self, _entity, **kwargs)\u001b[0m\n\u001b[1;32m     93\u001b[0m     context \u001b[38;5;241m=\u001b[39m get_context_from_project(kwargs[\u001b[38;5;124m\"\u001b[39m\u001b[38;5;124mproject\u001b[39m\u001b[38;5;124m\"\u001b[39m])\n\u001b[1;32m     94\u001b[0m     obj: ContextEntity \u001b[38;5;241m=\u001b[39m factory\u001b[38;5;241m.\u001b[39mbuild_entity_from_params(\u001b[38;5;241m*\u001b[39m\u001b[38;5;241m*\u001b[39mkwargs)\n\u001b[0;32m---> 95\u001b[0m new_obj \u001b[38;5;241m=\u001b[39m \u001b[38;5;28;43mself\u001b[39;49m\u001b[38;5;241;43m.\u001b[39;49m\u001b[43m_create_context_entity\u001b[49m\u001b[43m(\u001b[49m\u001b[43mcontext\u001b[49m\u001b[43m,\u001b[49m\u001b[43m \u001b[49m\u001b[43mobj\u001b[49m\u001b[38;5;241;43m.\u001b[39;49m\u001b[43mENTITY_TYPE\u001b[49m\u001b[43m,\u001b[49m\u001b[43m \u001b[49m\u001b[43mobj\u001b[49m\u001b[38;5;241;43m.\u001b[39;49m\u001b[43mto_dict\u001b[49m\u001b[43m(\u001b[49m\u001b[43m)\u001b[49m\u001b[43m)\u001b[49m\n\u001b[1;32m     96\u001b[0m \u001b[38;5;28;01mreturn\u001b[39;00m factory\u001b[38;5;241m.\u001b[39mbuild_entity_from_dict(new_obj)\n",
      "File \u001b[0;32m/opt/conda/lib/python3.9/site-packages/digitalhub/entities/_processors/context.py:69\u001b[0m, in \u001b[0;36mContextEntityOperationsProcessor._create_context_entity\u001b[0;34m(self, context, entity_type, entity_dict)\u001b[0m\n\u001b[1;32m     44\u001b[0m \u001b[38;5;124;03m\"\"\"\u001b[39;00m\n\u001b[1;32m     45\u001b[0m \u001b[38;5;124;03mCreate object in backend.\u001b[39;00m\n\u001b[1;32m     46\u001b[0m \n\u001b[0;32m   (...)\u001b[0m\n\u001b[1;32m     61\u001b[0m \u001b[38;5;124;03m    Object instance.\u001b[39;00m\n\u001b[1;32m     62\u001b[0m \u001b[38;5;124;03m\"\"\"\u001b[39;00m\n\u001b[1;32m     63\u001b[0m api \u001b[38;5;241m=\u001b[39m context\u001b[38;5;241m.\u001b[39mclient\u001b[38;5;241m.\u001b[39mbuild_api(\n\u001b[1;32m     64\u001b[0m     ApiCategories\u001b[38;5;241m.\u001b[39mCONTEXT\u001b[38;5;241m.\u001b[39mvalue,\n\u001b[1;32m     65\u001b[0m     BackendOperations\u001b[38;5;241m.\u001b[39mCREATE\u001b[38;5;241m.\u001b[39mvalue,\n\u001b[1;32m     66\u001b[0m     project\u001b[38;5;241m=\u001b[39mcontext\u001b[38;5;241m.\u001b[39mname,\n\u001b[1;32m     67\u001b[0m     entity_type\u001b[38;5;241m=\u001b[39mentity_type,\n\u001b[1;32m     68\u001b[0m )\n\u001b[0;32m---> 69\u001b[0m \u001b[38;5;28;01mreturn\u001b[39;00m \u001b[43mcontext\u001b[49m\u001b[38;5;241;43m.\u001b[39;49m\u001b[43mclient\u001b[49m\u001b[38;5;241;43m.\u001b[39;49m\u001b[43mcreate_object\u001b[49m\u001b[43m(\u001b[49m\u001b[43mapi\u001b[49m\u001b[43m,\u001b[49m\u001b[43m \u001b[49m\u001b[43mentity_dict\u001b[49m\u001b[43m)\u001b[49m\n",
      "File \u001b[0;32m/opt/conda/lib/python3.9/site-packages/digitalhub/stores/client/dhcore/client.py:83\u001b[0m, in \u001b[0;36mClientDHCore.create_object\u001b[0;34m(self, api, obj, **kwargs)\u001b[0m\n\u001b[1;32m     81\u001b[0m kwargs[\u001b[38;5;124m\"\u001b[39m\u001b[38;5;124mheaders\u001b[39m\u001b[38;5;124m\"\u001b[39m][\u001b[38;5;124m\"\u001b[39m\u001b[38;5;124mContent-Type\u001b[39m\u001b[38;5;124m\"\u001b[39m] \u001b[38;5;241m=\u001b[39m \u001b[38;5;124m\"\u001b[39m\u001b[38;5;124mapplication/json\u001b[39m\u001b[38;5;124m\"\u001b[39m\n\u001b[1;32m     82\u001b[0m kwargs[\u001b[38;5;124m\"\u001b[39m\u001b[38;5;124mdata\u001b[39m\u001b[38;5;124m\"\u001b[39m] \u001b[38;5;241m=\u001b[39m dump_json(obj)\n\u001b[0;32m---> 83\u001b[0m \u001b[38;5;28;01mreturn\u001b[39;00m \u001b[38;5;28;43mself\u001b[39;49m\u001b[38;5;241;43m.\u001b[39;49m\u001b[43m_prepare_call\u001b[49m\u001b[43m(\u001b[49m\u001b[38;5;124;43m\"\u001b[39;49m\u001b[38;5;124;43mPOST\u001b[39;49m\u001b[38;5;124;43m\"\u001b[39;49m\u001b[43m,\u001b[49m\u001b[43m \u001b[49m\u001b[43mapi\u001b[49m\u001b[43m,\u001b[49m\u001b[43m \u001b[49m\u001b[38;5;241;43m*\u001b[39;49m\u001b[38;5;241;43m*\u001b[39;49m\u001b[43mkwargs\u001b[49m\u001b[43m)\u001b[49m\n",
      "File \u001b[0;32m/opt/conda/lib/python3.9/site-packages/digitalhub/stores/client/dhcore/client.py:284\u001b[0m, in \u001b[0;36mClientDHCore._prepare_call\u001b[0;34m(self, call_type, api, **kwargs)\u001b[0m\n\u001b[1;32m    282\u001b[0m url \u001b[38;5;241m=\u001b[39m \u001b[38;5;28mself\u001b[39m\u001b[38;5;241m.\u001b[39m_configurator\u001b[38;5;241m.\u001b[39mbuild_url(api)\n\u001b[1;32m    283\u001b[0m kwargs \u001b[38;5;241m=\u001b[39m \u001b[38;5;28mself\u001b[39m\u001b[38;5;241m.\u001b[39m_configurator\u001b[38;5;241m.\u001b[39mset_request_auth(kwargs)\n\u001b[0;32m--> 284\u001b[0m \u001b[38;5;28;01mreturn\u001b[39;00m \u001b[38;5;28;43mself\u001b[39;49m\u001b[38;5;241;43m.\u001b[39;49m\u001b[43m_make_call\u001b[49m\u001b[43m(\u001b[49m\u001b[43mcall_type\u001b[49m\u001b[43m,\u001b[49m\u001b[43m \u001b[49m\u001b[43murl\u001b[49m\u001b[43m,\u001b[49m\u001b[43m \u001b[49m\u001b[38;5;241;43m*\u001b[39;49m\u001b[38;5;241;43m*\u001b[39;49m\u001b[43mkwargs\u001b[49m\u001b[43m)\u001b[49m\n",
      "File \u001b[0;32m/opt/conda/lib/python3.9/site-packages/digitalhub/stores/client/dhcore/client.py:316\u001b[0m, in \u001b[0;36mClientDHCore._make_call\u001b[0;34m(self, call_type, url, refresh_token, **kwargs)\u001b[0m\n\u001b[1;32m    313\u001b[0m     kwargs \u001b[38;5;241m=\u001b[39m \u001b[38;5;28mself\u001b[39m\u001b[38;5;241m.\u001b[39m_configurator\u001b[38;5;241m.\u001b[39mset_request_auth(kwargs)\n\u001b[1;32m    314\u001b[0m     \u001b[38;5;28;01mreturn\u001b[39;00m \u001b[38;5;28mself\u001b[39m\u001b[38;5;241m.\u001b[39m_make_call(call_type, url, refresh_token\u001b[38;5;241m=\u001b[39m\u001b[38;5;28;01mFalse\u001b[39;00m, \u001b[38;5;241m*\u001b[39m\u001b[38;5;241m*\u001b[39mkwargs)\n\u001b[0;32m--> 316\u001b[0m \u001b[38;5;28;43mself\u001b[39;49m\u001b[38;5;241;43m.\u001b[39;49m\u001b[43m_error_parser\u001b[49m\u001b[38;5;241;43m.\u001b[39;49m\u001b[43mparse\u001b[49m\u001b[43m(\u001b[49m\u001b[43mresponse\u001b[49m\u001b[43m)\u001b[49m\n\u001b[1;32m    317\u001b[0m \u001b[38;5;28;01mreturn\u001b[39;00m \u001b[38;5;28mself\u001b[39m\u001b[38;5;241m.\u001b[39m_dictify_response(response)\n",
      "File \u001b[0;32m/opt/conda/lib/python3.9/site-packages/digitalhub/stores/client/dhcore/error_parser.py:70\u001b[0m, in \u001b[0;36mErrorParser.parse\u001b[0;34m(response)\u001b[0m\n\u001b[1;32m     67\u001b[0m     \u001b[38;5;66;03m# Other errors\u001b[39;00m\n\u001b[1;32m     68\u001b[0m     \u001b[38;5;28;01melse\u001b[39;00m:\n\u001b[1;32m     69\u001b[0m         msg \u001b[38;5;241m=\u001b[39m \u001b[38;5;124mf\u001b[39m\u001b[38;5;124m\"\u001b[39m\u001b[38;5;124mBad request. \u001b[39m\u001b[38;5;132;01m{\u001b[39;00mtxt_resp\u001b[38;5;132;01m}\u001b[39;00m\u001b[38;5;124m\"\u001b[39m\n\u001b[0;32m---> 70\u001b[0m         \u001b[38;5;28;01mraise\u001b[39;00m BadRequestError(msg)\n\u001b[1;32m     72\u001b[0m \u001b[38;5;66;03m# Unauthorized errors\u001b[39;00m\n\u001b[1;32m     73\u001b[0m \u001b[38;5;28;01melif\u001b[39;00m response\u001b[38;5;241m.\u001b[39mstatus_code \u001b[38;5;241m==\u001b[39m \u001b[38;5;241m401\u001b[39m:\n",
      "\u001b[0;31mBadRequestError\u001b[0m: Bad request. Response: {\"status\":400,\"message\":\"workflowSpec is null\",\"errorCode\":null}."
     ]
    }
   ],
   "source": [
    "workflow_run = workflow.run(action=\"pipeline\", parameters={\n",
    "    \"startYear\": 2018,\n",
    "    \"endYear\": 2019,\n",
    "    \"geometry\": \"POLYGON((10.98014831542969 45.455314263477874,11.030273437500002 45.44808893044964,10.99937438964844 45.42014226680115,10.953025817871096 45.435803739956725,10.98014831542969 45.455314263477874))\",\n",
    "    \"input1\":\"bosco\",\n",
    "    'input2': \"data_s2_deforestation\",\n",
    "    \"outputName\": \"deforestation_2018_19\"\n",
    "    },\n",
    "    wait=True)"
   ]
  },
  {
   "cell_type": "code",
   "execution_count": null,
   "id": "2b440b13",
   "metadata": {},
   "outputs": [],
   "source": []
  }
 ],
 "metadata": {
  "kernelspec": {
   "display_name": "Python 3 (ipykernel)",
   "language": "python",
   "name": "python3"
  },
  "language_info": {
   "codemirror_mode": {
    "name": "ipython",
    "version": 3
   },
   "file_extension": ".py",
   "mimetype": "text/x-python",
   "name": "python",
   "nbconvert_exporter": "python",
   "pygments_lexer": "ipython3",
   "version": "3.9.13"
  }
 },
 "nbformat": 4,
 "nbformat_minor": 5
}
