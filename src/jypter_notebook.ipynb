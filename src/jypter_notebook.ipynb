{
 "cells": [
  {
   "cell_type": "markdown",
   "id": "d470c258",
   "metadata": {},
   "source": [
    "# TODO GO to KRM and create a volume first with name \"volume-sentinel\"\n",
    "\n",
    "In krm create first a volume otherwise the RUN is stuck waiting for the volume\n",
    "persisten_volume_claim specs:\n",
    "- volume_name : volume-sentinel # this name is to be equal to the \"name parameter inside volumes during the run of the function\"\n",
    "- space : 15Gbi\n",
    "- storage_class_name: #disk\n",
    "- access_mode: readWriteOnce\n",
    "\n",
    "If you have any doubts on the params check the README.md inside https://github.com/tn-aixpa/sentinel-tools "
   ]
  },
  {
   "cell_type": "code",
   "execution_count": 1,
   "id": "22976efc-003a-4170-bcf0-6a33ac84e76a",
   "metadata": {},
   "outputs": [],
   "source": [
    "import digitalhub as dh\n",
    "# conda install -c conda-forge gdal\n",
    "PROJECT_NAME = \"deforestation\"\n",
    "proj = dh.get_or_create_project(PROJECT_NAME) # source=\"git://github.com/scc-digitalhu"
   ]
  },
  {
   "cell_type": "markdown",
   "id": "246d5c4d",
   "metadata": {},
   "source": [
    "Register to the open data space copenicus(if not already) and get your credentials.\n",
    "\n",
    "https://identity.dataspace.copernicus.eu/auth/realms/CDSE/login-actions/registration?client_id=cdse-public&tab_id=FIiRPJeoiX4\n",
    "\n",
    "Log the credentials as project secret keys as shown below"
   ]
  },
  {
   "cell_type": "code",
   "execution_count": 2,
   "id": "cbb91e46",
   "metadata": {},
   "outputs": [],
   "source": [
    "# THIS NEED TO BE EXECUTED JUST ONCE\n",
    "secret0 = proj.new_secret(name=\"CDSETOOL_ESA_USER\", secret_value=\"esa_username\")\n",
    "secret1 = proj.new_secret(name=\"CDSETOOL_ESA_PASSWORD\", secret_value=\"esa_password\")"
   ]
  },
  {
   "cell_type": "markdown",
   "id": "29a61c81",
   "metadata": {},
   "source": [
    "### Download data from Sentinel 2"
   ]
  },
  {
   "cell_type": "code",
   "execution_count": 3,
   "id": "c49ced7c",
   "metadata": {},
   "outputs": [],
   "source": [
    "string_dict_data = \"\"\"{\n",
    " \"satelliteParams\":{\n",
    "     \"satelliteType\": \"Sentinel2\"\n",
    " },\n",
    " \"startDate\": \"2018-01-01\",\n",
    " \"endDate\": \"2019-12-31\",\n",
    " \"geometry\": \"POLYGON((10.98014831542969 45.455314263477874,11.030273437500002 45.44808893044964,10.99937438964844 45.42014226680115,10.953025817871096 45.435803739956725,10.98014831542969 45.455314263477874))\",\n",
    " \"area_sampling\": \"true\",\n",
    " \"cloudCover\": \"[0,20]\",\n",
    " \"artifact_name\": \"data_s2_deforestation\" \n",
    " }\"\"\"\n",
    "\n",
    "list_args =  [\"main.py\",string_dict_data]\n"
   ]
  },
  {
   "cell_type": "code",
   "execution_count": null,
   "id": "9e5a0007-e805-4955-b112-451d8eac637a",
   "metadata": {},
   "outputs": [],
   "source": [
    "function_s2 = proj.new_function(\"download_images_s2\",kind=\"container\",image=\"ghcr.io/tn-aixpa/sentinel-tools:0.11.1_dev\",command=\"python\")"
   ]
  },
  {
   "cell_type": "code",
   "execution_count": null,
   "id": "a3c0cfdf",
   "metadata": {},
   "outputs": [],
   "source": [
    "run = function_s2.run(\n",
    "    action=\"job\",\n",
    "    secrets=[\"CDSETOOL_ESA_USER\",\"CDSETOOL_ESA_PASSWORD\"],\n",
    "    fs_group='8877',\n",
    "    args=[\"main.py\", string_dict_data],\n",
    "    resources={\"cpu\": {\"requests\": \"3\", \"limits\": \"6\"},\"mem\":{\"requests\": \"32Gi\", \"limits\": \"64Gi\"}},\n",
    "    volumes=[{\n",
    "        \"volume_type\": \"persistent_volume_claim\",\n",
    "        \"name\": \"volume-deforestation\",\n",
    "        \"mount_path\": \"/app/files\",\n",
    "        \"spec\": {\n",
    "             \"size\": \"350Gi\" \n",
    "        }\n",
    "    }])"
   ]
  },
  {
   "cell_type": "code",
   "execution_count": null,
   "id": "2dd8bc1d-9695-4945-8d18-50fc6e4727ca",
   "metadata": {},
   "outputs": [],
   "source": [
    "run.refresh().status.state"
   ]
  },
  {
   "cell_type": "code",
   "execution_count": 3,
   "id": "2a26dc06-62ba-479c-81cb-b6f7e1732e6d",
   "metadata": {},
   "outputs": [],
   "source": [
    "artifact = proj.get_artifact('data')"
   ]
  },
  {
   "cell_type": "markdown",
   "id": "cb5d1d27-54e4-4810-8466-d8f040682d4d",
   "metadata": {
    "scrolled": true
   },
   "source": [
    "### Perform Data Elaboration on RS-Tool"
   ]
  },
  {
   "cell_type": "code",
   "execution_count": 5,
   "id": "f4a857ec-04bc-4c6e-ae4b-4c6366221690",
   "metadata": {},
   "outputs": [],
   "source": [
    "artifact_name='bosco'\n",
    "src_path='bosco'\n",
    "artifact_bosco = proj.log_artifact(name=artifact_name, kind=\"artifact\", source=src_path)"
   ]
  },
  {
   "cell_type": "code",
   "execution_count": 4,
   "id": "75cce63e-b905-4041-844e-f82dde6e49a4",
   "metadata": {},
   "outputs": [],
   "source": [
    "# artifact_name='data'\n",
    "# src_path='data'\n",
    "# artifact_data = proj.log_artifact(name=artifact_name, kind=\"artifact\", source=src_path)"
   ]
  },
  {
   "cell_type": "code",
   "execution_count": 6,
   "id": "c744ddba-b96a-4d86-a006-b0a5ae40441a",
   "metadata": {},
   "outputs": [],
   "source": [
    "function_rs = proj.new_function(\"elaborate\",kind=\"container\", image=\"ghcr.io/tn-aixpa/rs-deforestation:2.6_b4\", command=\"/bin/bash\", code_src=\"launch.sh\")"
   ]
  },
  {
   "cell_type": "code",
   "execution_count": null,
   "id": "69eebdf5-3aed-4754-b16d-951b238dc7ce",
   "metadata": {},
   "outputs": [],
   "source": [
    "#function_rs = proj.get_function(\"elaborate\")"
   ]
  },
  {
   "cell_type": "code",
   "execution_count": null,
   "id": "eb92c2a0-795b-4e51-964f-3f32a30c6b1b",
   "metadata": {},
   "outputs": [],
   "source": [
    "run_el = function_rs.run(\n",
    "    action=\"job\",\n",
    "    fs_group='8877',\n",
    "    resources={\"cpu\": {\"requests\": \"3\"},\"mem\":{\"requests\": \"16Gi\"}},\n",
    "    volumes=[{\n",
    "        \"volume_type\": \"persistent_volume_claim\",\n",
    "        \"name\": \"volume-deforestation\",\n",
    "        \"mount_path\": \"/app/files\",\n",
    "        \"spec\": { \"size\": \"5Gi\" }\n",
    "    }],\n",
    "    args=['/shared/launch.sh', 'bosco', 'data_s2_deforestation', '[2018,2019]',  'deforestation_2018_19']\n",
    ")"
   ]
  },
  {
   "cell_type": "code",
   "execution_count": 11,
   "id": "5167a61b-8d5e-4b12-9928-ffca97ccb93a",
   "metadata": {},
   "outputs": [
    {
     "data": {
      "text/plain": [
       "'RUNNING'"
      ]
     },
     "execution_count": 11,
     "metadata": {},
     "output_type": "execute_result"
    }
   ],
   "source": [
    "run_el.refresh().status.state"
   ]
  },
  {
   "cell_type": "markdown",
   "id": "ea47995d-3fa9-448b-a6b7-21d597f56dca",
   "metadata": {},
   "source": [
    "### Pipeline"
   ]
  },
  {
   "cell_type": "code",
   "execution_count": null,
   "id": "f859a4d0-31fa-447d-95ff-0b961c4daaa5",
   "metadata": {},
   "outputs": [
    {
     "name": "stdout",
     "output_type": "stream",
     "text": [
      "Overwriting deforestation_pipeline.py\n"
     ]
    }
   ],
   "source": [
    "%%writefile \"deforestation_pipeline.py\"\n",
    "\n",
    "from digitalhub_runtime_kfp.dsl import pipeline_context\n",
    "\n",
    "def myhandler(startYear, endYear, geometry, input1, input2, outputName):\n",
    "    with pipeline_context() as pc:\n",
    "        string_dict_data = \"\"\"{\"satelliteParams\":{\"satelliteType\":\"Sentinel2\"},\"startDate\":\\\"\"\"\"+ str(startYear) + \"\"\"-01-01\\\",\"endDate\": \\\"\"\"\" + str(endYear) + \"\"\"-12-31\\\",\"geometry\": \\\"\"\"\" + str(geometry) + \"\"\"\\\",\"area_sampling\":\"true\",\"cloudCover\":\"[0,20]\",\"artifact_name\":\"data_s2_deforestation\"}\"\"\"\n",
    "        s1 = pc.step(name=\"download\",\n",
    "                     function=\"download_images_s2\",\n",
    "                     action=\"job\",\n",
    "                     secrets=[\"CDSETOOL_ESA_USER\",\"CDSETOOL_ESA_PASSWORD\"],\n",
    "                     fs_group='8877',\n",
    "                     args=[\"main.py\", string_dict_data],\n",
    "                     volumes=[{\n",
    "                        \"volume_type\": \"persistent_volume_claim\",\n",
    "                        \"name\": \"volume-deforestation\",\n",
    "                        \"mount_path\": \"/app/files\",\n",
    "                        \"spec\": { \"size\": \"250Gi\" }\n",
    "                        }\n",
    "                    ])\n",
    "        s2 = pc.step(name=\"elaborate\",\n",
    "                     function=\"elaborate\",\n",
    "                     action=\"job\",\n",
    "                     fs_group='8877',\n",
    "                     resources={\"cpu\": {\"requests\": \"6\", \"limits\": \"12\"},\"mem\":{\"requests\": \"32Gi\", \"limits\": \"64Gi\"}},\n",
    "                     volumes=[{\n",
    "                        \"volume_type\": \"persistent_volume_claim\",\n",
    "                        \"name\": \"volume-deforestation\",\n",
    "                        \"mount_path\": \"/app/files\",\n",
    "                        \"spec\": { \"size\": \"250Gi\" }\n",
    "                    }],\n",
    "                     args=['/shared/launch.sh', str(input1), 'data_s2_deforestation', \"[\" + str(startYear) + ',' + str(endYear) + \"]\", str(outputName)]\n",
    "                     ).after(s1)\n",
    "     \n"
   ]
  },
  {
   "cell_type": "code",
   "execution_count": 24,
   "id": "2ff74531-65f7-4f4d-a283-f1dac73a2de5",
   "metadata": {},
   "outputs": [],
   "source": [
    "workflow = proj.new_workflow(name=\"pipeline_deforestation\", kind=\"kfp\", code_src= \"deforestation_pipeline.py\", handler = \"myhandler\")"
   ]
  },
  {
   "cell_type": "code",
   "execution_count": 25,
   "id": "5215a014-7342-4e9e-ba12-9d31b49cd44d",
   "metadata": {},
   "outputs": [
    {
     "name": "stderr",
     "output_type": "stream",
     "text": [
      "2025-05-29 10:59:47,739 - INFO - Waiting for run 59ec379cbb814a409f6a044f7ae2c41c to finish...\n",
      "2025-05-29 10:59:52,782 - INFO - Waiting for run 59ec379cbb814a409f6a044f7ae2c41c to finish...\n",
      "2025-05-29 10:59:57,823 - INFO - Waiting for run 59ec379cbb814a409f6a044f7ae2c41c to finish...\n",
      "2025-05-29 11:00:02,886 - INFO - Run 59ec379cbb814a409f6a044f7ae2c41c finished in 15.15 seconds.\n"
     ]
    }
   ],
   "source": [
    "wfbuild = workflow.run(action=\"build\", wait=True)"
   ]
  },
  {
   "cell_type": "code",
   "execution_count": null,
   "id": "1bf170e2-0835-4dc8-85ac-1121aafaaf42",
   "metadata": {},
   "outputs": [],
   "source": [
    "workflow_run = workflow.run(action=\"pipeline\", parameters={\n",
    "    \"startYear\": 2018,\n",
    "    \"endYear\": 2019,\n",
    "    \"geometry\": \"POLYGON ((10.71297105232361 46.091369896369656, 10.71297105232361 45.91562543985691, 11.096755162591023 45.91562543985691, 11.096755162591023 46.091369896369656, 10.71297105232361 46.091369896369656))\",\n",
    "    \"input1\":\"bosco\",\n",
    "    'input2': \"data_s2_deforestation\",\n",
    "    \"outputName\": \"deforestation_2018_19\"\n",
    "    })"
   ]
  },
  {
   "cell_type": "code",
   "execution_count": null,
   "id": "b9dcd68d-2196-4e35-9fb2-3ba860721089",
   "metadata": {},
   "outputs": [],
   "source": []
  }
 ],
 "metadata": {
  "kernelspec": {
   "display_name": ".conda",
   "language": "python",
   "name": "python3"
  },
  "language_info": {
   "codemirror_mode": {
    "name": "ipython",
    "version": 3
   },
   "file_extension": ".py",
   "mimetype": "text/x-python",
   "name": "python",
   "nbconvert_exporter": "python",
   "pygments_lexer": "ipython3",
   "version": "3.10.16"
  }
 },
 "nbformat": 4,
 "nbformat_minor": 5
}
