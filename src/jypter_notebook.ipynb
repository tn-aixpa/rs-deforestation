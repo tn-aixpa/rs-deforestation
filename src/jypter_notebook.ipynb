{
 "cells": [
  {
   "cell_type": "markdown",
   "id": "d470c258",
   "metadata": {},
   "source": [
    "# TODO GO to KRM and create a volume first with name \"volume-sentinel\"\n",
    "\n",
    "In krm create first a volume otherwise the RUN is stuck waiting for the volume\n",
    "persisten_volume_claim specs:\n",
    "- volume_name : volume-sentinel # this name is to be equal to the \"name parameter inside volumes during the run of the function\"\n",
    "- space : 15Gbi\n",
    "- storage_class_name: #disk\n",
    "- access_mode: readWriteOnce\n",
    "\n",
    "If you have any doubts on the params check the README.md inside https://github.com/tn-aixpa/sentinel-tools "
   ]
  },
  {
   "cell_type": "code",
   "execution_count": 1,
   "id": "22976efc-003a-4170-bcf0-6a33ac84e76a",
   "metadata": {},
   "outputs": [],
   "source": [
    "import digitalhub as dh\n",
    "# conda install -c conda-forge gdal\n",
    "PROJECT_NAME = \"deforestation\"\n",
    "proj = dh.get_or_create_project(PROJECT_NAME) # source=\"git://github.com/scc-digitalhu"
   ]
  },
  {
   "cell_type": "markdown",
   "id": "246d5c4d",
   "metadata": {},
   "source": [
    "Register to the open data space copenicus(if not already) and get your credentials.\n",
    "\n",
    "https://identity.dataspace.copernicus.eu/auth/realms/CDSE/login-actions/registration?client_id=cdse-public&tab_id=FIiRPJeoiX4\n",
    "\n",
    "Log the credentials as project secret keys as shown below"
   ]
  },
  {
   "cell_type": "code",
   "execution_count": 2,
   "id": "cbb91e46",
   "metadata": {},
   "outputs": [],
   "source": [
    "# THIS NEED TO BE EXECUTED JUST ONCE\n",
    "secret0 = proj.new_secret(name=\"CDSETOOL_ESA_USER\", secret_value=\"esa_username\")\n",
    "secret1 = proj.new_secret(name=\"CDSETOOL_ESA_PASSWORD\", secret_value=\"esa_password\")"
   ]
  },
  {
   "cell_type": "markdown",
   "id": "29a61c81",
   "metadata": {},
   "source": [
    "### Download data from Sentinel 2"
   ]
  },
  {
   "cell_type": "code",
   "execution_count": null,
   "id": "c49ced7c",
   "metadata": {},
   "outputs": [],
   "source": [
    "string_dict_data = \"\"\"{\n",
    " \"satelliteParams\":{\n",
    "     \"satelliteType\": \"Sentinel2\"\n",
    " },\n",
    " \"startDate\": \"2018-01-01\",\n",
    " \"endDate\": \"2019-12-31\",\n",
    " \"geometry\": \"POLYGON((10.98014831542969 45.455314263477874,11.030273437500002 45.44808893044964,10.99937438964844 45.42014226680115,10.953025817871096 45.435803739956725,10.98014831542969 45.455314263477874))\",\n",
    " \"area_sampling\": \"true\",\n",
    " \"cloudCover\": \"[0,20]\",\n",
    " \"artifact_name\": \"data_s2_deforestation\" \n",
    " }\"\"\"\n",
    "\n",
    "list_args =  [\"main.py\",string_dict_data]\n",
    "function_s2 = proj.new_function(\"download_images_s2\",kind=\"container\",image=\"ghcr.io/tn-aixpa/sentinel-tools:0.11.0_dev\",command=\"python\")"
   ]
  },
  {
   "cell_type": "code",
   "execution_count": null,
   "id": "a3c0cfdf",
   "metadata": {},
   "outputs": [],
   "source": [
    "run = function_s2.run(\n",
    "    action=\"job\",\n",
    "    secrets=[\"CDSETOOL_ESA_USER\",\"CDSETOOL_ESA_PASSWORD\"],\n",
    "    fs_group='8877',\n",
    "    args=[\"main.py\", string_dict_data],\n",
    "    profile=\"1xa100\",\n",
    "    volumes=[{\n",
    "        \"volume_type\": \"persistent_volume_claim\",\n",
    "        \"name\": \"volume-deforestation\",\n",
    "        \"mount_path\": \"/app/files\",\n",
    "        \"spec\": {\n",
    "             \"size\": \"350Gi\" \n",
    "        }\n",
    "    }])"
   ]
  },
  {
   "cell_type": "code",
   "execution_count": null,
   "id": "2dd8bc1d-9695-4945-8d18-50fc6e4727ca",
   "metadata": {},
   "outputs": [],
   "source": [
    "run.refresh().status.state"
   ]
  },
  {
   "cell_type": "code",
   "execution_count": 3,
   "id": "2a26dc06-62ba-479c-81cb-b6f7e1732e6d",
   "metadata": {},
   "outputs": [],
   "source": [
    "artifact = proj.get_artifact('data')"
   ]
  },
  {
   "cell_type": "markdown",
   "id": "cb5d1d27-54e4-4810-8466-d8f040682d4d",
   "metadata": {
    "scrolled": true
   },
   "source": [
    "### Perform Data Elaboration on RS-Tool"
   ]
  },
  {
   "cell_type": "code",
   "execution_count": null,
   "id": "f4a857ec-04bc-4c6e-ae4b-4c6366221690",
   "metadata": {},
   "outputs": [],
   "source": [
    "artifact_name='bosco'\n",
    "src_path='bosco'\n",
    "artifact_bosco = proj.log_artifact(name=artifact_name, kind=\"artifact\", source=src_path)"
   ]
  },
  {
   "cell_type": "code",
   "execution_count": 7,
   "id": "75cce63e-b905-4041-844e-f82dde6e49a4",
   "metadata": {},
   "outputs": [],
   "source": [
    "artifact_name='data'\n",
    "src_path='data'\n",
    "artifact_data = proj.log_artifact(name=artifact_name, kind=\"artifact\", source=src_path)"
   ]
  },
  {
   "cell_type": "code",
   "execution_count": null,
   "id": "c744ddba-b96a-4d86-a006-b0a5ae40441a",
   "metadata": {},
   "outputs": [],
   "source": [
    "function_rs = proj.new_function(\"elaborate\",kind=\"container\", image=\"ghcr.io/tn-aixpa/rs-deforestation:0.1_beta3\", code_src=\"launch.sh\")"
   ]
  },
  {
   "cell_type": "code",
   "execution_count": 9,
   "id": "69eebdf5-3aed-4754-b16d-951b238dc7ce",
   "metadata": {},
   "outputs": [],
   "source": [
    "function_rs = proj.get_function(\"elaborate\")"
   ]
  },
  {
   "cell_type": "code",
   "execution_count": null,
   "id": "eb92c2a0-795b-4e51-964f-3f32a30c6b1b",
   "metadata": {},
   "outputs": [],
   "source": [
    "run_el = function_rs.run(\n",
    "    action=\"job\",\n",
    "    secrets=[\"CDSETOOL_ESA_USER\",\"CDSETOOL_ESA_PASSWORD\"],\n",
    "    fs_group='8877',\n",
    "    args=[\"main.py\", string_dict_data],\n",
    "    profile=\"1xa100\",\n",
    "    volumes=[{\n",
    "        \"volume_type\": \"persistent_volume_claim\",\n",
    "        \"name\": \"volume-deforestation\",\n",
    "        \"mount_path\": \"/app/files\",\n",
    "        \"spec\": { \"size\": \"350Gi\" }\n",
    "    }\n",
    "])"
   ]
  },
  {
   "cell_type": "code",
   "execution_count": 11,
   "id": "5167a61b-8d5e-4b12-9928-ffca97ccb93a",
   "metadata": {},
   "outputs": [
    {
     "data": {
      "text/plain": [
       "'RUNNING'"
      ]
     },
     "execution_count": 11,
     "metadata": {},
     "output_type": "execute_result"
    }
   ],
   "source": [
    "run_el.refresh().status.state"
   ]
  },
  {
   "cell_type": "markdown",
   "id": "ea47995d-3fa9-448b-a6b7-21d597f56dca",
   "metadata": {},
   "source": [
    "### Pipeline"
   ]
  },
  {
   "cell_type": "code",
   "execution_count": null,
   "id": "f859a4d0-31fa-447d-95ff-0b961c4daaa5",
   "metadata": {},
   "outputs": [
    {
     "name": "stdout",
     "output_type": "stream",
     "text": [
      "Overwriting deforestation_pipeline.py\n"
     ]
    }
   ],
   "source": [
    "%%writefile \"deforestation_pipeline.py\"\n",
    "\n",
    "from digitalhub_runtime_kfp.dsl import pipeline_context\n",
    "\n",
    "def myhandler(startYear, endYear, geometry, input1, input2, outputName):\n",
    "    with pipeline_context() as pc:\n",
    "        string_dict_data = \"\"\"{\"satelliteParams\":{\"satelliteType\":\"Sentinel2\"},\"startDate\":\\\"\"\"\"+ str(startYear) + \"\"\"-01-01\\\",\"endDate\": \\\"\"\"\" + str(endYear) + \"\"\"-12-31\\\",\"geometry\": \\\"\"\"\" + str(geometry) + \"\"\"\\\",\"area_sampling\":\"true\",\"cloudCover\":\"[0,20]\",\"artifact_name\":\"data_s2_deforestation\"}\"\"\"\n",
    "        s1 = pc.step(name=\"download\",\n",
    "                     function=\"download_images_s2\",\n",
    "                     action=\"job\",\n",
    "                     secrets=[\"CDSETOOL_ESA_USER\",\"CDSETOOL_ESA_PASSWORD\"],\n",
    "                     fs_group='8877',\n",
    "                     args=[\"main.py\", string_dict_data],\n",
    "                     profile=\"1xa100\",\n",
    "                     volumes=[{\n",
    "                        \"volume_type\": \"persistent_volume_claim\",\n",
    "                        \"name\": \"volume-deforestation\",\n",
    "                        \"mount_path\": \"/app/files\",\n",
    "                        \"spec\": { \"size\": \"350Gi\" }\n",
    "                        }\n",
    "                    ])\n",
    "        s2 = pc.step(name=\"elaborate\",\n",
    "                     function=\"elaborate\",\n",
    "                     action=\"job\",\n",
    "                     fs_group='8877',\n",
    "                     resources={\"cpu\": {\"requests\": \"3\"},\"mem\":{\"requests\": \"16Gi\"}},\n",
    "                     profile=\"1xa100\",\n",
    "                     volumes=[{\n",
    "                        \"volume_type\": \"persistent_volume_claim\",\n",
    "                        \"name\": \"volume-deforestation\",\n",
    "                        \"mount_path\": \"/app/files\",\n",
    "                        \"spec\": { \"size\": \"5Gi\" }\n",
    "                    }],\n",
    "                     args=['/shared/launch.sh', str(input1), 'data_s2_deforestation', \"[\" + str(startYear) + ',' + str(endYear) + \"]\", str(outputName)]\n",
    "                     ).after(s1)\n",
    "     \n"
   ]
  },
  {
   "cell_type": "code",
   "execution_count": null,
   "id": "2ff74531-65f7-4f4d-a283-f1dac73a2de5",
   "metadata": {},
   "outputs": [],
   "source": [
    "workflow = proj.new_workflow(name=\"pipeline_deforestation\", kind=\"kfp\", code_src= \"deforestation_pipeline.py\", handler = \"myhandler\")"
   ]
  },
  {
   "cell_type": "code",
   "execution_count": null,
   "id": "5215a014-7342-4e9e-ba12-9d31b49cd44d",
   "metadata": {},
   "outputs": [
    {
     "name": "stderr",
     "output_type": "stream",
     "text": [
      "2025-05-23 08:28:19,691 - INFO - Waiting for run 5eaa405fbae64195b4739f1db4571124 to finish...\n",
      "2025-05-23 08:28:24,743 - INFO - Waiting for run 5eaa405fbae64195b4739f1db4571124 to finish...\n",
      "2025-05-23 08:28:29,781 - INFO - Waiting for run 5eaa405fbae64195b4739f1db4571124 to finish...\n",
      "2025-05-23 08:28:34,816 - INFO - Waiting for run 5eaa405fbae64195b4739f1db4571124 to finish...\n",
      "2025-05-23 08:28:39,847 - INFO - Run 5eaa405fbae64195b4739f1db4571124 finished in 20.16 seconds.\n"
     ]
    },
    {
     "data": {
      "text/plain": [
       "{'kind': 'kfp+run', 'metadata': {'project': 'deforestation', 'name': '5eaa405fbae64195b4739f1db4571124', 'created': '2025-05-23T08:28:19.629Z', 'updated': '2025-05-23T08:28:32.078Z', 'created_by': 'khurshid@fbk.eu', 'updated_by': 'khurshid@fbk.eu', 'relationships': [{'type': 'run_of', 'dest': 'store://deforestation/workflow/kfp/pipeline_deforestation:7608fa0f3da8490fa4b7d2efa3697275'}]}, 'spec': {'task': 'kfp+build://deforestation/1bb1086e1718404591ae6cdf208e5246', 'local_execution': False, 'workflow': 'kfp://deforestation/pipeline_deforestation:7608fa0f3da8490fa4b7d2efa3697275', 'source': {'source': 'deforestation_pipeline.py', 'handler': 'myhandler', 'base64': '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', 'lang': 'python'}, 'inputs': {}, 'outputs': {}, 'parameters': {}}, 'status': {'state': 'COMPLETED', 'transitions': [{'status': 'COMPLETED', 'time': '2025-05-23T08:28:32.049536567Z'}, {'status': 'RUNNING', 'time': '2025-05-23T08:28:19.764146081Z'}, {'status': 'READY', 'time': '2025-05-23T08:28:19.685425963Z'}, {'status': 'BUILT', 'time': '2025-05-23T08:28:19.635019061Z'}], 'k8s': {'job': {'metadata': {'creationTimestamp': 1747988899.0, 'generation': 1, 'labels': {'app.kubernetes.io/instance': 'dhcore-5eaa405fbae64195b4739f1db4571124', 'app.kubernetes.io/managed-by': 'dhcore', 'app.kubernetes.io/part-of': 'dhcore-deforestation', 'app.kubernetes.io/version': '5eaa405fbae64195b4739f1db4571124', 'dhcore/framework': 'k8sjob', 'dhcore/project': 'deforestation', 'dhcore/run': '5eaa405fbae64195b4739f1db4571124', 'dhcore/runtime': 'kfp'}, 'managedFields': [{'apiVersion': 'batch/v1', 'fieldsType': 'FieldsV1', 'manager': 'Kubernetes Java Client', 'operation': 'Update', 'time': 1747988899.0}, {'apiVersion': 'batch/v1', 'fieldsType': 'FieldsV1', 'manager': 'kube-controller-manager', 'operation': 'Update', 'subresource': 'status', 'time': 1747988905.0}], 'name': 'j-kfppipeline-5eaa405fbae64195b4739f1db4571124', 'namespace': 'digitalhub-tenant1', 'resourceVersion': '204836', 'uid': 'ee90c0ee-546a-4af7-a73f-341ad66f950e'}, 'apiVersion': 'batch/v1', 'kind': 'Job', 'spec': {'activeDeadlineSeconds': 604800, 'backoffLimit': 0, 'completionMode': 'NonIndexed', 'completions': 1, 'manualSelector': False, 'parallelism': 1, 'podReplacementPolicy': 'TerminatingOrFailed', 'selector': {'matchLabels': {'batch.kubernetes.io/controller-uid': 'ee90c0ee-546a-4af7-a73f-341ad66f950e'}}, 'suspend': False, 'template': {'metadata': {'labels': {'app.kubernetes.io/instance': 'dhcore-5eaa405fbae64195b4739f1db4571124', 'app.kubernetes.io/managed-by': 'dhcore', 'app.kubernetes.io/part-of': 'dhcore-deforestation', 'app.kubernetes.io/version': '5eaa405fbae64195b4739f1db4571124', 'batch.kubernetes.io/controller-uid': 'ee90c0ee-546a-4af7-a73f-341ad66f950e', 'batch.kubernetes.io/job-name': 'j-kfppipeline-5eaa405fbae64195b4739f1db4571124', 'controller-uid': 'ee90c0ee-546a-4af7-a73f-341ad66f950e', 'dhcore/framework': 'k8sjob', 'dhcore/project': 'deforestation', 'dhcore/run': '5eaa405fbae64195b4739f1db4571124', 'dhcore/runtime': 'kfp', 'job-name': 'j-kfppipeline-5eaa405fbae64195b4739f1db4571124'}, 'name': 'j-kfppipeline-5eaa405fbae64195b4739f1db4571124'}, 'spec': {'containers': [{'args': ['wrapper.py'], 'command': ['python'], 'env': [{'name': 'S3_BUCKET', 'valueFrom': {'configMapKeyRef': {'key': 'S3_BUCKET', 'name': 'digitalhub-common-env'}}}, {'name': 'DB_PORT', 'valueFrom': {'configMapKeyRef': {'key': 'DB_PORT', 'name': 'digitalhub-common-env'}}}, {'name': 'DIGITALHUB_CORE_WORKFLOW_IMAGE', 'value': 'ghcr.io/scc-digitalhub/digitalhub-sdk-wrapper-kfp/wrapper-kfp:latest'}, {'name': 'DHCORE_NAMESPACE', 'value': 'digitalhub-tenant1'}, {'name': 'DHCORE_ISSUER', 'valueFrom': {'configMapKeyRef': {'key': 'DHCORE_ISSUER', 'name': 'digitalhub-common-env'}}}, {'name': 'DB_HOST', 'valueFrom': {'configMapKeyRef': {'key': 'DB_HOST', 'name': 'digitalhub-common-env'}}}, {'name': 'PROJECT_NAME', 'value': 'deforestation'}, {'name': 'RUN_ID', 'value': '5eaa405fbae64195b4739f1db4571124'}, {'name': 'DHCORE_WORKFLOW_IMAGE', 'valueFrom': {'configMapKeyRef': {'key': 'DHCORE_WORKFLOW_IMAGE', 'name': 'digitalhub-common-env'}}}, {'name': 'S3_ENDPOINT_URL', 'valueFrom': {'configMapKeyRef': {'key': 'S3_ENDPOINT_URL', 'name': 'digitalhub-common-env'}}}, {'name': 'DHCORE_ENDPOINT', 'value': 'https://core.tenant1.digitalhub-dev.smartcommunitylab.it'}, {'name': 'DHCORE_DEFAULT_FILES_STORE', 'valueFrom': {'configMapKeyRef': {'key': 'DHCORE_DEFAULT_FILES_STORE', 'name': 'digitalhub-common-env'}}}, {'name': 'DB_SCHEMA', 'valueFrom': {'configMapKeyRef': {'key': 'DB_SCHEMA', 'name': 'digitalhub-common-env'}}}, {'name': 'DB_DATABASE', 'valueFrom': {'configMapKeyRef': {'key': 'DB_DATABASE', 'name': 'digitalhub-common-env'}}}], 'envFrom': [{'secretRef': {'name': 'sec-kfppipeline-5eaa405fbae64195b4739f1db4571124'}}], 'image': 'ghcr.io/scc-digitalhub/digitalhub-sdk-wrapper-kfp/wrapper-kfp:latest', 'imagePullPolicy': 'IfNotPresent', 'name': 'c-kfppipeline-5eaa405fbae64195b4739f1db4571124', 'securityContext': {'allowPrivilegeEscalation': False, 'privileged': False, 'runAsNonRoot': True}, 'terminationMessagePath': '/dev/termination-log', 'terminationMessagePolicy': 'File'}], 'dnsPolicy': 'ClusterFirst', 'imagePullSecrets': [{'name': 'registry-credentials'}], 'restartPolicy': 'Never', 'schedulerName': 'default-scheduler', 'securityContext': {'runAsNonRoot': True}, 'terminationGracePeriodSeconds': 30}}}, 'status': {'completionTime': 1747988905.0, 'conditions': [{'lastProbeTime': 1747988905.0, 'lastTransitionTime': 1747988905.0, 'message': 'Reached expected number of succeeded pods', 'reason': 'CompletionsReached', 'status': 'True', 'type': 'SuccessCriteriaMet'}, {'lastProbeTime': 1747988905.0, 'lastTransitionTime': 1747988905.0, 'message': 'Reached expected number of succeeded pods', 'reason': 'CompletionsReached', 'status': 'True', 'type': 'Complete'}], 'ready': 0, 'startTime': 1747988899.0, 'succeeded': 1, 'terminating': 0}}, 'pods': [{'metadata': {'creationTimestamp': 1747988899.0, 'generateName': 'j-kfppipeline-5eaa405fbae64195b4739f1db4571124-', 'labels': {'app.kubernetes.io/instance': 'dhcore-5eaa405fbae64195b4739f1db4571124', 'app.kubernetes.io/managed-by': 'dhcore', 'app.kubernetes.io/part-of': 'dhcore-deforestation', 'app.kubernetes.io/version': '5eaa405fbae64195b4739f1db4571124', 'batch.kubernetes.io/controller-uid': 'ee90c0ee-546a-4af7-a73f-341ad66f950e', 'batch.kubernetes.io/job-name': 'j-kfppipeline-5eaa405fbae64195b4739f1db4571124', 'controller-uid': 'ee90c0ee-546a-4af7-a73f-341ad66f950e', 'dhcore/framework': 'k8sjob', 'dhcore/project': 'deforestation', 'dhcore/run': '5eaa405fbae64195b4739f1db4571124', 'dhcore/runtime': 'kfp', 'job-name': 'j-kfppipeline-5eaa405fbae64195b4739f1db4571124'}, 'managedFields': [{'apiVersion': 'v1', 'fieldsType': 'FieldsV1', 'manager': 'kube-controller-manager', 'operation': 'Update', 'time': 1747988899.0}, {'apiVersion': 'v1', 'fieldsType': 'FieldsV1', 'manager': 'kubelet', 'operation': 'Update', 'subresource': 'status', 'time': 1747988905.0}], 'name': 'j-kfppipeline-5eaa405fbae64195b4739f1db4571124-hsk8n', 'namespace': 'digitalhub-tenant1', 'ownerReferences': [{'apiVersion': 'batch/v1', 'blockOwnerDeletion': True, 'controller': True, 'kind': 'Job', 'name': 'j-kfppipeline-5eaa405fbae64195b4739f1db4571124', 'uid': 'ee90c0ee-546a-4af7-a73f-341ad66f950e'}], 'resourceVersion': '204835', 'uid': 'ccf6667a-a4c4-48b3-8bac-f648bceaa637'}, 'spec': {'containers': [{'args': ['wrapper.py'], 'command': ['python'], 'env': [{'name': 'S3_BUCKET', 'valueFrom': {'configMapKeyRef': {'key': 'S3_BUCKET', 'name': 'digitalhub-common-env'}}}, {'name': 'DB_PORT', 'valueFrom': {'configMapKeyRef': {'key': 'DB_PORT', 'name': 'digitalhub-common-env'}}}, {'name': 'DIGITALHUB_CORE_WORKFLOW_IMAGE', 'value': 'ghcr.io/scc-digitalhub/digitalhub-sdk-wrapper-kfp/wrapper-kfp:latest'}, {'name': 'DHCORE_NAMESPACE', 'value': 'digitalhub-tenant1'}, {'name': 'DHCORE_ISSUER', 'valueFrom': {'configMapKeyRef': {'key': 'DHCORE_ISSUER', 'name': 'digitalhub-common-env'}}}, {'name': 'DB_HOST', 'valueFrom': {'configMapKeyRef': {'key': 'DB_HOST', 'name': 'digitalhub-common-env'}}}, {'name': 'PROJECT_NAME', 'value': 'deforestation'}, {'name': 'RUN_ID', 'value': '5eaa405fbae64195b4739f1db4571124'}, {'name': 'DHCORE_WORKFLOW_IMAGE', 'valueFrom': {'configMapKeyRef': {'key': 'DHCORE_WORKFLOW_IMAGE', 'name': 'digitalhub-common-env'}}}, {'name': 'S3_ENDPOINT_URL', 'valueFrom': {'configMapKeyRef': {'key': 'S3_ENDPOINT_URL', 'name': 'digitalhub-common-env'}}}, {'name': 'DHCORE_ENDPOINT', 'value': 'https://core.tenant1.digitalhub-dev.smartcommunitylab.it'}, {'name': 'DHCORE_DEFAULT_FILES_STORE', 'valueFrom': {'configMapKeyRef': {'key': 'DHCORE_DEFAULT_FILES_STORE', 'name': 'digitalhub-common-env'}}}, {'name': 'DB_SCHEMA', 'valueFrom': {'configMapKeyRef': {'key': 'DB_SCHEMA', 'name': 'digitalhub-common-env'}}}, {'name': 'DB_DATABASE', 'valueFrom': {'configMapKeyRef': {'key': 'DB_DATABASE', 'name': 'digitalhub-common-env'}}}], 'envFrom': [{'secretRef': {'name': 'sec-kfppipeline-5eaa405fbae64195b4739f1db4571124'}}], 'image': 'ghcr.io/scc-digitalhub/digitalhub-sdk-wrapper-kfp/wrapper-kfp:latest', 'imagePullPolicy': 'IfNotPresent', 'name': 'c-kfppipeline-5eaa405fbae64195b4739f1db4571124', 'securityContext': {'allowPrivilegeEscalation': False, 'privileged': False, 'runAsNonRoot': True}, 'terminationMessagePath': '/dev/termination-log', 'terminationMessagePolicy': 'File', 'volumeMounts': [{'mountPath': '/var/run/secrets/kubernetes.io/serviceaccount', 'name': 'kube-api-access-kbwd6', 'readOnly': True}]}], 'dnsPolicy': 'ClusterFirst', 'enableServiceLinks': True, 'imagePullSecrets': [{'name': 'registry-credentials'}], 'nodeName': 'digitalhub-dev-md-0-7vr85-vsp8j', 'preemptionPolicy': 'PreemptLowerPriority', 'priority': 0, 'restartPolicy': 'Never', 'schedulerName': 'default-scheduler', 'securityContext': {'runAsNonRoot': True}, 'serviceAccount': 'default', 'serviceAccountName': 'default', 'terminationGracePeriodSeconds': 30, 'tolerations': [{'effect': 'NoExecute', 'key': 'node.kubernetes.io/not-ready', 'operator': 'Exists', 'tolerationSeconds': 300}, {'effect': 'NoExecute', 'key': 'node.kubernetes.io/unreachable', 'operator': 'Exists', 'tolerationSeconds': 300}], 'volumes': [{'name': 'kube-api-access-kbwd6', 'projected': {'defaultMode': 420, 'sources': [{'serviceAccountToken': {'expirationSeconds': 3607, 'path': 'token'}}, {'configMap': {'items': [{'key': 'ca.crt', 'path': 'ca.crt'}], 'name': 'kube-root-ca.crt'}}, {'downwardAPI': {'items': [{'fieldRef': {'apiVersion': 'v1', 'fieldPath': 'metadata.namespace'}, 'path': 'namespace'}]}}]}}]}, 'status': {'conditions': [{'lastTransitionTime': 1747988905.0, 'status': 'False', 'type': 'PodReadyToStartContainers'}, {'lastTransitionTime': 1747988899.0, 'reason': 'PodCompleted', 'status': 'True', 'type': 'Initialized'}, {'lastTransitionTime': 1747988903.0, 'reason': 'PodCompleted', 'status': 'False', 'type': 'Ready'}, {'lastTransitionTime': 1747988903.0, 'reason': 'PodCompleted', 'status': 'False', 'type': 'ContainersReady'}, {'lastTransitionTime': 1747988899.0, 'status': 'True', 'type': 'PodScheduled'}], 'containerStatuses': [{'containerID': 'containerd://7e7c9a37644d45930547edb5a9863ff4a9684fcd1adcb943eec9c36f5139f1e5', 'image': 'ghcr.io/scc-digitalhub/digitalhub-sdk-wrapper-kfp/wrapper-kfp:latest', 'imageID': 'ghcr.io/scc-digitalhub/digitalhub-sdk-wrapper-kfp/wrapper-kfp@sha256:658a0b096a3e99e705b2d6638df3ad4b2e30d8000ee1cf1e1a86913dae9534bc', 'name': 'c-kfppipeline-5eaa405fbae64195b4739f1db4571124', 'ready': False, 'restartCount': 0, 'started': False, 'state': {'terminated': {'containerID': 'containerd://7e7c9a37644d45930547edb5a9863ff4a9684fcd1adcb943eec9c36f5139f1e5', 'exitCode': 0, 'finishedAt': 1747988902.0, 'reason': 'Completed', 'startedAt': 1747988900.0}}, 'volumeMounts': [{'mountPath': '/var/run/secrets/kubernetes.io/serviceaccount', 'name': 'kube-api-access-kbwd6', 'readOnly': True, 'recursiveReadOnly': 'Disabled'}]}], 'hostIP': '10.1.0.4', 'hostIPs': [{'ip': '10.1.0.4'}], 'phase': 'Succeeded', 'podIP': '192.168.2.40', 'podIPs': [{'ip': '192.168.2.40'}], 'qosClass': 'BestEffort', 'startTime': 1747988899.0}}], 'secret': {'secret': {'apiVersion': 'v1', 'kind': 'Secret', 'metadata': {'labels': {'dhcore/framework': 'k8sjob', 'app.kubernetes.io/managed-by': 'dhcore', 'app.kubernetes.io/part-of': 'dhcore-deforestation', 'dhcore/project': 'deforestation', 'dhcore/run': '5eaa405fbae64195b4739f1db4571124', 'dhcore/runtime': 'kfp', 'app.kubernetes.io/instance': 'dhcore-5eaa405fbae64195b4739f1db4571124', 'app.kubernetes.io/version': '5eaa405fbae64195b4739f1db4571124'}, 'name': 'sec-kfppipeline-5eaa405fbae64195b4739f1db4571124', 'namespace': 'digitalhub-tenant1'}}}}, 'metrics': {}, 'results': {'workflow': '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'}}, 'user': 'khurshid@fbk.eu', 'project': 'deforestation', 'id': '5eaa405fbae64195b4739f1db4571124', 'name': '5eaa405fbae64195b4739f1db4571124', 'key': 'store://deforestation/run/kfp+run/5eaa405fbae64195b4739f1db4571124'}"
      ]
     },
     "execution_count": 10,
     "metadata": {},
     "output_type": "execute_result"
    }
   ],
   "source": [
    "wfbuild = workflow.run(action=\"build\", wait=True)"
   ]
  },
  {
   "cell_type": "code",
   "execution_count": null,
   "id": "1bf170e2-0835-4dc8-85ac-1121aafaaf42",
   "metadata": {},
   "outputs": [],
   "source": [
    "workflow_run = workflow.run(action=\"pipeline\", parameters={\n",
    "    \"startYear\": 2018,\n",
    "    \"endYear\": 2019,\n",
    "    \"geometry\": \"POLYGON((10.98014831542969 45.455314263477874,11.030273437500002 45.44808893044964,10.99937438964844 45.42014226680115,10.953025817871096 45.435803739956725,10.98014831542969 45.455314263477874))\",\n",
    "    \"input1\":\"bosco\",\n",
    "    'input2': \"data_s2_deforestation\",\n",
    "    \"outputName\": \"deforestation_2018_19\"\n",
    "    },\n",
    "    wait=True)"
   ]
  },
  {
   "cell_type": "code",
   "execution_count": null,
   "id": "b9dcd68d-2196-4e35-9fb2-3ba860721089",
   "metadata": {},
   "outputs": [],
   "source": []
  }
 ],
 "metadata": {
  "kernelspec": {
   "display_name": ".conda",
   "language": "python",
   "name": "python3"
  },
  "language_info": {
   "codemirror_mode": {
    "name": "ipython",
    "version": 3
   },
   "file_extension": ".py",
   "mimetype": "text/x-python",
   "name": "python",
   "nbconvert_exporter": "python",
   "pygments_lexer": "ipython3",
   "version": "3.10.16"
  }
 },
 "nbformat": 4,
 "nbformat_minor": 5
}
