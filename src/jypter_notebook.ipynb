{
 "cells": [
  {
   "cell_type": "markdown",
   "id": "d470c258",
   "metadata": {},
   "source": [
    "# DEFORESTATION SCENARIO PIPELINE"
   ]
  },
  {
   "cell_type": "code",
   "execution_count": 2,
   "id": "22976efc-003a-4170-bcf0-6a33ac84e76a",
   "metadata": {},
   "outputs": [],
   "source": [
    "import digitalhub as dh\n",
    "PROJECT_NAME = \"deforestation\"\n",
    "proj = dh.get_or_create_project(PROJECT_NAME) # source=\"git://github.com/scc-digitalhu"
   ]
  },
  {
   "cell_type": "markdown",
   "id": "246d5c4d",
   "metadata": {},
   "source": [
    "Register to the open data space copenicus(if not already) and get your credentials.\n",
    "\n",
    "https://identity.dataspace.copernicus.eu/auth/realms/CDSE/login-actions/registration?client_id=cdse-public&tab_id=FIiRPJeoiX4\n",
    "\n",
    "Log the credentials as project secret keys as shown below"
   ]
  },
  {
   "cell_type": "code",
   "execution_count": 19,
   "id": "cbb91e46",
   "metadata": {},
   "outputs": [],
   "source": [
    "# THIS NEED TO BE EXECUTED JUST ONCE\n",
    "secret0 = proj.new_secret(name=\"CDSETOOL_ESA_USER\", secret_value=\"esa_username\")\n",
    "secret1 = proj.new_secret(name=\"CDSETOOL_ESA_PASSWORD\", secret_value=\"esa_password\")"
   ]
  },
  {
   "cell_type": "markdown",
   "id": "29a61c81",
   "metadata": {},
   "source": [
    "### Download data from Sentinel 2"
   ]
  },
  {
   "cell_type": "code",
   "execution_count": 20,
   "id": "c49ced7c",
   "metadata": {},
   "outputs": [],
   "source": [
    "string_dict_data = \"\"\"{\n",
    " \"satelliteParams\":{\n",
    "     \"satelliteType\": \"Sentinel2\"\n",
    " },\n",
    " \"startDate\": \"2018-01-01\",\n",
    " \"endDate\": \"2019-12-31\",\n",
    " \"geometry\": \"POLYGON((10.98014831542969 45.455314263477874,11.030273437500002 45.44808893044964,10.99937438964844 45.42014226680115,10.953025817871096 45.435803739956725,10.98014831542969 45.455314263477874))\",\n",
    " \"area_sampling\": \"true\",\n",
    " \"cloudCover\": \"[0,20]\",\n",
    " \"artifact_name\": \"data\" \n",
    " }\"\"\"\n",
    "\n",
    "list_args =  [\"main.py\",string_dict_data]\n",
    "function_s2 = proj.new_function(\"download_images_s2\",kind=\"container\",image=\"ghcr.io/tn-aixpa/sentinel-tools:0.10.1\",command=\"python\")"
   ]
  },
  {
   "cell_type": "code",
   "execution_count": null,
   "id": "a3c0cfdf",
   "metadata": {},
   "outputs": [],
   "source": [
    "run = function_s2.run(action=\"job\",\n",
    "        secrets=[\"CDSETOOL_ESA_USER\",\"CDSETOOL_ESA_PASSWORD\"],\n",
    "        fs_group='8877',\n",
    "        args=list_args,           \n",
    "        volumes=[{\n",
    "            \"volume_type\": \"persistent_volume_claim\",\n",
    "            \"name\": \"volume-deforestation\",\n",
    "            \"mount_path\": \"/app/files\",\n",
    "            \"spec\": {\n",
    "                \"size\": \"300Gi\"\n",
    "            }}])"
   ]
  },
  {
   "cell_type": "code",
   "execution_count": 29,
   "id": "2dd8bc1d-9695-4945-8d18-50fc6e4727ca",
   "metadata": {},
   "outputs": [
    {
     "data": {
      "text/plain": [
       "'RUNNING'"
      ]
     },
     "execution_count": 29,
     "metadata": {},
     "output_type": "execute_result"
    }
   ],
   "source": [
    "run.refresh().status.state"
   ]
  },
  {
   "cell_type": "code",
   "execution_count": 11,
   "id": "2a26dc06-62ba-479c-81cb-b6f7e1732e6d",
   "metadata": {},
   "outputs": [],
   "source": [
    "artifact = proj.get_artifact('data')"
   ]
  },
  {
   "cell_type": "markdown",
   "id": "cb5d1d27-54e4-4810-8466-d8f040682d4d",
   "metadata": {},
   "source": [
    "### Perform Data Elaboration on RS-Tool"
   ]
  },
  {
   "cell_type": "markdown",
   "id": "30cebf36-2e51-4f5d-99ab-982bc0aa31e2",
   "metadata": {},
   "source": [
    "#### Input data (Shape file)"
   ]
  },
  {
   "cell_type": "code",
   "execution_count": 2,
   "id": "f4a857ec-04bc-4c6e-ae4b-4c6366221690",
   "metadata": {},
   "outputs": [],
   "source": [
    "artifact_name='bosco'\n",
    "src_path='bosco'\n",
    "artifact_bosco = proj.log_artifact(name=artifact_name, kind=\"artifact\", source=src_path)"
   ]
  },
  {
   "cell_type": "markdown",
   "id": "50675c63-3bb4-45e6-a32f-432bfe492fb2",
   "metadata": {},
   "source": [
    "#### Input data (Tiles)"
   ]
  },
  {
   "cell_type": "code",
   "execution_count": 4,
   "id": "b5b8f1cf-dafe-4046-b330-e036c7f5f270",
   "metadata": {},
   "outputs": [],
   "source": [
    "artifact_name='data'\n",
    "src_path='data'\n",
    "artifact_data = proj.log_artifact(name=artifact_name, kind=\"artifact\", source=src_path)"
   ]
  },
  {
   "cell_type": "code",
   "execution_count": null,
   "id": "d9786c85-7790-4508-92d5-32276d8b8921",
   "metadata": {},
   "outputs": [],
   "source": [
    "function_rs = proj.new_function(\"elaborate\",kind=\"container\", image=\"ghcr.io/tn-aixpa/rs-deforestation:2.7_b2\", code_src=\"launch.sh\")"
   ]
  },
  {
   "cell_type": "code",
   "execution_count": 8,
   "id": "f658ca14-a41b-4ab4-94a5-3da78bfaddfe",
   "metadata": {},
   "outputs": [
    {
     "name": "stdout",
     "output_type": "stream",
     "text": [
      "Found existing installation: digitalhub 0.11.0b4\n",
      "Uninstalling digitalhub-0.11.0b4:\n",
      "  Successfully uninstalled digitalhub-0.11.0b4\n",
      "Found existing installation: digitalhub-runtime-container 0.11.0b1\n",
      "Uninstalling digitalhub-runtime-container-0.11.0b1:\n",
      "  Successfully uninstalled digitalhub-runtime-container-0.11.0b1\n",
      "Collecting git+https://github.com/scc-digitalhub/digitalhub-sdk\n",
      "  Cloning https://github.com/scc-digitalhub/digitalhub-sdk to /tmp/pip-req-build-vqw45v6r\n",
      "  Running command git clone --filter=blob:none --quiet https://github.com/scc-digitalhub/digitalhub-sdk /tmp/pip-req-build-vqw45v6r\n",
      "  Resolved https://github.com/scc-digitalhub/digitalhub-sdk to commit 2454c8f947e2690670565088473474df7004421b\n",
      "  Installing build dependencies ... \u001b[?25ldone\n",
      "\u001b[?25h  Getting requirements to build wheel ... \u001b[?25ldone\n",
      "\u001b[?25h  Preparing metadata (pyproject.toml) ... \u001b[?25ldone\n",
      "\u001b[?25hCollecting git+https://github.com/scc-digitalhub/digitalhub-sdk-runtime-container\n",
      "  Cloning https://github.com/scc-digitalhub/digitalhub-sdk-runtime-container to /tmp/pip-req-build-__2ja3za\n",
      "  Running command git clone --filter=blob:none --quiet https://github.com/scc-digitalhub/digitalhub-sdk-runtime-container /tmp/pip-req-build-__2ja3za\n",
      "  Resolved https://github.com/scc-digitalhub/digitalhub-sdk-runtime-container to commit cf371859d83390e013f445d0945142cf694eed9b\n",
      "  Installing build dependencies ... \u001b[?25ldone\n",
      "\u001b[?25h  Getting requirements to build wheel ... \u001b[?25ldone\n",
      "\u001b[?25h  Preparing metadata (pyproject.toml) ... \u001b[?25ldone\n",
      "\u001b[?25hRequirement already satisfied: psycopg2-binary in /opt/conda/lib/python3.9/site-packages (from digitalhub==0.11.0b4) (2.9.10)\n",
      "Requirement already satisfied: gitpython>=3 in /opt/conda/lib/python3.9/site-packages (from digitalhub==0.11.0b4) (3.1.44)\n",
      "Requirement already satisfied: requests in /opt/conda/lib/python3.9/site-packages (from digitalhub==0.11.0b4) (2.28.1)\n",
      "Requirement already satisfied: python-slugify in /opt/conda/lib/python3.9/site-packages (from digitalhub==0.11.0b4) (8.0.4)\n",
      "Requirement already satisfied: pyarrow in /opt/conda/lib/python3.9/site-packages (from digitalhub==0.11.0b4) (19.0.1)\n",
      "Requirement already satisfied: pydantic in /opt/conda/lib/python3.9/site-packages (from digitalhub==0.11.0b4) (2.11.4)\n",
      "Requirement already satisfied: numpy in /opt/conda/lib/python3.9/site-packages (from digitalhub==0.11.0b4) (2.0.2)\n",
      "Requirement already satisfied: boto3 in /opt/conda/lib/python3.9/site-packages (from digitalhub==0.11.0b4) (1.38.19)\n",
      "Requirement already satisfied: sqlalchemy in /opt/conda/lib/python3.9/site-packages (from digitalhub==0.11.0b4) (1.4.41)\n",
      "Requirement already satisfied: pyyaml in /opt/conda/lib/python3.9/site-packages (from digitalhub==0.11.0b4) (6.0.2)\n",
      "Requirement already satisfied: gitdb<5,>=4.0.1 in /opt/conda/lib/python3.9/site-packages (from gitpython>=3->digitalhub==0.11.0b4) (4.0.12)\n",
      "Requirement already satisfied: jmespath<2.0.0,>=0.7.1 in /opt/conda/lib/python3.9/site-packages (from boto3->digitalhub==0.11.0b4) (1.0.1)\n",
      "Requirement already satisfied: botocore<1.39.0,>=1.38.19 in /opt/conda/lib/python3.9/site-packages (from boto3->digitalhub==0.11.0b4) (1.38.19)\n",
      "Requirement already satisfied: s3transfer<0.13.0,>=0.12.0 in /opt/conda/lib/python3.9/site-packages (from boto3->digitalhub==0.11.0b4) (0.12.0)\n",
      "Requirement already satisfied: pydantic-core==2.33.2 in /opt/conda/lib/python3.9/site-packages (from pydantic->digitalhub==0.11.0b4) (2.33.2)\n",
      "Requirement already satisfied: typing-inspection>=0.4.0 in /opt/conda/lib/python3.9/site-packages (from pydantic->digitalhub==0.11.0b4) (0.4.0)\n",
      "Requirement already satisfied: typing-extensions>=4.12.2 in /opt/conda/lib/python3.9/site-packages (from pydantic->digitalhub==0.11.0b4) (4.13.2)\n",
      "Requirement already satisfied: annotated-types>=0.6.0 in /opt/conda/lib/python3.9/site-packages (from pydantic->digitalhub==0.11.0b4) (0.7.0)\n",
      "Requirement already satisfied: text-unidecode>=1.3 in /opt/conda/lib/python3.9/site-packages (from python-slugify->digitalhub==0.11.0b4) (1.3)\n",
      "Requirement already satisfied: certifi>=2017.4.17 in /opt/conda/lib/python3.9/site-packages (from requests->digitalhub==0.11.0b4) (2022.9.24)\n",
      "Requirement already satisfied: urllib3<1.27,>=1.21.1 in /opt/conda/lib/python3.9/site-packages (from requests->digitalhub==0.11.0b4) (1.26.11)\n",
      "Requirement already satisfied: charset-normalizer<3,>=2 in /opt/conda/lib/python3.9/site-packages (from requests->digitalhub==0.11.0b4) (2.1.1)\n",
      "Requirement already satisfied: idna<4,>=2.5 in /opt/conda/lib/python3.9/site-packages (from requests->digitalhub==0.11.0b4) (3.4)\n",
      "Requirement already satisfied: greenlet!=0.4.17 in /opt/conda/lib/python3.9/site-packages (from sqlalchemy->digitalhub==0.11.0b4) (1.1.3)\n",
      "Requirement already satisfied: python-dateutil<3.0.0,>=2.1 in /opt/conda/lib/python3.9/site-packages (from botocore<1.39.0,>=1.38.19->boto3->digitalhub==0.11.0b4) (2.8.2)\n",
      "Requirement already satisfied: smmap<6,>=3.0.1 in /opt/conda/lib/python3.9/site-packages (from gitdb<5,>=4.0.1->gitpython>=3->digitalhub==0.11.0b4) (5.0.2)\n",
      "Requirement already satisfied: six>=1.5 in /opt/conda/lib/python3.9/site-packages (from python-dateutil<3.0.0,>=2.1->botocore<1.39.0,>=1.38.19->boto3->digitalhub==0.11.0b4) (1.16.0)\n",
      "Building wheels for collected packages: digitalhub, digitalhub-runtime-container\n",
      "  Building wheel for digitalhub (pyproject.toml) ... \u001b[?25ldone\n",
      "\u001b[?25h  Created wheel for digitalhub: filename=digitalhub-0.11.0b4-py3-none-any.whl size=193684 sha256=26be6c5b3f36c37aa97ea1ccccb9792fb253c6038eae238b7e80486c5e3c30c8\n",
      "  Stored in directory: /tmp/pip-ephem-wheel-cache-ag8jea_x/wheels/8c/10/7e/b81c6fe7e36fcc1786d4f1a64c6033f1697921d5c26d3aca93\n",
      "  Building wheel for digitalhub-runtime-container (pyproject.toml) ... \u001b[?25ldone\n",
      "\u001b[?25h  Created wheel for digitalhub-runtime-container: filename=digitalhub_runtime_container-0.11.0b1-py3-none-any.whl size=33442 sha256=2ecff4e25276d5e31ef41b40b545466409cbbe359f1aaa0e0e41456d4a44ccbc\n",
      "  Stored in directory: /tmp/pip-ephem-wheel-cache-ag8jea_x/wheels/ba/c6/ac/80ccb9a7c9ff392ac65573fb7826bb4c5b8bcf8570d088b403\n",
      "Successfully built digitalhub digitalhub-runtime-container\n",
      "Installing collected packages: digitalhub, digitalhub-runtime-container\n",
      "Successfully installed digitalhub-0.11.0b4 digitalhub-runtime-container-0.11.0b1\n"
     ]
    }
   ],
   "source": [
    "#!pip uninstall digitalhub -y && pip install git+https://github.com/scc-digitalhub/digitalhub-sdk\n",
    "!pip uninstall digitalhub digitalhub-runtime-container -y && pip install git+https://github.com/scc-digitalhub/digitalhub-sdk git+https://github.com/scc-digitalhub/digitalhub-sdk-runtime-container "
   ]
  },
  {
   "cell_type": "code",
   "execution_count": null,
   "id": "1c445924-4370-4f8d-b24c-9fb18d9fd053",
   "metadata": {},
   "outputs": [],
   "source": [
    "run_el = function_rs.run(action=\"job\",\n",
    "            fs_group='8877',\n",
    "            resources={\n",
    "                \"cpu\": {\n",
    "                    \"requests\": \"3\",\n",
    "                    \n",
    "                },\n",
    "                \"mem\":{\n",
    "                    \"requests\": \"16Gi\"\n",
    "                }\n",
    "            },\n",
    "            profile=\"1xa100\",\n",
    "            volumes=[{\n",
    "            \"volume_type\": \"persistent_volume_claim\",            \n",
    "            \"name\": \"volume-deforestation\", # this name has to be equal to the name of the volume created in krm\n",
    "            \"mount_path\": \"/app/files\",\n",
    "            \"spec\": {\n",
    "                \"size\": \"5Gi\"\n",
    "            }}],\n",
    "            args=['/shared/launch.sh', 'bosco','data',\"['2018','2019']\",'deforestation_output']\n",
    "         )"
   ]
  },
  {
   "cell_type": "code",
   "execution_count": 8,
   "id": "8d864d90-2904-417b-bf35-3e2cdf5ddd95",
   "metadata": {},
   "outputs": [
    {
     "data": {
      "text/plain": [
       "'RUNNING'"
      ]
     },
     "execution_count": 8,
     "metadata": {},
     "output_type": "execute_result"
    }
   ],
   "source": [
    "run_el.refresh().status.state"
   ]
  },
  {
   "cell_type": "code",
   "execution_count": null,
   "id": "b6ba73a2",
   "metadata": {},
   "outputs": [],
   "source": [
    "%%writefile \"src/deforestation_pipeline.py\"\n",
    "\n",
    "from digitalhub_runtime_kfp.dsl import pipeline_context\n",
    "\n",
    "def myhandler(startYear, endYear, geometry, input1, input2, outputName):\n",
    "    with pipeline_context() as pc:\n",
    "\n",
    "        string_dict_data = \"{ \\\"satelliteParams\\\":{\\\"satelliteType\\\": \\\"Sentinel2\\\" }, \\\"startDate\\\": \\\"\" + startYear + \"-01-01\\\", \\\"endDate\\\": \\\"\" + endYear + \"-12-31\\\", \\\"geometry\\\": \\\"\" + geometry + \", \\\"area_sampling\\\": \\\"true\\\", \\\"cloudCover\\\": \\\"[0,20]\\\", \\\"artifact_name\\\": \\\"data_s2_deforestation\\\" }\"\n",
    "        list_args =  [\"main.py\",string_dict_data]\n",
    "\n",
    "        s1 = pc.step(\n",
    "            name=\"download\",\n",
    "            function=\"download_images_s2\",\n",
    "            action=\"job\",\n",
    "            secrets=[\"CDSETOOL_ESA_USER\",\"CDSETOOL_ESA_PASSWORD\"],\n",
    "            fs_group='8877',\n",
    "            args=list_args,\n",
    "            volumes=[{\"volume_type\": \"persistent_volume_claim\",\"name\": \"volume-s2\",\"mount_path\": \"/app/files\",\"spec\": {\"claim_name\": \"volume-s2\"}}]\n",
    "            ),\n",
    "\n",
    "        yearRange = \"[\" + startYear + ',' + endYear + \"]\"\n",
    "        print(yearRange)             \n",
    "        s2 = pc.step(\n",
    "            action=\"job\",\n",
    "            fs_group='8877',\n",
    "            resources={\n",
    "                \"cpu\": {\n",
    "                    \"requests\": \"3\",\n",
    "                    \n",
    "                },\n",
    "                \"mem\":{\n",
    "                    \"requests\": \"16Gi\"\n",
    "                }\n",
    "            },\n",
    "            profile=\"1xa100\",\n",
    "            volumes=[{\n",
    "            \"volume_type\": \"persistent_volume_claim\",            \n",
    "            \"name\": \"volume-deforestation\", # this name has to be equal to the name of the volume created in krm\n",
    "            \"mount_path\": \"/app/files\",\n",
    "            \"spec\": {\n",
    "                \"size\": \"5Gi\"\n",
    "            }}],\n",
    "            args=['/shared/launch.sh', input1,'data_s2_deforestation',yearRange,outputName]\n",
    "            ).after(s1)        \n",
    "     "
   ]
  }
 ],
 "metadata": {
  "kernelspec": {
   "display_name": "Python 3 (ipykernel)",
   "language": "python",
   "name": "python3"
  },
  "language_info": {
   "codemirror_mode": {
    "name": "ipython",
    "version": 3
   },
   "file_extension": ".py",
   "mimetype": "text/x-python",
   "name": "python",
   "nbconvert_exporter": "python",
   "pygments_lexer": "ipython3",
   "version": "3.9.13"
  }
 },
 "nbformat": 4,
 "nbformat_minor": 5
}
