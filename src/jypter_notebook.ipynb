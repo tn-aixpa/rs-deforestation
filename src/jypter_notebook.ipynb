{
 "cells": [
  {
   "cell_type": "markdown",
   "id": "d470c258",
   "metadata": {},
   "source": [
    "# DEFORESTATION SCENARIO PIPELINE"
   ]
  },
  {
   "cell_type": "code",
   "execution_count": 1,
   "id": "22976efc-003a-4170-bcf0-6a33ac84e76a",
   "metadata": {},
   "outputs": [],
   "source": [
    "import digitalhub as dh\n",
    "PROJECT_NAME = \"deforestation\"\n",
    "proj = dh.get_or_create_project(PROJECT_NAME) # source=\"git://github.com/scc-digitalhu"
   ]
  },
  {
   "cell_type": "markdown",
   "id": "246d5c4d",
   "metadata": {},
   "source": [
    "Register to the open data space copenicus(if not already) and get your credentials.\n",
    "\n",
    "https://identity.dataspace.copernicus.eu/auth/realms/CDSE/login-actions/registration?client_id=cdse-public&tab_id=FIiRPJeoiX4\n",
    "\n",
    "Log the credentials as project secret keys as shown below"
   ]
  },
  {
   "cell_type": "code",
   "execution_count": null,
   "id": "cbb91e46",
   "metadata": {},
   "outputs": [],
   "source": [
    "# THIS NEED TO BE EXECUTED JUST ONCE\n",
    "secret0 = proj.new_secret(name=\"CDSETOOL_ESA_USER\", secret_value=\"esa_username\")\n",
    "secret1 = proj.new_secret(name=\"CDSETOOL_ESA_PASSWORD\", secret_value=\"esa_password\")"
   ]
  },
  {
   "cell_type": "markdown",
   "id": "29a61c81",
   "metadata": {},
   "source": [
    "### Download data from Sentinel 2"
   ]
  },
  {
   "cell_type": "code",
   "execution_count": 3,
   "id": "c49ced7c",
   "metadata": {},
   "outputs": [],
   "source": [
    "string_dict_data = \"\"\"{\n",
    " \"satelliteParams\":{\n",
    "     \"satelliteType\": \"Sentinel2\"\n",
    " },\n",
    " \"startDate\": \"2018-01-01\",\n",
    " \"endDate\": \"2019-12-31\",\n",
    " \"geometry\": \"POLYGON((10.98014831542969 45.455314263477874,11.030273437500002 45.44808893044964,10.99937438964844 45.42014226680115,10.953025817871096 45.435803739956725,10.98014831542969 45.455314263477874))\",\n",
    " \"area_sampling\": \"true\",\n",
    " \"cloudCover\": \"[0,20]\",\n",
    " \"artifact_name\": \"data\" \n",
    " }\"\"\"\n",
    "\n",
    "list_args =  [\"main.py\",string_dict_data]\n",
    "function_s2 = proj.new_function(\"download_images_s2\",kind=\"container\",image=\"ghcr.io/tn-aixpa/sentinel-tools:0.10.1\",command=\"python\")"
   ]
  },
  {
   "cell_type": "code",
   "execution_count": null,
   "id": "a3c0cfdf",
   "metadata": {},
   "outputs": [],
   "source": [
    "run = function_s2.run(action=\"job\",\n",
    "        secrets=[\"CDSETOOL_ESA_USER\",\"CDSETOOL_ESA_PASSWORD\"],\n",
    "        fs_group='8877',\n",
    "        args=list_args,           \n",
    "        volumes=[{\n",
    "            \"volume_type\": \"persistent_volume_claim\",\n",
    "            \"name\": \"volume-deforestation\",\n",
    "            \"mount_path\": \"/app/files\",\n",
    "            \"spec\": {\n",
    "                \"size\": \"300Gi\"\n",
    "            }}])"
   ]
  },
  {
   "cell_type": "code",
   "execution_count": 29,
   "id": "2dd8bc1d-9695-4945-8d18-50fc6e4727ca",
   "metadata": {},
   "outputs": [
    {
     "data": {
      "text/plain": [
       "'RUNNING'"
      ]
     },
     "execution_count": 29,
     "metadata": {},
     "output_type": "execute_result"
    }
   ],
   "source": [
    "run.refresh().status.state"
   ]
  },
  {
   "cell_type": "code",
   "execution_count": 11,
   "id": "2a26dc06-62ba-479c-81cb-b6f7e1732e6d",
   "metadata": {},
   "outputs": [],
   "source": [
    "artifact = proj.get_artifact('data')"
   ]
  },
  {
   "cell_type": "markdown",
   "id": "cb5d1d27-54e4-4810-8466-d8f040682d4d",
   "metadata": {},
   "source": [
    "### Perform Data Elaboration on RS-Tool"
   ]
  },
  {
   "cell_type": "markdown",
   "id": "30cebf36-2e51-4f5d-99ab-982bc0aa31e2",
   "metadata": {},
   "source": [
    "#### Input data (Shape file)"
   ]
  },
  {
   "cell_type": "code",
   "execution_count": null,
   "id": "f4a857ec-04bc-4c6e-ae4b-4c6366221690",
   "metadata": {},
   "outputs": [],
   "source": [
    "artifact_name='bosco'\n",
    "src_path='bosco'\n",
    "artifact_bosco = proj.log_artifact(name=artifact_name, kind=\"artifact\", source=src_path)"
   ]
  },
  {
   "cell_type": "markdown",
   "id": "50675c63-3bb4-45e6-a32f-432bfe492fb2",
   "metadata": {},
   "source": [
    "#### Input data (Tiles)"
   ]
  },
  {
   "cell_type": "code",
   "execution_count": 4,
   "id": "b5b8f1cf-dafe-4046-b330-e036c7f5f270",
   "metadata": {},
   "outputs": [],
   "source": [
    "artifact_name='data'\n",
    "src_path='data'\n",
    "artifact_data = proj.log_artifact(name=artifact_name, kind=\"artifact\", source=src_path)"
   ]
  },
  {
   "cell_type": "code",
   "execution_count": 30,
   "id": "d9786c85-7790-4508-92d5-32276d8b8921",
   "metadata": {},
   "outputs": [],
   "source": [
    "function_rs = proj.new_function(\"elaborate\",kind=\"container\", image=\"ghcr.io/tn-aixpa/rs-deforestation:dev-t1\", code_src=\"launch.sh\")"
   ]
  },
  {
   "cell_type": "code",
   "execution_count": null,
   "id": "f658ca14-a41b-4ab4-94a5-3da78bfaddfe",
   "metadata": {},
   "outputs": [],
   "source": [
    "#!pip uninstall digitalhub -y && pip install git+https://github.com/scc-digitalhub/digitalhub-sdk\n",
    "!pip uninstall digitalhub digitalhub-runtime-container -y && pip install git+https://github.com/scc-digitalhub/digitalhub-sdk git+https://github.com/scc-digitalhub/digitalhub-sdk-runtime-container "
   ]
  },
  {
   "cell_type": "code",
   "execution_count": null,
   "id": "1c445924-4370-4f8d-b24c-9fb18d9fd053",
   "metadata": {},
   "outputs": [],
   "source": [
    "run_el = function_rs.run(action=\"job\",\n",
    "            fs_group='8877',\n",
    "            resources={\n",
    "                \"cpu\": {\n",
    "                    \"requests\": \"3\",\n",
    "                    \n",
    "                },\n",
    "                \"mem\":{\n",
    "                    \"requests\": \"16Gi\"\n",
    "                }\n",
    "            },\n",
    "            profile=\"1xa100\",\n",
    "            volumes=[{\n",
    "            \"volume_type\": \"persistent_volume_claim\",            \n",
    "            \"name\": \"volume-deforestation\", # this name has to be equal to the name of the volume created in krm\n",
    "            \"mount_path\": \"/app/files\",\n",
    "            \"spec\": {\n",
    "                \"size\": \"5Gi\"\n",
    "            }}],\n",
    "            args=['/shared/launch.sh', 'bosco','data',\"['2018','2019']\",'deforestation_output']\n",
    "         )"
   ]
  },
  {
   "cell_type": "code",
   "execution_count": 8,
   "id": "8d864d90-2904-417b-bf35-3e2cdf5ddd95",
   "metadata": {},
   "outputs": [
    {
     "data": {
      "text/plain": [
       "'RUNNING'"
      ]
     },
     "execution_count": 8,
     "metadata": {},
     "output_type": "execute_result"
    }
   ],
   "source": [
    "run_el.refresh().status.state"
   ]
  },
  {
   "cell_type": "code",
   "execution_count": 51,
   "id": "484d7ab2-d640-45aa-ac3b-945066c12aeb",
   "metadata": {},
   "outputs": [
    {
     "data": {
      "text/plain": [
       "'{\"satelliteParams\":{\"satelliteType\":\"Sentinel2\"},\"startDate\":\"2018-01-01\",\"endDate\": \"2019-12-31\",\"geometry\": \"POLYGON((10.98014831542969 45.455314263477874,11.030273437500002 45.44808893044964,10.99937438964844 45.42014226680115,10.953025817871096 45.435803739956725,10.98014831542969 45.455314263477874))\",\"area_sampling\":\"true\",\"cloudCover\":\"[0,20]\",\"artifact_name\":\"data_s2_deforestation\"}'"
      ]
     },
     "execution_count": 68,
     "metadata": {},
     "output_type": "execute_result"
    }
   ],
   "source": [
    "startYear=\"2018\"\n",
    "endYear=\"2019\"\n",
    "geometry=\"POLYGON((10.98014831542969 45.455314263477874,11.030273437500002 45.44808893044964,10.99937438964844 45.42014226680115,10.953025817871096 45.435803739956725,10.98014831542969 45.455314263477874))\"\n",
    "string_dict_data = \"\"\"{\"satelliteParams\":{\"satelliteType\":\"Sentinel2\"},\"startDate\":\\\"\"\"\"+ str(startYear) + \"\"\"-01-01\\\",\"endDate\": \\\"\"\"\" + str(endYear) + \"\"\"-12-31\\\",\"geometry\": \\\"\"\"\" + str(geometry) + \"\"\"\\\",\"area_sampling\":\"true\",\"cloudCover\":\"[0,20]\",\"artifact_name\":\"data_s2_deforestation\"}\"\"\"\n",
    "string_dict_data"
   ]
  },
  {
   "cell_type": "code",
   "execution_count": 32,
   "id": "ee69e7f5-ecb5-4eea-aebb-e6d36b544cf0",
   "metadata": {},
   "outputs": [
    {
     "data": {
      "text/plain": [
       "'[2018,2019]'"
      ]
     },
     "execution_count": 32,
     "metadata": {},
     "output_type": "execute_result"
    }
   ],
   "source": [
    "yearList=\"[\" + str(startYear) + ',' + str(endYear) + \"]\"\n",
    "yearList"
   ]
  },
  {
   "cell_type": "code",
   "execution_count": null,
   "id": "702c4feb-8be2-4f62-afd6-810931f9de16",
   "metadata": {},
   "outputs": [],
   "source": [
    "# string_dict_data = \"\"\"{\n",
    "#  \"satelliteParams\":{\n",
    "#      \"satelliteType\": \"Sentinel2\"\n",
    "#  },\n",
    "#  \"startDate\": \"2018-01-01\",\n",
    "#  \"endDate\": \"2019-12-31\",\n",
    "#  \"geometry\": \"POLYGON((10.98014831542969 45.455314263477874,11.030273437500002 45.44808893044964,10.99937438964844 45.42014226680115,10.953025817871096 45.435803739956725,10.98014831542969 45.455314263477874))\",\n",
    "#  \"area_sampling\": \"true\",\n",
    "#  \"cloudCover\": \"[0,20]\",\n",
    "#  \"artifact_name\": \"data\" \n",
    "#  }\"\"\""
   ]
  },
  {
   "cell_type": "code",
   "execution_count": 64,
   "id": "b6ba73a2",
   "metadata": {},
   "outputs": [
    {
     "ename": "ModuleNotFoundError",
     "evalue": "No module named 'kfp'",
     "output_type": "error",
     "traceback": [
      "\u001b[0;31m---------------------------------------------------------------------------\u001b[0m",
      "\u001b[0;31mModuleNotFoundError\u001b[0m                       Traceback (most recent call last)",
      "Cell \u001b[0;32mIn [70], line 1\u001b[0m\n\u001b[0;32m----> 1\u001b[0m \u001b[38;5;28;01mfrom\u001b[39;00m \u001b[38;5;21;01mdigitalhub_runtime_kfp\u001b[39;00m\u001b[38;5;21;01m.\u001b[39;00m\u001b[38;5;21;01mdsl\u001b[39;00m \u001b[38;5;28;01mimport\u001b[39;00m pipeline_context\n\u001b[1;32m      3\u001b[0m \u001b[38;5;28;01mdef\u001b[39;00m \u001b[38;5;21mmyhandler\u001b[39m(startYear, endYear, geometry, input1, input2, outputName):\n\u001b[1;32m      4\u001b[0m     \u001b[38;5;28;01mwith\u001b[39;00m pipeline_context() \u001b[38;5;28;01mas\u001b[39;00m pc:\n",
      "File \u001b[0;32m/opt/conda/lib/python3.9/site-packages/digitalhub_runtime_kfp/dsl.py:10\u001b[0m\n\u001b[1;32m      8\u001b[0m \u001b[38;5;28;01mfrom\u001b[39;00m \u001b[38;5;21;01mdigitalhub\u001b[39;00m\u001b[38;5;21;01m.\u001b[39;00m\u001b[38;5;21;01mruntimes\u001b[39;00m\u001b[38;5;21;01m.\u001b[39;00m\u001b[38;5;21;01menums\u001b[39;00m \u001b[38;5;28;01mimport\u001b[39;00m RuntimeEnvVar\n\u001b[1;32m      9\u001b[0m \u001b[38;5;28;01mfrom\u001b[39;00m \u001b[38;5;21;01mdigitalhub\u001b[39;00m\u001b[38;5;21;01m.\u001b[39;00m\u001b[38;5;21;01mstores\u001b[39;00m\u001b[38;5;21;01m.\u001b[39;00m\u001b[38;5;21;01mclient\u001b[39;00m\u001b[38;5;21;01m.\u001b[39;00m\u001b[38;5;21;01mdhcore\u001b[39;00m\u001b[38;5;21;01m.\u001b[39;00m\u001b[38;5;21;01menums\u001b[39;00m \u001b[38;5;28;01mimport\u001b[39;00m DhcoreEnvVar\n\u001b[0;32m---> 10\u001b[0m \u001b[38;5;28;01mfrom\u001b[39;00m \u001b[38;5;21;01mkfp\u001b[39;00m \u001b[38;5;28;01mimport\u001b[39;00m dsl\n\u001b[1;32m     12\u001b[0m LABEL_PREFIX \u001b[38;5;241m=\u001b[39m \u001b[38;5;124m\"\u001b[39m\u001b[38;5;124mkfp-digitalhub-runtime-\u001b[39m\u001b[38;5;124m\"\u001b[39m\n\u001b[1;32m     13\u001b[0m PROJECT \u001b[38;5;241m=\u001b[39m os\u001b[38;5;241m.\u001b[39menviron\u001b[38;5;241m.\u001b[39mget(RuntimeEnvVar\u001b[38;5;241m.\u001b[39mPROJECT\u001b[38;5;241m.\u001b[39mvalue)\n",
      "\u001b[0;31mModuleNotFoundError\u001b[0m: No module named 'kfp'"
     ]
    }
   ],
   "source": [
    "%%writefile \"deforestation_pipeline.py\"\n",
    "\n",
    "\n",
    "from digitalhub_runtime_kfp.dsl import pipeline_context\n",
    "\n",
    "def myhandler(startYear, endYear, geometry, input1, input2, outputName):\n",
    "    with pipeline_context() as pc:\n",
    "        string_dict_data = \"\"\"{\"satelliteParams\":{\"satelliteType\":\"Sentinel2\"},\"startDate\":\\\"\"\"\"+ str(startYear) + \"\"\"-01-01\\\",\"endDate\": \\\"\"\"\" + str(endYear) + \"\"\"-12-31\\\",\"geometry\": \\\"\"\"\" + str(geometry) + \"\"\"\\\",\"area_sampling\":\"true\",\"cloudCover\":\"[0,20]\",\"artifact_name\":\"data_s2_deforestation\"}\"\"\"\n",
    "        s1 = pc.step(name=\"download\",function=\"download_images_s2\", action=\"job\", secrets=[\"CDSETOOL_ESA_USER\",\"CDSETOOL_ESA_PASSWORD\"], fs_group='8877', args={\"args\": [\"main.py\", string_dict_data]}, profile=\"1xa100\", volumes=[{\"volume_type\": \"persistent_volume_claim\",\"name\": \"volume-deforestation\", \"mount_path\": \"/app/files\",\"spec\": {\"size\": \"350Gi\"}}])\n",
    "        s2 = pc.step(name=\"elaborate\", function=\"elaborate\", action=\"job\", fs_group='8877', resources={\"cpu\": {\"requests\": \"3\"},\"mem\":{\"requests\": \"16Gi\"}},profile=\"1xa100\",volumes=[{\"volume_type\": \"persistent_volume_claim\",\"name\": \"volume-deforestation\", \"mount_path\": \"/app/files\",\"spec\": {\"size\": \"5Gi\"}}],args={\"args\": ['/shared/launch.sh', input1, 'data_s2_deforestation',\"[\" + str(startYear) + ',' + str(endYear) + \"]\",outputName]}).after(s1)        \n",
    "     \n"
   ]
  },
  {
   "cell_type": "code",
   "execution_count": 65,
   "id": "65f1d654",
   "metadata": {},
   "outputs": [],
   "source": [
    "workflow = proj.new_workflow(name=\"pipeline_deforestation\", kind=\"kfp\", code_src= \"deforestation_pipeline.py\", handler = \"myhandler\")"
   ]
  },
  {
   "cell_type": "code",
   "execution_count": null,
   "id": "68608529",
   "metadata": {},
   "outputs": [
    {
     "name": "stderr",
     "output_type": "stream",
     "text": [
      "2025-05-22 08:49:23,920 - INFO - Waiting for run 9ad698c784f94424a0637051f43db705 to finish...\n",
      "2025-05-22 08:49:28,958 - INFO - Waiting for run 9ad698c784f94424a0637051f43db705 to finish...\n",
      "2025-05-22 08:49:33,992 - INFO - Waiting for run 9ad698c784f94424a0637051f43db705 to finish...\n",
      "2025-05-22 08:49:39,045 - INFO - Run 9ad698c784f94424a0637051f43db705 finished in 15.13 seconds.\n"
     ]
    },
    {
     "data": {
      "text/plain": [
       "{'kind': 'kfp+run', 'metadata': {'project': 'deforestation', 'name': '9ad698c784f94424a0637051f43db705', 'created': '2025-05-22T08:49:23.904Z', 'updated': '2025-05-22T08:49:29.402Z', 'created_by': 'khurshid@fbk.eu', 'updated_by': 'khurshid@fbk.eu', 'relationships': [{'type': 'run_of', 'dest': 'store://deforestation/workflow/kfp/pipeline_deforestation:444848fc05044f0f94a370e2258efce4'}]}, 'spec': {'task': 'kfp+build://deforestation/323640407313443188a3fa2a092208bb', 'local_execution': False, 'workflow': 'kfp://deforestation/pipeline_deforestation:444848fc05044f0f94a370e2258efce4', 'source': {'source': 'deforestation_pipeline.py', 'handler': 'myhandler', 'base64': 'Cgpmcm9tIGRpZ2l0YWxodWJfcnVudGltZV9rZnAuZHNsIGltcG9ydCBwaXBlbGluZV9jb250ZXh0CgpkZWYgbXloYW5kbGVyKHN0YXJ0WWVhciwgZW5kWWVhciwgZ2VvbWV0cnksIGlucHV0MSwgaW5wdXQyLCBvdXRwdXROYW1lKToKICAgIHdpdGggcGlwZWxpbmVfY29udGV4dCgpIGFzIHBjOgogICAgICAgIHN0cmluZ19kaWN0X2RhdGEgPSAiIiJ7InNhdGVsbGl0ZVBhcmFtcyI6eyJzYXRlbGxpdGVUeXBlIjoiU2VudGluZWwyIn0sInN0YXJ0RGF0ZSI6XCIiIiIrIHN0cihzdGFydFllYXIpICsgIiIiLTAxLTAxXCIsImVuZERhdGUiOiBcIiIiIiArIHN0cihlbmRZZWFyKSArICIiIi0xMi0zMVwiLCJnZW9tZXRyeSI6IFwiIiIiICsgc3RyKGdlb21ldHJ5KSArICIiIlwiLCJhcmVhX3NhbXBsaW5nIjoidHJ1ZSIsImNsb3VkQ292ZXIiOiJbMCwyMF0iLCJhcnRpZmFjdF9uYW1lIjoiZGF0YV9zMl9kZWZvcmVzdGF0aW9uIn0iIiIKICAgICAgICBzMSA9IHBjLnN0ZXAobmFtZT0iZG93bmxvYWQiLGZ1bmN0aW9uPSJkb3dubG9hZF9pbWFnZXNfczIiLCBhY3Rpb249ImpvYiIsIHNlY3JldHM9WyJDRFNFVE9PTF9FU0FfVVNFUiIsIkNEU0VUT09MX0VTQV9QQVNTV09SRCJdLCBmc19ncm91cD0nODg3NycsIGFyZ3M9eyJhcmdzIjogWyJtYWluLnB5Iiwgc3RyaW5nX2RpY3RfZGF0YV19LCBwcm9maWxlPSIxeGExMDAiLCB2b2x1bWVzPVt7InZvbHVtZV90eXBlIjogInBlcnNpc3RlbnRfdm9sdW1lX2NsYWltIiwibmFtZSI6ICJ2b2x1bWUtZGVmb3Jlc3RhdGlvbiIsICJtb3VudF9wYXRoIjogIi9hcHAvZmlsZXMiLCJzcGVjIjogeyJzaXplIjogIjM1MEdpIn19XSkKICAgICAgICBzMiA9IHBjLnN0ZXAobmFtZT0iZWxhYm9yYXRlIiwgZnVuY3Rpb249ImVsYWJvcmF0ZSIsIGFjdGlvbj0iam9iIiwgZnNfZ3JvdXA9Jzg4NzcnLCByZXNvdXJjZXM9eyJjcHUiOiB7InJlcXVlc3RzIjogIjMifSwibWVtIjp7InJlcXVlc3RzIjogIjE2R2kifX0scHJvZmlsZT0iMXhhMTAwIix2b2x1bWVzPVt7InZvbHVtZV90eXBlIjogInBlcnNpc3RlbnRfdm9sdW1lX2NsYWltIiwibmFtZSI6ICJ2b2x1bWUtZGVmb3Jlc3RhdGlvbiIsICJtb3VudF9wYXRoIjogIi9hcHAvZmlsZXMiLCJzcGVjIjogeyJzaXplIjogIjVHaSJ9fV0sYXJncz17ImFyZ3MiOiBbJy9zaGFyZWQvbGF1bmNoLnNoJywgaW5wdXQxLCAnZGF0YV9zMl9kZWZvcmVzdGF0aW9uJywiWyIgKyBzdHIoc3RhcnRZZWFyKSArICcsJyArIHN0cihlbmRZZWFyKSArICJdIixvdXRwdXROYW1lXX0pLmFmdGVyKHMxKSAgICAgICAgCiAgICAgCg==', 'lang': 'python'}, 'inputs': {}, 'outputs': {}, 'parameters': {}}, 'status': {'state': 'COMPLETED', 'transitions': [{'status': 'COMPLETED', 'time': '2025-05-22T08:49:29.397243058Z'}, {'status': 'RUNNING', 'time': '2025-05-22T08:49:23.942475457Z'}, {'status': 'READY', 'time': '2025-05-22T08:49:23.915585913Z'}, {'status': 'BUILT', 'time': '2025-05-22T08:49:23.908385037Z'}], 'k8s': {'job': {'metadata': {'creationTimestamp': 1747903763.0, 'generation': 1, 'labels': {'app.kubernetes.io/instance': 'dhcore-9ad698c784f94424a0637051f43db705', 'app.kubernetes.io/managed-by': 'dhcore', 'app.kubernetes.io/part-of': 'dhcore-deforestation', 'app.kubernetes.io/version': '9ad698c784f94424a0637051f43db705', 'dhcore/framework': 'k8sjob', 'dhcore/project': 'deforestation', 'dhcore/run': '9ad698c784f94424a0637051f43db705', 'dhcore/runtime': 'kfp'}, 'managedFields': [{'apiVersion': 'batch/v1', 'fieldsType': 'FieldsV1', 'manager': 'Kubernetes Java Client', 'operation': 'Update', 'time': 1747903763.0}, {'apiVersion': 'batch/v1', 'fieldsType': 'FieldsV1', 'manager': 'kube-controller-manager', 'operation': 'Update', 'subresource': 'status', 'time': 1747903769.0}], 'name': 'j-kfppipeline-9ad698c784f94424a0637051f43db705', 'namespace': 'digitalhub-tenant1', 'resourceVersion': '229143', 'uid': '15964814-03ac-4272-9aa8-5d128e072764'}, 'apiVersion': 'batch/v1', 'kind': 'Job', 'spec': {'activeDeadlineSeconds': 604800, 'backoffLimit': 0, 'completionMode': 'NonIndexed', 'completions': 1, 'manualSelector': False, 'parallelism': 1, 'podReplacementPolicy': 'TerminatingOrFailed', 'selector': {'matchLabels': {'batch.kubernetes.io/controller-uid': '15964814-03ac-4272-9aa8-5d128e072764'}}, 'suspend': False, 'template': {'metadata': {'labels': {'app.kubernetes.io/instance': 'dhcore-9ad698c784f94424a0637051f43db705', 'app.kubernetes.io/managed-by': 'dhcore', 'app.kubernetes.io/part-of': 'dhcore-deforestation', 'app.kubernetes.io/version': '9ad698c784f94424a0637051f43db705', 'batch.kubernetes.io/controller-uid': '15964814-03ac-4272-9aa8-5d128e072764', 'batch.kubernetes.io/job-name': 'j-kfppipeline-9ad698c784f94424a0637051f43db705', 'controller-uid': '15964814-03ac-4272-9aa8-5d128e072764', 'dhcore/framework': 'k8sjob', 'dhcore/project': 'deforestation', 'dhcore/run': '9ad698c784f94424a0637051f43db705', 'dhcore/runtime': 'kfp', 'job-name': 'j-kfppipeline-9ad698c784f94424a0637051f43db705'}, 'name': 'j-kfppipeline-9ad698c784f94424a0637051f43db705'}, 'spec': {'containers': [{'args': ['wrapper.py'], 'command': ['python'], 'env': [{'name': 'DH_RUN_SECRET_NAME', 'value': 'sec-kfppipeline-9ad698c784f94424a0637051f43db705'}, {'name': 'AWS_REGION', 'valueFrom': {'secretKeyRef': {'key': 'AWS_REGION', 'name': 'sec-kfppipeline-9ad698c784f94424a0637051f43db705'}}}, {'name': 'DB_PLATFORM', 'valueFrom': {'secretKeyRef': {'key': 'DB_PLATFORM', 'name': 'sec-kfppipeline-9ad698c784f94424a0637051f43db705'}}}, {'name': 'DHCORE_ACCESS_TOKEN', 'valueFrom': {'secretKeyRef': {'key': 'DHCORE_ACCESS_TOKEN', 'name': 'sec-kfppipeline-9ad698c784f94424a0637051f43db705'}}}, {'name': 'DIGITALHUB_CORE_WORKFLOW_IMAGE', 'value': 'ghcr.io/scc-digitalhub/digitalhub-sdk-wrapper-kfp/wrapper-kfp:0.11.0b4'}, {'name': 'PROJECTS', 'valueFrom': {'secretKeyRef': {'key': 'PROJECTS', 'name': 'sec-kfppipeline-9ad698c784f94424a0637051f43db705'}}}, {'name': 'DHCORE_CLIENT_ID', 'valueFrom': {'secretKeyRef': {'key': 'DHCORE_CLIENT_ID', 'name': 'sec-kfppipeline-9ad698c784f94424a0637051f43db705'}}}, {'name': 'DB_PORT', 'valueFrom': {'secretKeyRef': {'key': 'DB_PORT', 'name': 'sec-kfppipeline-9ad698c784f94424a0637051f43db705'}}}, {'name': 'DHCORE_ID_TOKEN', 'valueFrom': {'secretKeyRef': {'key': 'DHCORE_ID_TOKEN', 'name': 'sec-kfppipeline-9ad698c784f94424a0637051f43db705'}}}, {'name': 'AWS_SECRET_ACCESS_KEY', 'valueFrom': {'secretKeyRef': {'key': 'AWS_SECRET_ACCESS_KEY', 'name': 'sec-kfppipeline-9ad698c784f94424a0637051f43db705'}}}, {'name': 'AWS_ENDPOINT_URL', 'valueFrom': {'secretKeyRef': {'key': 'AWS_ENDPOINT_URL', 'name': 'sec-kfppipeline-9ad698c784f94424a0637051f43db705'}}}, {'name': 'DHCORE_ISSUER', 'valueFrom': {'secretKeyRef': {'key': 'DHCORE_ISSUER', 'name': 'sec-kfppipeline-9ad698c784f94424a0637051f43db705'}}}, {'name': 'DB_HOST', 'valueFrom': {'secretKeyRef': {'key': 'DB_HOST', 'name': 'sec-kfppipeline-9ad698c784f94424a0637051f43db705'}}}, {'name': 'PROJECT_NAME', 'value': 'deforestation'}, {'name': 'RUN_ID', 'value': '9ad698c784f94424a0637051f43db705'}, {'name': 'AWS_SESSION_TOKEN', 'valueFrom': {'secretKeyRef': {'key': 'AWS_SESSION_TOKEN', 'name': 'sec-kfppipeline-9ad698c784f94424a0637051f43db705'}}}, {'name': 'DHCORE_REFRESH_TOKEN', 'valueFrom': {'secretKeyRef': {'key': 'DHCORE_REFRESH_TOKEN', 'name': 'sec-kfppipeline-9ad698c784f94424a0637051f43db705'}}}, {'name': 'DB_USERNAME', 'valueFrom': {'secretKeyRef': {'key': 'DB_USERNAME', 'name': 'sec-kfppipeline-9ad698c784f94424a0637051f43db705'}}}, {'name': 'AWS_ACCESS_KEY_ID', 'valueFrom': {'secretKeyRef': {'key': 'AWS_ACCESS_KEY_ID', 'name': 'sec-kfppipeline-9ad698c784f94424a0637051f43db705'}}}, {'name': 'S3_SIGNATURE_VERSION', 'valueFrom': {'secretKeyRef': {'key': 'S3_SIGNATURE_VERSION', 'name': 'sec-kfppipeline-9ad698c784f94424a0637051f43db705'}}}, {'name': 'DHCORE_EXPIRES_IN', 'valueFrom': {'secretKeyRef': {'key': 'DHCORE_EXPIRES_IN', 'name': 'sec-kfppipeline-9ad698c784f94424a0637051f43db705'}}}, {'name': 'DB_DATABASE', 'valueFrom': {'secretKeyRef': {'key': 'DB_DATABASE', 'name': 'sec-kfppipeline-9ad698c784f94424a0637051f43db705'}}}, {'name': 'DB_PASSWORD', 'valueFrom': {'secretKeyRef': {'key': 'DB_PASSWORD', 'name': 'sec-kfppipeline-9ad698c784f94424a0637051f43db705'}}}], 'envFrom': [{'configMapRef': {'name': 'digitalhub-common-env'}}], 'image': 'ghcr.io/scc-digitalhub/digitalhub-sdk-wrapper-kfp/wrapper-kfp:0.11.0b4', 'imagePullPolicy': 'IfNotPresent', 'name': 'c-kfppipeline-9ad698c784f94424a0637051f43db705', 'securityContext': {'allowPrivilegeEscalation': False, 'privileged': False, 'runAsNonRoot': True}, 'terminationMessagePath': '/dev/termination-log', 'terminationMessagePolicy': 'File'}], 'dnsPolicy': 'ClusterFirst', 'imagePullSecrets': [{'name': 'registry-credentials'}], 'restartPolicy': 'Never', 'schedulerName': 'default-scheduler', 'securityContext': {'runAsNonRoot': True}, 'terminationGracePeriodSeconds': 30}}}, 'status': {'completionTime': 1747903769.0, 'conditions': [{'lastProbeTime': 1747903769.0, 'lastTransitionTime': 1747903769.0, 'message': 'Reached expected number of succeeded pods', 'reason': 'CompletionsReached', 'status': 'True', 'type': 'SuccessCriteriaMet'}, {'lastProbeTime': 1747903769.0, 'lastTransitionTime': 1747903769.0, 'message': 'Reached expected number of succeeded pods', 'reason': 'CompletionsReached', 'status': 'True', 'type': 'Complete'}], 'ready': 0, 'startTime': 1747903763.0, 'succeeded': 1, 'terminating': 0}}, 'pods': [{'metadata': {'creationTimestamp': 1747903763.0, 'generateName': 'j-kfppipeline-9ad698c784f94424a0637051f43db705-', 'labels': {'app.kubernetes.io/instance': 'dhcore-9ad698c784f94424a0637051f43db705', 'app.kubernetes.io/managed-by': 'dhcore', 'app.kubernetes.io/part-of': 'dhcore-deforestation', 'app.kubernetes.io/version': '9ad698c784f94424a0637051f43db705', 'batch.kubernetes.io/controller-uid': '15964814-03ac-4272-9aa8-5d128e072764', 'batch.kubernetes.io/job-name': 'j-kfppipeline-9ad698c784f94424a0637051f43db705', 'controller-uid': '15964814-03ac-4272-9aa8-5d128e072764', 'dhcore/framework': 'k8sjob', 'dhcore/project': 'deforestation', 'dhcore/run': '9ad698c784f94424a0637051f43db705', 'dhcore/runtime': 'kfp', 'job-name': 'j-kfppipeline-9ad698c784f94424a0637051f43db705'}, 'managedFields': [{'apiVersion': 'v1', 'fieldsType': 'FieldsV1', 'manager': 'kube-controller-manager', 'operation': 'Update', 'time': 1747903763.0}, {'apiVersion': 'v1', 'fieldsType': 'FieldsV1', 'manager': 'kubelet', 'operation': 'Update', 'subresource': 'status', 'time': 1747903768.0}], 'name': 'j-kfppipeline-9ad698c784f94424a0637051f43db705-vm5r8', 'namespace': 'digitalhub-tenant1', 'ownerReferences': [{'apiVersion': 'batch/v1', 'blockOwnerDeletion': True, 'controller': True, 'kind': 'Job', 'name': 'j-kfppipeline-9ad698c784f94424a0637051f43db705', 'uid': '15964814-03ac-4272-9aa8-5d128e072764'}], 'resourceVersion': '229142', 'uid': '11952320-5320-4f45-827a-fc43f7973187'}, 'spec': {'containers': [{'args': ['wrapper.py'], 'command': ['python'], 'env': [{'name': 'DH_RUN_SECRET_NAME', 'value': 'sec-kfppipeline-9ad698c784f94424a0637051f43db705'}, {'name': 'AWS_REGION', 'valueFrom': {'secretKeyRef': {'key': 'AWS_REGION', 'name': 'sec-kfppipeline-9ad698c784f94424a0637051f43db705'}}}, {'name': 'DB_PLATFORM', 'valueFrom': {'secretKeyRef': {'key': 'DB_PLATFORM', 'name': 'sec-kfppipeline-9ad698c784f94424a0637051f43db705'}}}, {'name': 'DHCORE_ACCESS_TOKEN', 'valueFrom': {'secretKeyRef': {'key': 'DHCORE_ACCESS_TOKEN', 'name': 'sec-kfppipeline-9ad698c784f94424a0637051f43db705'}}}, {'name': 'DIGITALHUB_CORE_WORKFLOW_IMAGE', 'value': 'ghcr.io/scc-digitalhub/digitalhub-sdk-wrapper-kfp/wrapper-kfp:0.11.0b4'}, {'name': 'PROJECTS', 'valueFrom': {'secretKeyRef': {'key': 'PROJECTS', 'name': 'sec-kfppipeline-9ad698c784f94424a0637051f43db705'}}}, {'name': 'DHCORE_CLIENT_ID', 'valueFrom': {'secretKeyRef': {'key': 'DHCORE_CLIENT_ID', 'name': 'sec-kfppipeline-9ad698c784f94424a0637051f43db705'}}}, {'name': 'DB_PORT', 'valueFrom': {'secretKeyRef': {'key': 'DB_PORT', 'name': 'sec-kfppipeline-9ad698c784f94424a0637051f43db705'}}}, {'name': 'DHCORE_ID_TOKEN', 'valueFrom': {'secretKeyRef': {'key': 'DHCORE_ID_TOKEN', 'name': 'sec-kfppipeline-9ad698c784f94424a0637051f43db705'}}}, {'name': 'AWS_SECRET_ACCESS_KEY', 'valueFrom': {'secretKeyRef': {'key': 'AWS_SECRET_ACCESS_KEY', 'name': 'sec-kfppipeline-9ad698c784f94424a0637051f43db705'}}}, {'name': 'AWS_ENDPOINT_URL', 'valueFrom': {'secretKeyRef': {'key': 'AWS_ENDPOINT_URL', 'name': 'sec-kfppipeline-9ad698c784f94424a0637051f43db705'}}}, {'name': 'DHCORE_ISSUER', 'valueFrom': {'secretKeyRef': {'key': 'DHCORE_ISSUER', 'name': 'sec-kfppipeline-9ad698c784f94424a0637051f43db705'}}}, {'name': 'DB_HOST', 'valueFrom': {'secretKeyRef': {'key': 'DB_HOST', 'name': 'sec-kfppipeline-9ad698c784f94424a0637051f43db705'}}}, {'name': 'PROJECT_NAME', 'value': 'deforestation'}, {'name': 'RUN_ID', 'value': '9ad698c784f94424a0637051f43db705'}, {'name': 'AWS_SESSION_TOKEN', 'valueFrom': {'secretKeyRef': {'key': 'AWS_SESSION_TOKEN', 'name': 'sec-kfppipeline-9ad698c784f94424a0637051f43db705'}}}, {'name': 'DHCORE_REFRESH_TOKEN', 'valueFrom': {'secretKeyRef': {'key': 'DHCORE_REFRESH_TOKEN', 'name': 'sec-kfppipeline-9ad698c784f94424a0637051f43db705'}}}, {'name': 'DB_USERNAME', 'valueFrom': {'secretKeyRef': {'key': 'DB_USERNAME', 'name': 'sec-kfppipeline-9ad698c784f94424a0637051f43db705'}}}, {'name': 'AWS_ACCESS_KEY_ID', 'valueFrom': {'secretKeyRef': {'key': 'AWS_ACCESS_KEY_ID', 'name': 'sec-kfppipeline-9ad698c784f94424a0637051f43db705'}}}, {'name': 'S3_SIGNATURE_VERSION', 'valueFrom': {'secretKeyRef': {'key': 'S3_SIGNATURE_VERSION', 'name': 'sec-kfppipeline-9ad698c784f94424a0637051f43db705'}}}, {'name': 'DHCORE_EXPIRES_IN', 'valueFrom': {'secretKeyRef': {'key': 'DHCORE_EXPIRES_IN', 'name': 'sec-kfppipeline-9ad698c784f94424a0637051f43db705'}}}, {'name': 'DB_DATABASE', 'valueFrom': {'secretKeyRef': {'key': 'DB_DATABASE', 'name': 'sec-kfppipeline-9ad698c784f94424a0637051f43db705'}}}, {'name': 'DB_PASSWORD', 'valueFrom': {'secretKeyRef': {'key': 'DB_PASSWORD', 'name': 'sec-kfppipeline-9ad698c784f94424a0637051f43db705'}}}], 'envFrom': [{'configMapRef': {'name': 'digitalhub-common-env'}}], 'image': 'ghcr.io/scc-digitalhub/digitalhub-sdk-wrapper-kfp/wrapper-kfp:0.11.0b4', 'imagePullPolicy': 'IfNotPresent', 'name': 'c-kfppipeline-9ad698c784f94424a0637051f43db705', 'securityContext': {'allowPrivilegeEscalation': False, 'privileged': False, 'runAsNonRoot': True}, 'terminationMessagePath': '/dev/termination-log', 'terminationMessagePolicy': 'File', 'volumeMounts': [{'mountPath': '/var/run/secrets/kubernetes.io/serviceaccount', 'name': 'kube-api-access-nwgjs', 'readOnly': True}]}], 'dnsPolicy': 'ClusterFirst', 'enableServiceLinks': True, 'imagePullSecrets': [{'name': 'registry-credentials'}], 'nodeName': 'digitalhub-dev-md-0-wjgd6-q9lfh', 'preemptionPolicy': 'PreemptLowerPriority', 'priority': 0, 'restartPolicy': 'Never', 'schedulerName': 'default-scheduler', 'securityContext': {'runAsNonRoot': True}, 'serviceAccount': 'default', 'serviceAccountName': 'default', 'terminationGracePeriodSeconds': 30, 'tolerations': [{'effect': 'NoExecute', 'key': 'node.kubernetes.io/not-ready', 'operator': 'Exists', 'tolerationSeconds': 300}, {'effect': 'NoExecute', 'key': 'node.kubernetes.io/unreachable', 'operator': 'Exists', 'tolerationSeconds': 300}], 'volumes': [{'name': 'kube-api-access-nwgjs', 'projected': {'defaultMode': 420, 'sources': [{'serviceAccountToken': {'expirationSeconds': 3607, 'path': 'token'}}, {'configMap': {'items': [{'key': 'ca.crt', 'path': 'ca.crt'}], 'name': 'kube-root-ca.crt'}}, {'downwardAPI': {'items': [{'fieldRef': {'apiVersion': 'v1', 'fieldPath': 'metadata.namespace'}, 'path': 'namespace'}]}}]}}]}, 'status': {'conditions': [{'lastTransitionTime': 1747903768.0, 'status': 'False', 'type': 'PodReadyToStartContainers'}, {'lastTransitionTime': 1747903763.0, 'reason': 'PodCompleted', 'status': 'True', 'type': 'Initialized'}, {'lastTransitionTime': 1747903767.0, 'reason': 'PodCompleted', 'status': 'False', 'type': 'Ready'}, {'lastTransitionTime': 1747903767.0, 'reason': 'PodCompleted', 'status': 'False', 'type': 'ContainersReady'}, {'lastTransitionTime': 1747903763.0, 'status': 'True', 'type': 'PodScheduled'}], 'containerStatuses': [{'containerID': 'containerd://a8d5e96434495eb718e4ba8361c01806d4f69612172ab21877a046b9db6a5a40', 'image': 'ghcr.io/scc-digitalhub/digitalhub-sdk-wrapper-kfp/wrapper-kfp:0.11.0b4', 'imageID': 'ghcr.io/scc-digitalhub/digitalhub-sdk-wrapper-kfp/wrapper-kfp@sha256:a681b8c73cf94802b0168670118ced4d4e7cc5b8c4be555f418753bb8eb61a28', 'name': 'c-kfppipeline-9ad698c784f94424a0637051f43db705', 'ready': False, 'restartCount': 0, 'started': False, 'state': {'terminated': {'containerID': 'containerd://a8d5e96434495eb718e4ba8361c01806d4f69612172ab21877a046b9db6a5a40', 'exitCode': 0, 'finishedAt': 1747903766.0, 'reason': 'Completed', 'startedAt': 1747903764.0}}, 'volumeMounts': [{'mountPath': '/var/run/secrets/kubernetes.io/serviceaccount', 'name': 'kube-api-access-nwgjs', 'readOnly': True, 'recursiveReadOnly': 'Disabled'}]}], 'hostIP': '10.1.0.6', 'hostIPs': [{'ip': '10.1.0.6'}], 'phase': 'Succeeded', 'podIP': '192.168.3.194', 'podIPs': [{'ip': '192.168.3.194'}], 'qosClass': 'BestEffort', 'startTime': 1747903763.0}}], 'secret': {'secret': {'apiVersion': 'v1', 'kind': 'Secret', 'metadata': {'labels': {'dhcore/framework': 'k8sjob', 'app.kubernetes.io/managed-by': 'dhcore', 'app.kubernetes.io/part-of': 'dhcore-deforestation', 'dhcore/project': 'deforestation', 'dhcore/runtime': 'kfp', 'dhcore/run': '9ad698c784f94424a0637051f43db705', 'app.kubernetes.io/instance': 'dhcore-9ad698c784f94424a0637051f43db705', 'app.kubernetes.io/version': '9ad698c784f94424a0637051f43db705'}, 'name': 'sec-kfppipeline-9ad698c784f94424a0637051f43db705', 'namespace': 'digitalhub-tenant1'}}}}, 'metrics': {}, 'results': {'workflow': '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'}}, 'user': 'khurshid@fbk.eu', 'project': 'deforestation', 'id': '9ad698c784f94424a0637051f43db705', 'name': '9ad698c784f94424a0637051f43db705', 'key': 'store://deforestation/run/kfp+run/9ad698c784f94424a0637051f43db705'}"
      ]
     },
     "execution_count": 66,
     "metadata": {},
     "output_type": "execute_result"
    }
   ],
   "source": [
    "workflow.run(action=\"build\", wait=True)"
   ]
  },
  {
   "cell_type": "code",
   "execution_count": null,
   "id": "a6364f4d",
   "metadata": {},
   "outputs": [
    {
     "name": "stderr",
     "output_type": "stream",
     "text": [
      "2025-05-22 08:49:39,126 - INFO - Waiting for run fb1befb1ae044ba8a0b26b5055c7141f to finish...\n",
      "2025-05-22 08:49:44,174 - INFO - Waiting for run fb1befb1ae044ba8a0b26b5055c7141f to finish...\n",
      "2025-05-22 08:49:49,234 - INFO - Waiting for run fb1befb1ae044ba8a0b26b5055c7141f to finish...\n",
      "2025-05-22 08:49:54,257 - INFO - Waiting for run fb1befb1ae044ba8a0b26b5055c7141f to finish...\n",
      "2025-05-22 08:49:59,291 - INFO - Waiting for run fb1befb1ae044ba8a0b26b5055c7141f to finish...\n",
      "2025-05-22 08:50:04,315 - INFO - Run fb1befb1ae044ba8a0b26b5055c7141f finished in 25.19 seconds.\n"
     ]
    }
   ],
   "source": [
    "workflow_run = workflow.run(action=\"pipeline\", parameters={\n",
    "    \"startYear\": \"2018\",\n",
    "    \"endYear\": \"2019\",\n",
    "    \"geometry\": \"POLYGON((10.98014831542969 45.455314263477874,11.030273437500002 45.44808893044964,10.99937438964844 45.42014226680115,10.953025817871096 45.435803739956725,10.98014831542969 45.455314263477874))\",\n",
    "    \"input1\":\"bosco\",\n",
    "    'input2': \"data_s2_deforestation\",\n",
    "    \"outputName\": \"deforestation_2018_19\"\n",
    "    },\n",
    "    wait=True)"
   ]
  },
  {
   "cell_type": "code",
   "execution_count": null,
   "id": "2b440b13",
   "metadata": {},
   "outputs": [],
   "source": []
  }
 ],
 "metadata": {
  "kernelspec": {
   "display_name": "Python 3 (ipykernel)",
   "language": "python",
   "name": "python3"
  },
  "language_info": {
   "codemirror_mode": {
    "name": "ipython",
    "version": 3
   },
   "file_extension": ".py",
   "mimetype": "text/x-python",
   "name": "python",
   "nbconvert_exporter": "python",
   "pygments_lexer": "ipython3",
   "version": "3.9.13"
  }
 },
 "nbformat": 4,
 "nbformat_minor": 5
}
