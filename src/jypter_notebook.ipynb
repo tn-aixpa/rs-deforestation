{
 "cells": [
  {
   "cell_type": "markdown",
   "id": "d0f39895-fb6f-484a-a22c-27831cdeb74e",
   "metadata": {},
   "source": [
    "# FLOOD DETECTION SCENARIO PIPELINE"
   ]
  },
  {
   "cell_type": "code",
   "execution_count": 10,
   "id": "50cf84c6-01ce-4002-a37a-f48e5ff44297",
   "metadata": {},
   "outputs": [],
   "source": [
    "import digitalhub as dh\n",
    "PROJECT_NAME = \"flood-detection\"\n",
    "proj = dh.get_or_create_project(PROJECT_NAME) # source=\"git://github.com/scc-digitalhu"
   ]
  },
  {
   "cell_type": "code",
   "execution_count": 11,
   "id": "89269810-1b4a-49e1-894f-2ab6676ce270",
   "metadata": {},
   "outputs": [],
   "source": [
    "import os\n",
    "directory=\"src\"\n",
    "if not os.path.exists(directory):\n",
    "    os.makedirs(directory)"
   ]
  },
  {
   "cell_type": "markdown",
   "id": "0ec6a499-4688-4b64-a4af-07c068c12541",
   "metadata": {},
   "source": [
    "## Download Sentinel 2"
   ]
  },
  {
   "cell_type": "code",
   "execution_count": 14,
   "id": "e71b4aa9-58e3-4529-ac2f-b3696eb1f2c1",
   "metadata": {},
   "outputs": [],
   "source": [
    "# THIS NEED TO BE EXECUTED JUST ONCE\n",
    "secret0 = proj.new_secret(name=\"CDSETOOL_ESA_USER\", secret_value=\"esa_username\")\n",
    "secret1 = proj.new_secret(name=\"CDSETOOL_ESA_PASSWORD\", secret_value=\"esa_password\")"
   ]
  },
  {
   "cell_type": "markdown",
   "id": "db567725-14a0-4560-8216-36d7f428e95d",
   "metadata": {},
   "source": [
    "### Post flood Sentinel2 data"
   ]
  },
  {
   "cell_type": "code",
   "execution_count": 19,
   "id": "10104e6b-4937-4bef-983b-3e2a5c90b38a",
   "metadata": {},
   "outputs": [],
   "source": [
    "string_dict_data = \"\"\"{\n",
    " \"satelliteParams\":{\n",
    "    \"satelliteType\": \"Sentinel2\",\n",
    "    \"processingLevel\": \"S2MSI2A\",\n",
    "\t\"bandmath\": [\"NDVI\",\"EVI\",\"NDWI\",\"NDSI\",\"NBR\"]\t \n",
    " },\n",
    " \"startDate\": \"2020-10-01\",\n",
    " \"endDate\": \"2020-10-13\",\n",
    " \"geometry\": \"POLYGON((10.88558452267069 46.2069331490752, 11.02591468396198 46.2069331490752, 11.02591468396198 46.288250617785245, 10.88558452267069 46.288250617785245, 10.88558452267069 46.2069331490752))\",\n",
    " \"cloudCover\": \"[0,20]\",\n",
    " \"area_sampling\": \"True\",\n",
    " \"artifact_name\": \"sentinel2_post_flood\",\n",
    " \"preprocess_data_only\": \"false\"\n",
    " }\"\"\"\n",
    "\n",
    "list_args =  [\"main.py\",string_dict_data]\n",
    "function_s2 = proj.new_function(\"download_images_s2\",kind=\"container\",image=\"ghcr.io/tn-aixpa/sentinel-tools:0.11.0_beta5\",command=\"python\")"
   ]
  },
  {
   "cell_type": "code",
   "execution_count": 17,
   "id": "7b4fbec1-6e1a-4546-804e-8bae02de624f",
   "metadata": {},
   "outputs": [],
   "source": [
    "run = function_s2.run(action=\"job\",\n",
    "        secrets=[\"CDSETOOL_ESA_USER\",\"CDSETOOL_ESA_PASSWORD\"],\n",
    "        fs_group='8877',\n",
    "        args=list_args,           \n",
    "        volumes=[{\n",
    "            \"volume_type\": \"persistent_volume_claim\",\n",
    "            \"name\": \"volume-flood\",\n",
    "            \"mount_path\": \"/app/files\",\n",
    "            \"spec\": {\n",
    "                \"size\": \"300Gi\"\n",
    "            }}])"
   ]
  },
  {
   "cell_type": "code",
   "execution_count": 20,
   "id": "3da28e65-a795-470e-9d4b-b44d68bd2edd",
   "metadata": {},
   "outputs": [
    {
     "data": {
      "text/plain": [
       "'RUNNING'"
      ]
     },
     "execution_count": 20,
     "metadata": {},
     "output_type": "execute_result"
    }
   ],
   "source": [
    "run.refresh().status.state"
   ]
  },
  {
   "cell_type": "markdown",
   "id": "1e30f5bf-26e4-48b9-8890-f4a6f07bc31d",
   "metadata": {},
   "source": [
    "### Pre flood Sentinel2 data"
   ]
  },
  {
   "cell_type": "code",
   "execution_count": null,
   "id": "b6f78507-70e4-4e96-8f65-fef2241ee890",
   "metadata": {},
   "outputs": [],
   "source": [
    "string_dict_data = \"\"\"{\n",
    "     \"satelliteParams\":{\n",
    "        \"satelliteType\": \"Sentinel2\",\n",
    "        \"processingLevel\": \"S2MSI2A\",\n",
    "    \t\"bandmath\": [\"NDVI\",\"EVI\",\"NDWI\",\"NDSI\",\"NBR\"]\t \n",
    "     },\n",
    "     \"startDate\": \"2020-09-15\",\n",
    "     \"endDate\": \"2020-09-30\",\n",
    "     \"geometry\": \"POLYGON((10.88558452267069 46.2069331490752, 11.02591468396198 46.2069331490752, 11.02591468396198 46.288250617785245, 10.88558452267069 46.288250617785245, 10.88558452267069 46.2069331490752))\",\n",
    "     \"cloudCover\": \"[0,20]\",\n",
    "     \"area_sampling\": \"True\",\n",
    "     \"artifact_name\": \"sentinel2_pre_flood\",\n",
    "     \"preprocess_data_only\": \"false\"\n",
    "     }\"\"\"\n",
    "\n",
    "list_args =  [\"main.py\",string_dict_data]"
   ]
  },
  {
   "cell_type": "code",
   "execution_count": null,
   "id": "d0983fb4-2488-4e78-9899-c45bc4a94838",
   "metadata": {},
   "outputs": [],
   "source": [
    "run = function_s2.run(action=\"job\",\n",
    "        secrets=[\"CDSETOOL_ESA_USER\",\"CDSETOOL_ESA_PASSWORD\"],\n",
    "        fs_group='8877',\n",
    "        args=list_args,           \n",
    "        volumes=[{\n",
    "            \"volume_type\": \"persistent_volume_claim\",\n",
    "            \"name\": \"volume-flood\",\n",
    "            \"mount_path\": \"/app/files\",\n",
    "            \"spec\": {\n",
    "                \"size\": \"300Gi\"\n",
    "            }}])"
   ]
  },
  {
   "cell_type": "markdown",
   "id": "fa876b7b-18d0-45c8-a332-ab179883dfdc",
   "metadata": {},
   "source": [
    "## Download Sentinel 1"
   ]
  },
  {
   "cell_type": "markdown",
   "id": "ffc92171-f7ef-42f7-a898-dceae643cd31",
   "metadata": {},
   "source": [
    "### Pre flood Sentinel1 data"
   ]
  },
  {
   "cell_type": "code",
   "execution_count": null,
   "id": "4eb0d00d-0d63-4127-99f6-62104638121d",
   "metadata": {},
   "outputs": [],
   "source": [
    "string_dict_data = \"\"\"{\n",
    "  'satelliteParams':{\n",
    "      'satelliteType': 'Sentinel1',\n",
    "      'processingLevel': 'LEVEL1',\n",
    "      'sensorMode': 'IW',\n",
    "      'productType': 'SLC'\n",
    "  } ,\n",
    "  'startDate': '2020-09-25',\n",
    "  'endDate': '2020-09-30',\n",
    "  'geometry': 'POLYGON((10.98014831542969 45.455314263477874,11.030273437500002 45.44808893044964,10.99937438964844 45.42014226680115,10.953025817871096 45.435803739956725,10.98014831542969 45.455314263477874))',\n",
    "  'area_sampling': 'True',\n",
    "  'tmp_path_same_folder_dwl':'True',\n",
    "  'artifact_name': 'sentinel1_GRD_preflood'\n",
    "  }\"\"\"\n",
    "\n",
    "# s3 path is not mandatory\n",
    "\n",
    "list_args =  [\"main.py\",string_dict_data]\n",
    "function_s1 = proj.new_function(\"download_images_s1\",kind=\"container\",image=\"ghcr.io/tn-aixpa/sentinel-tools:0.11.0_beta5\",command=\"python\")"
   ]
  },
  {
   "cell_type": "code",
   "execution_count": null,
   "id": "095802bc-bdeb-4f8b-a9de-af42af351011",
   "metadata": {},
   "outputs": [],
   "source": [
    "run = function_s1.run(action=\"job\",\n",
    "        secrets=[\"CDSETOOL_ESA_USER\",\"CDSETOOL_ESA_PASSWORD\"],\n",
    "        fs_group='8877',\n",
    "        args=list_args,           \n",
    "        volumes=[{\n",
    "            \"volume_type\": \"persistent_volume_claim\",\n",
    "            \"name\": \"volume-flood\",\n",
    "            \"mount_path\": \"/app/files\",\n",
    "            \"spec\": {\n",
    "                \"size\": \"300Gi\"\n",
    "            }}])"
   ]
  },
  {
   "cell_type": "markdown",
   "id": "4df32a98-c1e3-4941-92ba-f864c129bb90",
   "metadata": {},
   "source": [
    "### Post flood Sentinel1 data"
   ]
  },
  {
   "cell_type": "code",
   "execution_count": null,
   "id": "8916edeb-89e9-4efa-98ff-08f17db1caf7",
   "metadata": {},
   "outputs": [],
   "source": [
    "string_dict_data = \"\"\"{\n",
    "  \"satelliteParams\": {\n",
    "          \"satelliteType\": \"Sentinel1\",\n",
    "          \"processingLevel\": \"LEVEL1\",\n",
    "          \"sensorMode\": \"IW\",\n",
    "          \"productType\": \"GRD\"\n",
    "      },\n",
    "      'startDate': '2020-10-02',\n",
    "      'endDate': '2020-10-07',\n",
    "      'geometry': 'POLYGON((10.98014831542969 45.455314263477874,11.030273437500002 45.44808893044964,10.99937438964844 45.42014226680115,10.953025817871096 45.435803739956725,10.98014831542969 45.455314263477874))',\n",
    "      'area_sampling': 'True',\n",
    "      'tmp_path_same_folder_dwl':'True',\n",
    "      'artifact_name': 'sentinel1_GRD_postflood'\n",
    "  }\"\"\"\n",
    "\n",
    "# s3 path is not mandatory\n",
    "\n",
    "list_args =  [\"main.py\",string_dict_data]"
   ]
  },
  {
   "cell_type": "code",
   "execution_count": null,
   "id": "c31693e2-7c3d-41b5-ad4d-ea6985e5b237",
   "metadata": {},
   "outputs": [],
   "source": [
    "run = function_s1.run(action=\"job\",\n",
    "        secrets=[\"CDSETOOL_ESA_USER\",\"CDSETOOL_ESA_PASSWORD\"],\n",
    "        fs_group='8877',\n",
    "        args=list_args,           \n",
    "        volumes=[{\n",
    "            \"volume_type\": \"persistent_volume_claim\",\n",
    "            \"name\": \"volume-flood\",\n",
    "            \"mount_path\": \"/app/files\",\n",
    "            \"spec\": {\n",
    "                \"size\": \"300Gi\"\n",
    "            }}])"
   ]
  },
  {
   "cell_type": "markdown",
   "id": "55bcd0fb-60ee-4b4a-9eda-1cd3152f8172",
   "metadata": {},
   "source": [
    "## Precipitation"
   ]
  },
  {
   "cell_type": "code",
   "execution_count": 3,
   "id": "630b3b6f-6c22-4ffe-b429-3d1b50acb83e",
   "metadata": {},
   "outputs": [
    {
     "name": "stdout",
     "output_type": "stream",
     "text": [
      "Writing src/sentinel2_processing.py\n"
     ]
    }
   ],
   "source": [
    "%%writefile \"src/sentinel2_processing.py\"\n",
    "\n",
    "import digitalhub as dh\n",
    "from digitalhub_runtime_python import handler\n",
    "import glob\n",
    "import rasterio\n",
    "import numpy as np\n",
    "import glob\n",
    "import os\n",
    "import geopandas as gpd\n",
    "from rasterio import features\n",
    "from rasterio.features import shapes\n",
    "from shapely.geometry import shape\n",
    "from PIL import Image\n",
    "from rasterio.mask import mask\n",
    "import zipfile\n",
    "import contextily as ctx\n",
    "from datetime import datetime\n",
    "import json\n",
    "\n",
    "def compute_mean_ndwi(files):\n",
    "    ndwi_stack = []\n",
    "\n",
    "    for file in files:\n",
    "        with rasterio.open(file) as src:\n",
    "            # Reproject AOI to match the raster CRS\n",
    "            aoi_projected = aoi.to_crs(src.crs)\n",
    "\n",
    "            try:\n",
    "                ndwi_cropped, _ = mask(src, aoi_projected.geometry, crop=True)\n",
    "                ndwi_stack.append(ndwi_cropped[0])  # First band\n",
    "            except ValueError as e:\n",
    "                print(f\"Skipping {file}: {e}\")\n",
    "                continue  # Skip files that don't overlap with AOI\n",
    "\n",
    "    ndwi_stack = np.array(ndwi_stack)\n",
    "    mean_ndwi = np.mean(ndwi_stack, axis=0)\n",
    "\n",
    "    return mean_ndwi\n",
    "\n",
    "# Function to save both shapefile and raster of water areas\n",
    "def save_water_layer(ndwi_array, transform, output_shapefile, output_raster, raster_crs, threshold=0):\n",
    "    # Create binary mask of water areas\n",
    "    water_mask = (ndwi_array > threshold).astype(np.uint8)\n",
    "\n",
    "    # --- Save as TIFF ---\n",
    "    height, width = water_mask.shape\n",
    "    with rasterio.open(\n",
    "        output_raster,\n",
    "        \"w\",\n",
    "        driver=\"GTiff\",\n",
    "        height=height,\n",
    "        width=width,\n",
    "        count=1,\n",
    "        dtype=water_mask.dtype,\n",
    "        crs=raster_crs,\n",
    "        transform=transform\n",
    "    ) as dst:\n",
    "        dst.write(water_mask, 1)\n",
    "    print(f\" Raster TIFF saved to {output_raster}\")\n",
    "\n",
    "    # --- Convert mask to polygons and save as shapefile ---\n",
    "    results = shapes(water_mask, mask=water_mask, transform=transform)\n",
    "    geometries = [shape(geom) for geom, _ in results]\n",
    "    gdf = gpd.GeoDataFrame({'geometry': geometries}, crs=raster_crs)\n",
    "    gdf.to_file(output_shapefile)\n",
    "    print(f\" Shapefile saved to {output_shapefile} with CRS: {raster_crs}\")\n",
    "\n",
    "\n",
    "file_basepath = \"/app/files\"\n",
    "@handler()\n",
    "def precipitation(project, af1, af2, shp, before_event_start='', before_event_end='', after_event_start='', after_event_end='', aoi_label='', shape_label=''):\n",
    "    global aoi\n",
    "    data_dir = f\"{file_basepath}/data\"   \n",
    "    try:\n",
    "        shutil.rmtree(data_dir)\n",
    "    except:\n",
    "        print(\"Error deleting flood data dir\")\n",
    "\n",
    "    # Create the directory for the data\n",
    "    if not os.path.exists(data_dir):\n",
    "        os.makedirs(data_dir)\n",
    "\n",
    "    pre_flood_folder = af1.download(data_dir)\n",
    "    post_flood_folder = af2.download(data_dir)\n",
    "    aoi_path = shp.download(data_dir)\n",
    "\n",
    "        \n",
    "    # Define pre-flood and post-flood folders\n",
    "    pre_flood_folder = pre_flood_folder + \"/preprocess/NDWI\"\n",
    "    post_flood_folder = post_flood_folder + \"/preprocess/NDWI\"\n",
    "    aoi_path = aoi_path + \"/\" + shape_label + \".shp\" #crop the Tile with AOI\n",
    "    output_folder = data_dir + f\"{aoi_label}/Outputs\"\n",
    "\n",
    "    if not os.path.exists(output_folder):\n",
    "        os.makedirs(output_folder)\n",
    "    # Output shapefile path\n",
    "    flood_shapefile = os.path.join(output_folder, f\"{aoi_label}_flood_layer.shp\")\n",
    "    metadata_output_path = os.path.join(output_folder, f\"{aoi_label}_metadata.json\")\n",
    "\n",
    "    # Find all NDWI TIFF files in each folder\n",
    "    pre_flood_files = sorted(glob.glob(os.path.join(pre_flood_folder, \"*.tif\")))\n",
    "    post_flood_files = sorted(glob.glob(os.path.join(post_flood_folder, \"*.tif\")))\n",
    "    \n",
    "    # Print the count only\n",
    "    print(f\" Found {len(pre_flood_files)} pre-flood images.\")\n",
    "    print(f\" Found {len(post_flood_files)} post-flood images.\")\n",
    "\n",
    "    # Function to compute the mean NDWI across multiple images\n",
    "    # Load AOI\n",
    "    aoi = gpd.read_file(aoi_path)\n",
    "    \n",
    "    # Compute mean NDWI for pre-flood and post-flood images\n",
    "    ndwi_pre = compute_mean_ndwi(pre_flood_files)\n",
    "    ndwi_post = compute_mean_ndwi(post_flood_files)\n",
    "\n",
    "    #CRS\n",
    "    with rasterio.open(post_flood_files[0]) as src:\n",
    "        transform = src.transform\n",
    "        raster_crs = src.crs\n",
    "\n",
    "    # Define output paths\n",
    "    output_shapefile = os.path.join(output_folder, f\"{aoi_label}_flood_layer.shp\")\n",
    "    output_raster = os.path.join(output_folder, f\"{aoi_label}_flood_layer.tif\")\n",
    "\n",
    "    # Run function\n",
    "    save_water_layer(ndwi_post, transform, output_shapefile, output_raster, raster_crs, threshold=0)\n",
    "\n",
    "    # === Build flood period ===\n",
    "    flood_period = {\n",
    "        \"before\": f\"{before_event_start} to {before_event_end}\",\n",
    "        \"after\": f\"{after_event_start} to {after_event_end}\"\n",
    "    }\n",
    "    \n",
    "    # === Count NDWI images ===\n",
    "    pre_images = glob.glob(os.path.join(pre_flood_folder, \"*.tif\"))\n",
    "    post_images = glob.glob(os.path.join(post_flood_folder, \"*.tif\"))\n",
    "\n",
    "    # === Attempt to load flood shapefile and compute flooded area ===\n",
    "    if os.path.exists(flood_shapefile):\n",
    "        flood_gdf = gpd.read_file(flood_shapefile)\n",
    "        if flood_gdf.crs and flood_gdf.crs.is_geographic:\n",
    "            flood_gdf = flood_gdf.to_crs(epsg=3857)\n",
    "        total_flooded_area_sqkm = round(flood_gdf.geometry.area.sum() / 1e6, 2)\n",
    "    else:\n",
    "        print(f\" Flood shapefile not found: {flood_shapefile}\")\n",
    "        total_flooded_area_sqkm = None\n",
    "\n",
    "    # === Compile metadata dictionary ===\n",
    "    metadata = {\n",
    "        \"flood_layer_calculated\": \"Sentinel-2\",\n",
    "        \"pre_images_count\": len(pre_images),\n",
    "        \"post_images_count\": len(post_images),\n",
    "        \"aoi_name\": aoi_label,\n",
    "        \"flood_period\": flood_period,\n",
    "        \"image_date_range\": [before_event_start, after_event_end],\n",
    "        \"processed_on\": datetime.now().strftime(\"%Y-%m-%d %H:%M:%S\"),\n",
    "        \"outputpath_shapefile_name\": flood_shapefile,\n",
    "        \"notes\": \"Auto-generated metadata during flood layer processing\",\n",
    "        \"total_flooded_area_sqkm\": total_flooded_area_sqkm\n",
    "    }\n",
    "\n",
    "    # === Save metadata to JSON in correct location ===\n",
    "    with open(metadata_output_path, \"w\") as f:\n",
    "        json.dump(metadata, f, indent=4)\n",
    "\n",
    "    # Done\n",
    "    print(f\" Metadata saved at: {metadata_output_path}\")\n",
    "    print(json.dumps(metadata, indent=4))\n",
    "\n",
    "    project.log_artifact(name=aoi_label, kind='artifact', source=output_folder)"
   ]
  },
  {
   "cell_type": "code",
   "execution_count": 5,
   "id": "95f108c5-298e-4be9-bb60-e43a3315b9c4",
   "metadata": {},
   "outputs": [],
   "source": [
    "func = proj.new_function(name=\"precipitation\",\n",
    "                         kind=\"python\",\n",
    "                         python_version=\"PYTHON3_10\",\n",
    "                         source={\"source\": \"src/sentinel2_processing.py\", \"handler\": \"precipitation\"},\n",
    "                         requirements=['numpy', 'ipyleaflet', 'rasterio', 'geopandas', 'shapely', 'pillow', 'contextily', 'folium', 'tqdm'])"
   ]
  },
  {
   "cell_type": "code",
   "execution_count": null,
   "id": "84564726-14b5-4176-8977-acd71d1fc155",
   "metadata": {},
   "outputs": [],
   "source": [
    "af1 = project.get_artifact('sentinel2_pre_flood')\n",
    "af2 = project.get_artifact('sentinel2_post_flood')\n",
    "shp = project.get_artifact('shapes')"
   ]
  },
  {
   "cell_type": "code",
   "execution_count": null,
   "id": "5827a0a2-f59e-4a28-8b5f-cbf598f6f9d8",
   "metadata": {},
   "outputs": [],
   "source": [
    "run = func.run(\n",
    "    action=\"job\",\n",
    "    inputs={\"af1\": af1.key, \"af2\": af2.key, \"shp\": shp.key },\n",
    "    outputs={},\n",
    "    parameters={\n",
    "        'before_event_start': '2020-09-10',\n",
    "        'before_event_end': '2020-10-01',\n",
    "        'after_event_start': '2020-10-02',\n",
    "        'after_event_end': '2020-10-15',\n",
    "        'aoi_label': 'Garda',\n",
    "        'shape_label': 'Areatest'\n",
    "    },\n",
    "    volumes=[{\n",
    "            \"volume_type\": \"persistent_volume_claim\",            \n",
    "            \"name\": \"volume-nk\", # this name has to be equal to the name of the volume created in krm\n",
    "            \"mount_path\": \"/app/files\",\n",
    "            \"spec\": {\n",
    "                \"size\": \"50Gi\"\n",
    "    }}],\n",
    "    local_execution=False,\n",
    "    wait=True\n",
    ")"
   ]
  },
  {
   "cell_type": "markdown",
   "id": "a96a9aeb-755e-4b75-bc50-4e77ef972e28",
   "metadata": {},
   "source": [
    "## Elaboration"
   ]
  },
  {
   "cell_type": "code",
   "execution_count": null,
   "id": "dc2e2394-ca5a-44f1-94f9-75cead8998b8",
   "metadata": {},
   "outputs": [],
   "source": [
    "function_rs = proj.new_function(\"elaborate\",kind=\"container\", image=\"ghcr.io/tn-aixpa/rs-flood-mapping:0.1_b5\", code_src=\"launch.sh\")"
   ]
  },
  {
   "cell_type": "code",
   "execution_count": null,
   "id": "04f9bfe1-6218-44ce-af07-8b2f0dd2a1c8",
   "metadata": {},
   "outputs": [],
   "source": [
    "run_el = function_rs.run(action=\"job\",\n",
    "            fs_group='8877',\n",
    "            resources={\n",
    "                \"cpu\": {\n",
    "                    \"requests\": \"3\",\n",
    "                    \n",
    "                },\n",
    "                \"mem\":{\n",
    "                    \"requests\": \"16Gi\"\n",
    "                }\n",
    "            },\n",
    "            profile=\"1xa100\",\n",
    "            volumes=[{\n",
    "            \"volume_type\": \"persistent_volume_claim\",            \n",
    "            \"name\": \"volume-flood\", # this name has to be equal to the name of the volume created in krm\n",
    "            \"mount_path\": \"/app/files\",\n",
    "            \"spec\": {\n",
    "                \"size\": \"5Gi\"\n",
    "            }}],\n",
    "            args=['/shared/launch.sh', 'bosco','data',\"['2018','2019']\",'deforestation_output']\n",
    "         )"
   ]
  }
 ],
 "metadata": {
  "kernelspec": {
   "display_name": "Python 3 (ipykernel)",
   "language": "python",
   "name": "python3"
  },
  "language_info": {
   "codemirror_mode": {
    "name": "ipython",
    "version": 3
   },
   "file_extension": ".py",
   "mimetype": "text/x-python",
   "name": "python",
   "nbconvert_exporter": "python",
   "pygments_lexer": "ipython3",
   "version": "3.9.13"
  }
 },
 "nbformat": 4,
 "nbformat_minor": 5
}
