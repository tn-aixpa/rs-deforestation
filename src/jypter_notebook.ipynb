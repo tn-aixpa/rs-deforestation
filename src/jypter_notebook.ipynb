{
 "cells": [
  {
   "cell_type": "markdown",
   "id": "d470c258",
   "metadata": {},
   "source": [
    "# DEFORESTATION SCENARIO PIPELINE"
   ]
  },
  {
   "cell_type": "code",
   "execution_count": 1,
   "id": "22976efc-003a-4170-bcf0-6a33ac84e76a",
   "metadata": {},
   "outputs": [],
   "source": [
    "import digitalhub as dh\n",
    "PROJECT_NAME = \"deforestation\"\n",
    "proj = dh.get_or_create_project(PROJECT_NAME) # source=\"git://github.com/scc-digitalhu"
   ]
  },
  {
   "cell_type": "markdown",
   "id": "246d5c4d",
   "metadata": {},
   "source": [
    "Register to the open data space copenicus(if not already) and get your credentials.\n",
    "\n",
    "https://identity.dataspace.copernicus.eu/auth/realms/CDSE/login-actions/registration?client_id=cdse-public&tab_id=FIiRPJeoiX4\n",
    "\n",
    "Log the credentials as project secret keys as shown below"
   ]
  },
  {
   "cell_type": "code",
   "execution_count": null,
   "id": "cbb91e46",
   "metadata": {},
   "outputs": [],
   "source": [
    "# THIS NEED TO BE EXECUTED JUST ONCE\n",
    "secret0 = proj.new_secret(name=\"CDSETOOL_ESA_USER\", secret_value=\"esa_username\")\n",
    "secret1 = proj.new_secret(name=\"CDSETOOL_ESA_PASSWORD\", secret_value=\"esa_password\")"
   ]
  },
  {
   "cell_type": "markdown",
   "id": "29a61c81",
   "metadata": {},
   "source": [
    "### Download data from Sentinel 2"
   ]
  },
  {
   "cell_type": "code",
   "execution_count": 3,
   "id": "c49ced7c",
   "metadata": {},
   "outputs": [],
   "source": [
    "string_dict_data = \"\"\"{\n",
    " \"satelliteParams\":{\n",
    "     \"satelliteType\": \"Sentinel2\"\n",
    " },\n",
    " \"startDate\": \"2018-01-01\",\n",
    " \"endDate\": \"2019-12-31\",\n",
    " \"geometry\": \"POLYGON((10.98014831542969 45.455314263477874,11.030273437500002 45.44808893044964,10.99937438964844 45.42014226680115,10.953025817871096 45.435803739956725,10.98014831542969 45.455314263477874))\",\n",
    " \"area_sampling\": \"true\",\n",
    " \"cloudCover\": \"[0,20]\",\n",
    " \"artifact_name\": \"data\" \n",
    " }\"\"\"\n",
    "\n",
    "list_args =  [\"main.py\",string_dict_data]\n",
    "function_s2 = proj.new_function(\"download_images_s2\",kind=\"container\",image=\"ghcr.io/tn-aixpa/sentinel-tools:0.10.1\",command=\"python\")"
   ]
  },
  {
   "cell_type": "code",
   "execution_count": null,
   "id": "a3c0cfdf",
   "metadata": {},
   "outputs": [],
   "source": [
    "run = function_s2.run(action=\"job\",\n",
    "        secrets=[\"CDSETOOL_ESA_USER\",\"CDSETOOL_ESA_PASSWORD\"],\n",
    "        fs_group='8877',\n",
    "        args=list_args,           \n",
    "        volumes=[{\n",
    "            \"volume_type\": \"persistent_volume_claim\",\n",
    "            \"name\": \"volume-deforestation\",\n",
    "            \"mount_path\": \"/app/files\",\n",
    "            \"spec\": {\n",
    "                \"size\": \"300Gi\"\n",
    "            }}])"
   ]
  },
  {
   "cell_type": "code",
   "execution_count": 29,
   "id": "2dd8bc1d-9695-4945-8d18-50fc6e4727ca",
   "metadata": {},
   "outputs": [
    {
     "data": {
      "text/plain": [
       "'RUNNING'"
      ]
     },
     "execution_count": 29,
     "metadata": {},
     "output_type": "execute_result"
    }
   ],
   "source": [
    "run.refresh().status.state"
   ]
  },
  {
   "cell_type": "code",
   "execution_count": 11,
   "id": "2a26dc06-62ba-479c-81cb-b6f7e1732e6d",
   "metadata": {},
   "outputs": [],
   "source": [
    "artifact = proj.get_artifact('data')"
   ]
  },
  {
   "cell_type": "markdown",
   "id": "cb5d1d27-54e4-4810-8466-d8f040682d4d",
   "metadata": {},
   "source": [
    "### Perform Data Elaboration on RS-Tool"
   ]
  },
  {
   "cell_type": "markdown",
   "id": "30cebf36-2e51-4f5d-99ab-982bc0aa31e2",
   "metadata": {},
   "source": [
    "#### Input data (Shape file)"
   ]
  },
  {
   "cell_type": "code",
   "execution_count": null,
   "id": "f4a857ec-04bc-4c6e-ae4b-4c6366221690",
   "metadata": {},
   "outputs": [],
   "source": [
    "artifact_name='bosco'\n",
    "src_path='bosco'\n",
    "artifact_bosco = proj.log_artifact(name=artifact_name, kind=\"artifact\", source=src_path)"
   ]
  },
  {
   "cell_type": "markdown",
   "id": "50675c63-3bb4-45e6-a32f-432bfe492fb2",
   "metadata": {},
   "source": [
    "#### Input data (Tiles)"
   ]
  },
  {
   "cell_type": "code",
   "execution_count": 4,
   "id": "b5b8f1cf-dafe-4046-b330-e036c7f5f270",
   "metadata": {},
   "outputs": [],
   "source": [
    "artifact_name='data'\n",
    "src_path='data'\n",
    "artifact_data = proj.log_artifact(name=artifact_name, kind=\"artifact\", source=src_path)"
   ]
  },
  {
   "cell_type": "code",
   "execution_count": 30,
   "id": "d9786c85-7790-4508-92d5-32276d8b8921",
   "metadata": {},
   "outputs": [],
   "source": [
    "function_rs = proj.new_function(\"elaborate\",kind=\"container\", image=\"ghcr.io/tn-aixpa/rs-deforestation:dev-t1\", code_src=\"launch.sh\")"
   ]
  },
  {
   "cell_type": "code",
   "execution_count": null,
   "id": "f658ca14-a41b-4ab4-94a5-3da78bfaddfe",
   "metadata": {},
   "outputs": [],
   "source": [
    "#!pip uninstall digitalhub -y && pip install git+https://github.com/scc-digitalhub/digitalhub-sdk\n",
    "!pip uninstall digitalhub digitalhub-runtime-container -y && pip install git+https://github.com/scc-digitalhub/digitalhub-sdk git+https://github.com/scc-digitalhub/digitalhub-sdk-runtime-container "
   ]
  },
  {
   "cell_type": "code",
   "execution_count": null,
   "id": "1c445924-4370-4f8d-b24c-9fb18d9fd053",
   "metadata": {},
   "outputs": [],
   "source": [
    "run_el = function_rs.run(action=\"job\",\n",
    "            fs_group='8877',\n",
    "            resources={\n",
    "                \"cpu\": {\n",
    "                    \"requests\": \"3\",\n",
    "                    \n",
    "                },\n",
    "                \"mem\":{\n",
    "                    \"requests\": \"16Gi\"\n",
    "                }\n",
    "            },\n",
    "            profile=\"1xa100\",\n",
    "            volumes=[{\n",
    "            \"volume_type\": \"persistent_volume_claim\",            \n",
    "            \"name\": \"volume-deforestation\", # this name has to be equal to the name of the volume created in krm\n",
    "            \"mount_path\": \"/app/files\",\n",
    "            \"spec\": {\n",
    "                \"size\": \"5Gi\"\n",
    "            }}],\n",
    "            args=['/shared/launch.sh', 'bosco','data',\"['2018','2019']\",'deforestation_output']\n",
    "         )"
   ]
  },
  {
   "cell_type": "code",
   "execution_count": 8,
   "id": "8d864d90-2904-417b-bf35-3e2cdf5ddd95",
   "metadata": {},
   "outputs": [
    {
     "data": {
      "text/plain": [
       "'RUNNING'"
      ]
     },
     "execution_count": 8,
     "metadata": {},
     "output_type": "execute_result"
    }
   ],
   "source": [
    "run_el.refresh().status.state"
   ]
  },
  {
   "cell_type": "code",
   "execution_count": 31,
   "id": "484d7ab2-d640-45aa-ac3b-945066c12aeb",
   "metadata": {},
   "outputs": [
    {
     "data": {
      "text/plain": [
       "'{\"satelliteParams\":{\"satelliteType\": \"Sentinel2\" }, \"startDate\": \"2018-01-01\", \"endDate\": \"2019-12-31\", \"geometry\": \"POLYGON((10.98014831542969 45.455314263477874,11.030273437500002 45.44808893044964,10.99937438964844 45.42014226680115,10.953025817871096 45.435803739956725,10.98014831542969 45.455314263477874))\", \"area_sampling\": \"true\", \"cloudCover\": \"[0,20]\", \"artifact_name\": \"data_s2_deforestation\"}'"
      ]
     },
     "execution_count": 31,
     "metadata": {},
     "output_type": "execute_result"
    }
   ],
   "source": [
    "startYear=\"2018\"\n",
    "endYear=\"2019\"\n",
    "geometry=\"POLYGON((10.98014831542969 45.455314263477874,11.030273437500002 45.44808893044964,10.99937438964844 45.42014226680115,10.953025817871096 45.435803739956725,10.98014831542969 45.455314263477874))\"\n",
    "string_dict_data = \"\"\"{\"satelliteParams\":{\"satelliteType\": \"Sentinel2\" }, \"startDate\": \\\"\"\"\" + str(startYear) + \"\"\"-01-01\\\", \"endDate\": \\\"\"\"\" + str(endYear) + \"\"\"-12-31\\\", \"geometry\": \\\"\"\"\" + str(geometry) + \"\"\"\\\", \"area_sampling\": \"true\", \"cloudCover\": \"[0,20]\", \"artifact_name\": \"data_s2_deforestation\"}\"\"\"\n",
    "string_dict_data"
   ]
  },
  {
   "cell_type": "code",
   "execution_count": 32,
   "id": "ee69e7f5-ecb5-4eea-aebb-e6d36b544cf0",
   "metadata": {},
   "outputs": [
    {
     "data": {
      "text/plain": [
       "'[2018,2019]'"
      ]
     },
     "execution_count": 32,
     "metadata": {},
     "output_type": "execute_result"
    }
   ],
   "source": [
    "yearList=\"[\" + str(startYear) + ',' + str(endYear) + \"]\"\n",
    "yearList"
   ]
  },
  {
   "cell_type": "code",
   "execution_count": 38,
   "id": "b6ba73a2",
   "metadata": {},
   "outputs": [
    {
     "name": "stdout",
     "output_type": "stream",
     "text": [
      "Overwriting deforestation_pipeline.py\n"
     ]
    }
   ],
   "source": [
    "%%writefile \"deforestation_pipeline.py\"\n",
    "\n",
    "\n",
    "from digitalhub_runtime_kfp.dsl import pipeline_context\n",
    "\n",
    "def myhandler(startYear, endYear, geometry, input1, input2, outputName):\n",
    "    with pipeline_context() as pc:\n",
    "        string_dict_data = \"\"\"{\"satelliteParams\":{\"satelliteType\": \"Sentinel2\" }, \"startDate\": \\\"\"\"\" + str(startYear) + \"\"\"-01-01\\\", \"endDate\": \\\"\"\"\" + str(endYear) + \"\"\"-12-31\\\", \"geometry\": \\\"\"\"\" + str(geometry) + \"\"\"\\\", \"area_sampling\": \"true\", \"cloudCover\": \"[0,20]\", \"artifact_name\": \"data_s2_deforestation\"}\"\"\"\n",
    "        s1 = pc.step(name=\"download\",function=\"download_images_s2\", action=\"job\", secrets=[\"CDSETOOL_ESA_USER\",\"CDSETOOL_ESA_PASSWORD\"], fs_group='8877', args=[\"main.py\",string_dict_data], profile=\"1xa100\", volumes=[{\"volume_type\": \"persistent_volume_claim\",\"name\": \"volume-deforestation\", \"mount_path\": \"/app/files\",\"spec\": {\"size\": \"350Gi\"}}])\n",
    "        s2 = pc.step(name=\"elaborate\", function=\"elaborate\", action=\"job\", fs_group='8877', resources={\"cpu\": {\"requests\": \"3\"},\"mem\":{\"requests\": \"16Gi\"}},profile=\"1xa100\",volumes=[{\"volume_type\": \"persistent_volume_claim\",\"name\": \"volume-deforestation\", \"mount_path\": \"/app/files\",\"spec\": {\"size\": \"5Gi\"}}],args=['/shared/launch.sh', input1, 'data_s2_deforestation',\"[\" + str(startYear) + ',' + str(endYear) + \"]\",outputName]).after(s1)        \n",
    "     \n"
   ]
  },
  {
   "cell_type": "code",
   "execution_count": 39,
   "id": "65f1d654",
   "metadata": {},
   "outputs": [],
   "source": [
    "workflow = proj.new_workflow(name=\"pipeline_deforestation\", kind=\"kfp\", code_src= \"deforestation_pipeline.py\", handler = \"myhandler\")"
   ]
  },
  {
   "cell_type": "code",
   "execution_count": 40,
   "id": "68608529",
   "metadata": {},
   "outputs": [
    {
     "name": "stderr",
     "output_type": "stream",
     "text": [
      "2025-05-22 07:54:43,011 - INFO - Waiting for run 99689803835e4e7995df1d2e968542d9 to finish...\n",
      "2025-05-22 07:54:48,036 - INFO - Waiting for run 99689803835e4e7995df1d2e968542d9 to finish...\n",
      "2025-05-22 07:54:53,072 - INFO - Waiting for run 99689803835e4e7995df1d2e968542d9 to finish...\n",
      "2025-05-22 07:54:58,099 - INFO - Run 99689803835e4e7995df1d2e968542d9 finished in 15.09 seconds.\n"
     ]
    },
    {
     "data": {
      "text/plain": [
       "{'kind': 'kfp+run', 'metadata': {'project': 'deforestation', 'name': '99689803835e4e7995df1d2e968542d9', 'created': '2025-05-22T07:54:42.994Z', 'updated': '2025-05-22T07:54:48.71Z', 'created_by': 'khurshid@fbk.eu', 'updated_by': 'khurshid@fbk.eu', 'relationships': [{'type': 'run_of', 'dest': 'store://deforestation/workflow/kfp/pipeline_deforestation:a361456342074be0a8e0dfe215bf5896'}]}, 'spec': {'task': 'kfp+build://deforestation/91663400aa904ba994d759dd0f3f31e6', 'local_execution': False, 'workflow': 'kfp://deforestation/pipeline_deforestation:a361456342074be0a8e0dfe215bf5896', 'source': {'source': 'deforestation_pipeline.py', 'handler': 'myhandler', 'base64': 'Cgpmcm9tIGRpZ2l0YWxodWJfcnVudGltZV9rZnAuZHNsIGltcG9ydCBwaXBlbGluZV9jb250ZXh0CgpkZWYgbXloYW5kbGVyKHN0YXJ0WWVhciwgZW5kWWVhciwgZ2VvbWV0cnksIGlucHV0MSwgaW5wdXQyLCBvdXRwdXROYW1lKToKICAgIHdpdGggcGlwZWxpbmVfY29udGV4dCgpIGFzIHBjOgogICAgICAgIHN0cmluZ19kaWN0X2RhdGEgPSAiIiJ7InNhdGVsbGl0ZVBhcmFtcyI6eyJzYXRlbGxpdGVUeXBlIjogIlNlbnRpbmVsMiIgfSwgInN0YXJ0RGF0ZSI6IFwiIiIiICsgc3RyKHN0YXJ0WWVhcikgKyAiIiItMDEtMDFcIiwgImVuZERhdGUiOiBcIiIiIiArIHN0cihlbmRZZWFyKSArICIiIi0xMi0zMVwiLCAiZ2VvbWV0cnkiOiBcIiIiIiArIHN0cihnZW9tZXRyeSkgKyAiIiJcIiwgImFyZWFfc2FtcGxpbmciOiAidHJ1ZSIsICJjbG91ZENvdmVyIjogIlswLDIwXSIsICJhcnRpZmFjdF9uYW1lIjogImRhdGFfczJfZGVmb3Jlc3RhdGlvbiJ9IiIiCiAgICAgICAgczEgPSBwYy5zdGVwKG5hbWU9ImRvd25sb2FkIixmdW5jdGlvbj0iZG93bmxvYWRfaW1hZ2VzX3MyIiwgYWN0aW9uPSJqb2IiLCBzZWNyZXRzPVsiQ0RTRVRPT0xfRVNBX1VTRVIiLCJDRFNFVE9PTF9FU0FfUEFTU1dPUkQiXSwgZnNfZ3JvdXA9Jzg4NzcnLCBhcmdzPVsibWFpbi5weSIsc3RyaW5nX2RpY3RfZGF0YV0sIHByb2ZpbGU9IjF4YTEwMCIsIHZvbHVtZXM9W3sidm9sdW1lX3R5cGUiOiAicGVyc2lzdGVudF92b2x1bWVfY2xhaW0iLCJuYW1lIjogInZvbHVtZS1kZWZvcmVzdGF0aW9uIiwgIm1vdW50X3BhdGgiOiAiL2FwcC9maWxlcyIsInNwZWMiOiB7InNpemUiOiAiMzUwR2kifX1dKQogICAgICAgIHMyID0gcGMuc3RlcChuYW1lPSJlbGFib3JhdGUiLCBmdW5jdGlvbj0iZWxhYm9yYXRlIiwgYWN0aW9uPSJqb2IiLCBmc19ncm91cD0nODg3NycsIHJlc291cmNlcz17ImNwdSI6IHsicmVxdWVzdHMiOiAiMyJ9LCJtZW0iOnsicmVxdWVzdHMiOiAiMTZHaSJ9fSxwcm9maWxlPSIxeGExMDAiLHZvbHVtZXM9W3sidm9sdW1lX3R5cGUiOiAicGVyc2lzdGVudF92b2x1bWVfY2xhaW0iLCJuYW1lIjogInZvbHVtZS1kZWZvcmVzdGF0aW9uIiwgIm1vdW50X3BhdGgiOiAiL2FwcC9maWxlcyIsInNwZWMiOiB7InNpemUiOiAiNUdpIn19XSxhcmdzPVsnL3NoYXJlZC9sYXVuY2guc2gnLCBpbnB1dDEsICdkYXRhX3MyX2RlZm9yZXN0YXRpb24nLCJbIiArIHN0cihzdGFydFllYXIpICsgJywnICsgc3RyKGVuZFllYXIpICsgIl0iLG91dHB1dE5hbWVdKS5hZnRlcihzMSkgICAgICAgIAogICAgIAo=', 'lang': 'python'}, 'inputs': {}, 'outputs': {}, 'parameters': {}}, 'status': {'state': 'COMPLETED', 'transitions': [{'status': 'COMPLETED', 'time': '2025-05-22T07:54:48.703414878Z'}, {'status': 'RUNNING', 'time': '2025-05-22T07:54:43.032457088Z'}, {'status': 'READY', 'time': '2025-05-22T07:54:43.006509732Z'}, {'status': 'BUILT', 'time': '2025-05-22T07:54:42.998429793Z'}], 'k8s': {'job': {'metadata': {'creationTimestamp': 1747900483.0, 'generation': 1, 'labels': {'app.kubernetes.io/instance': 'dhcore-99689803835e4e7995df1d2e968542d9', 'app.kubernetes.io/managed-by': 'dhcore', 'app.kubernetes.io/part-of': 'dhcore-deforestation', 'app.kubernetes.io/version': '99689803835e4e7995df1d2e968542d9', 'dhcore/framework': 'k8sjob', 'dhcore/project': 'deforestation', 'dhcore/run': '99689803835e4e7995df1d2e968542d9', 'dhcore/runtime': 'kfp'}, 'managedFields': [{'apiVersion': 'batch/v1', 'fieldsType': 'FieldsV1', 'manager': 'Kubernetes Java Client', 'operation': 'Update', 'time': 1747900483.0}, {'apiVersion': 'batch/v1', 'fieldsType': 'FieldsV1', 'manager': 'kube-controller-manager', 'operation': 'Update', 'subresource': 'status', 'time': 1747900488.0}], 'name': 'j-kfppipeline-99689803835e4e7995df1d2e968542d9', 'namespace': 'digitalhub-tenant1', 'resourceVersion': '170077', 'uid': '87a53642-2e39-4c59-93a7-26f430b6c874'}, 'apiVersion': 'batch/v1', 'kind': 'Job', 'spec': {'activeDeadlineSeconds': 604800, 'backoffLimit': 0, 'completionMode': 'NonIndexed', 'completions': 1, 'manualSelector': False, 'parallelism': 1, 'podReplacementPolicy': 'TerminatingOrFailed', 'selector': {'matchLabels': {'batch.kubernetes.io/controller-uid': '87a53642-2e39-4c59-93a7-26f430b6c874'}}, 'suspend': False, 'template': {'metadata': {'labels': {'app.kubernetes.io/instance': 'dhcore-99689803835e4e7995df1d2e968542d9', 'app.kubernetes.io/managed-by': 'dhcore', 'app.kubernetes.io/part-of': 'dhcore-deforestation', 'app.kubernetes.io/version': '99689803835e4e7995df1d2e968542d9', 'batch.kubernetes.io/controller-uid': '87a53642-2e39-4c59-93a7-26f430b6c874', 'batch.kubernetes.io/job-name': 'j-kfppipeline-99689803835e4e7995df1d2e968542d9', 'controller-uid': '87a53642-2e39-4c59-93a7-26f430b6c874', 'dhcore/framework': 'k8sjob', 'dhcore/project': 'deforestation', 'dhcore/run': '99689803835e4e7995df1d2e968542d9', 'dhcore/runtime': 'kfp', 'job-name': 'j-kfppipeline-99689803835e4e7995df1d2e968542d9'}, 'name': 'j-kfppipeline-99689803835e4e7995df1d2e968542d9'}, 'spec': {'containers': [{'args': ['wrapper.py'], 'command': ['python'], 'env': [{'name': 'DH_RUN_SECRET_NAME', 'value': 'sec-kfppipeline-99689803835e4e7995df1d2e968542d9'}, {'name': 'AWS_REGION', 'valueFrom': {'secretKeyRef': {'key': 'AWS_REGION', 'name': 'sec-kfppipeline-99689803835e4e7995df1d2e968542d9'}}}, {'name': 'DB_PLATFORM', 'valueFrom': {'secretKeyRef': {'key': 'DB_PLATFORM', 'name': 'sec-kfppipeline-99689803835e4e7995df1d2e968542d9'}}}, {'name': 'DHCORE_ACCESS_TOKEN', 'valueFrom': {'secretKeyRef': {'key': 'DHCORE_ACCESS_TOKEN', 'name': 'sec-kfppipeline-99689803835e4e7995df1d2e968542d9'}}}, {'name': 'DIGITALHUB_CORE_WORKFLOW_IMAGE', 'value': 'ghcr.io/scc-digitalhub/digitalhub-sdk-wrapper-kfp/wrapper-kfp:0.11.0b4'}, {'name': 'PROJECTS', 'valueFrom': {'secretKeyRef': {'key': 'PROJECTS', 'name': 'sec-kfppipeline-99689803835e4e7995df1d2e968542d9'}}}, {'name': 'DHCORE_CLIENT_ID', 'valueFrom': {'secretKeyRef': {'key': 'DHCORE_CLIENT_ID', 'name': 'sec-kfppipeline-99689803835e4e7995df1d2e968542d9'}}}, {'name': 'DB_PORT', 'valueFrom': {'secretKeyRef': {'key': 'DB_PORT', 'name': 'sec-kfppipeline-99689803835e4e7995df1d2e968542d9'}}}, {'name': 'DHCORE_ID_TOKEN', 'valueFrom': {'secretKeyRef': {'key': 'DHCORE_ID_TOKEN', 'name': 'sec-kfppipeline-99689803835e4e7995df1d2e968542d9'}}}, {'name': 'AWS_SECRET_ACCESS_KEY', 'valueFrom': {'secretKeyRef': {'key': 'AWS_SECRET_ACCESS_KEY', 'name': 'sec-kfppipeline-99689803835e4e7995df1d2e968542d9'}}}, {'name': 'AWS_ENDPOINT_URL', 'valueFrom': {'secretKeyRef': {'key': 'AWS_ENDPOINT_URL', 'name': 'sec-kfppipeline-99689803835e4e7995df1d2e968542d9'}}}, {'name': 'DHCORE_ISSUER', 'valueFrom': {'secretKeyRef': {'key': 'DHCORE_ISSUER', 'name': 'sec-kfppipeline-99689803835e4e7995df1d2e968542d9'}}}, {'name': 'DB_HOST', 'valueFrom': {'secretKeyRef': {'key': 'DB_HOST', 'name': 'sec-kfppipeline-99689803835e4e7995df1d2e968542d9'}}}, {'name': 'PROJECT_NAME', 'value': 'deforestation'}, {'name': 'RUN_ID', 'value': '99689803835e4e7995df1d2e968542d9'}, {'name': 'AWS_SESSION_TOKEN', 'valueFrom': {'secretKeyRef': {'key': 'AWS_SESSION_TOKEN', 'name': 'sec-kfppipeline-99689803835e4e7995df1d2e968542d9'}}}, {'name': 'DHCORE_REFRESH_TOKEN', 'valueFrom': {'secretKeyRef': {'key': 'DHCORE_REFRESH_TOKEN', 'name': 'sec-kfppipeline-99689803835e4e7995df1d2e968542d9'}}}, {'name': 'DB_USERNAME', 'valueFrom': {'secretKeyRef': {'key': 'DB_USERNAME', 'name': 'sec-kfppipeline-99689803835e4e7995df1d2e968542d9'}}}, {'name': 'AWS_ACCESS_KEY_ID', 'valueFrom': {'secretKeyRef': {'key': 'AWS_ACCESS_KEY_ID', 'name': 'sec-kfppipeline-99689803835e4e7995df1d2e968542d9'}}}, {'name': 'S3_SIGNATURE_VERSION', 'valueFrom': {'secretKeyRef': {'key': 'S3_SIGNATURE_VERSION', 'name': 'sec-kfppipeline-99689803835e4e7995df1d2e968542d9'}}}, {'name': 'DHCORE_EXPIRES_IN', 'valueFrom': {'secretKeyRef': {'key': 'DHCORE_EXPIRES_IN', 'name': 'sec-kfppipeline-99689803835e4e7995df1d2e968542d9'}}}, {'name': 'DB_DATABASE', 'valueFrom': {'secretKeyRef': {'key': 'DB_DATABASE', 'name': 'sec-kfppipeline-99689803835e4e7995df1d2e968542d9'}}}, {'name': 'DB_PASSWORD', 'valueFrom': {'secretKeyRef': {'key': 'DB_PASSWORD', 'name': 'sec-kfppipeline-99689803835e4e7995df1d2e968542d9'}}}], 'envFrom': [{'configMapRef': {'name': 'digitalhub-common-env'}}], 'image': 'ghcr.io/scc-digitalhub/digitalhub-sdk-wrapper-kfp/wrapper-kfp:0.11.0b4', 'imagePullPolicy': 'IfNotPresent', 'name': 'c-kfppipeline-99689803835e4e7995df1d2e968542d9', 'securityContext': {'allowPrivilegeEscalation': False, 'privileged': False, 'runAsNonRoot': True}, 'terminationMessagePath': '/dev/termination-log', 'terminationMessagePolicy': 'File'}], 'dnsPolicy': 'ClusterFirst', 'imagePullSecrets': [{'name': 'registry-credentials'}], 'restartPolicy': 'Never', 'schedulerName': 'default-scheduler', 'securityContext': {'runAsNonRoot': True}, 'terminationGracePeriodSeconds': 30}}}, 'status': {'completionTime': 1747900488.0, 'conditions': [{'lastProbeTime': 1747900488.0, 'lastTransitionTime': 1747900488.0, 'message': 'Reached expected number of succeeded pods', 'reason': 'CompletionsReached', 'status': 'True', 'type': 'SuccessCriteriaMet'}, {'lastProbeTime': 1747900488.0, 'lastTransitionTime': 1747900488.0, 'message': 'Reached expected number of succeeded pods', 'reason': 'CompletionsReached', 'status': 'True', 'type': 'Complete'}], 'ready': 0, 'startTime': 1747900483.0, 'succeeded': 1, 'terminating': 0}}, 'pods': [{'metadata': {'creationTimestamp': 1747900483.0, 'generateName': 'j-kfppipeline-99689803835e4e7995df1d2e968542d9-', 'labels': {'app.kubernetes.io/instance': 'dhcore-99689803835e4e7995df1d2e968542d9', 'app.kubernetes.io/managed-by': 'dhcore', 'app.kubernetes.io/part-of': 'dhcore-deforestation', 'app.kubernetes.io/version': '99689803835e4e7995df1d2e968542d9', 'batch.kubernetes.io/controller-uid': '87a53642-2e39-4c59-93a7-26f430b6c874', 'batch.kubernetes.io/job-name': 'j-kfppipeline-99689803835e4e7995df1d2e968542d9', 'controller-uid': '87a53642-2e39-4c59-93a7-26f430b6c874', 'dhcore/framework': 'k8sjob', 'dhcore/project': 'deforestation', 'dhcore/run': '99689803835e4e7995df1d2e968542d9', 'dhcore/runtime': 'kfp', 'job-name': 'j-kfppipeline-99689803835e4e7995df1d2e968542d9'}, 'managedFields': [{'apiVersion': 'v1', 'fieldsType': 'FieldsV1', 'manager': 'kube-controller-manager', 'operation': 'Update', 'time': 1747900483.0}, {'apiVersion': 'v1', 'fieldsType': 'FieldsV1', 'manager': 'kubelet', 'operation': 'Update', 'subresource': 'status', 'time': 1747900487.0}], 'name': 'j-kfppipeline-99689803835e4e7995df1d2e968542d9-q9ct6', 'namespace': 'digitalhub-tenant1', 'ownerReferences': [{'apiVersion': 'batch/v1', 'blockOwnerDeletion': True, 'controller': True, 'kind': 'Job', 'name': 'j-kfppipeline-99689803835e4e7995df1d2e968542d9', 'uid': '87a53642-2e39-4c59-93a7-26f430b6c874'}], 'resourceVersion': '170076', 'uid': '0df9fcee-4265-4f36-a59e-0b331e45dc17'}, 'spec': {'containers': [{'args': ['wrapper.py'], 'command': ['python'], 'env': [{'name': 'DH_RUN_SECRET_NAME', 'value': 'sec-kfppipeline-99689803835e4e7995df1d2e968542d9'}, {'name': 'AWS_REGION', 'valueFrom': {'secretKeyRef': {'key': 'AWS_REGION', 'name': 'sec-kfppipeline-99689803835e4e7995df1d2e968542d9'}}}, {'name': 'DB_PLATFORM', 'valueFrom': {'secretKeyRef': {'key': 'DB_PLATFORM', 'name': 'sec-kfppipeline-99689803835e4e7995df1d2e968542d9'}}}, {'name': 'DHCORE_ACCESS_TOKEN', 'valueFrom': {'secretKeyRef': {'key': 'DHCORE_ACCESS_TOKEN', 'name': 'sec-kfppipeline-99689803835e4e7995df1d2e968542d9'}}}, {'name': 'DIGITALHUB_CORE_WORKFLOW_IMAGE', 'value': 'ghcr.io/scc-digitalhub/digitalhub-sdk-wrapper-kfp/wrapper-kfp:0.11.0b4'}, {'name': 'PROJECTS', 'valueFrom': {'secretKeyRef': {'key': 'PROJECTS', 'name': 'sec-kfppipeline-99689803835e4e7995df1d2e968542d9'}}}, {'name': 'DHCORE_CLIENT_ID', 'valueFrom': {'secretKeyRef': {'key': 'DHCORE_CLIENT_ID', 'name': 'sec-kfppipeline-99689803835e4e7995df1d2e968542d9'}}}, {'name': 'DB_PORT', 'valueFrom': {'secretKeyRef': {'key': 'DB_PORT', 'name': 'sec-kfppipeline-99689803835e4e7995df1d2e968542d9'}}}, {'name': 'DHCORE_ID_TOKEN', 'valueFrom': {'secretKeyRef': {'key': 'DHCORE_ID_TOKEN', 'name': 'sec-kfppipeline-99689803835e4e7995df1d2e968542d9'}}}, {'name': 'AWS_SECRET_ACCESS_KEY', 'valueFrom': {'secretKeyRef': {'key': 'AWS_SECRET_ACCESS_KEY', 'name': 'sec-kfppipeline-99689803835e4e7995df1d2e968542d9'}}}, {'name': 'AWS_ENDPOINT_URL', 'valueFrom': {'secretKeyRef': {'key': 'AWS_ENDPOINT_URL', 'name': 'sec-kfppipeline-99689803835e4e7995df1d2e968542d9'}}}, {'name': 'DHCORE_ISSUER', 'valueFrom': {'secretKeyRef': {'key': 'DHCORE_ISSUER', 'name': 'sec-kfppipeline-99689803835e4e7995df1d2e968542d9'}}}, {'name': 'DB_HOST', 'valueFrom': {'secretKeyRef': {'key': 'DB_HOST', 'name': 'sec-kfppipeline-99689803835e4e7995df1d2e968542d9'}}}, {'name': 'PROJECT_NAME', 'value': 'deforestation'}, {'name': 'RUN_ID', 'value': '99689803835e4e7995df1d2e968542d9'}, {'name': 'AWS_SESSION_TOKEN', 'valueFrom': {'secretKeyRef': {'key': 'AWS_SESSION_TOKEN', 'name': 'sec-kfppipeline-99689803835e4e7995df1d2e968542d9'}}}, {'name': 'DHCORE_REFRESH_TOKEN', 'valueFrom': {'secretKeyRef': {'key': 'DHCORE_REFRESH_TOKEN', 'name': 'sec-kfppipeline-99689803835e4e7995df1d2e968542d9'}}}, {'name': 'DB_USERNAME', 'valueFrom': {'secretKeyRef': {'key': 'DB_USERNAME', 'name': 'sec-kfppipeline-99689803835e4e7995df1d2e968542d9'}}}, {'name': 'AWS_ACCESS_KEY_ID', 'valueFrom': {'secretKeyRef': {'key': 'AWS_ACCESS_KEY_ID', 'name': 'sec-kfppipeline-99689803835e4e7995df1d2e968542d9'}}}, {'name': 'S3_SIGNATURE_VERSION', 'valueFrom': {'secretKeyRef': {'key': 'S3_SIGNATURE_VERSION', 'name': 'sec-kfppipeline-99689803835e4e7995df1d2e968542d9'}}}, {'name': 'DHCORE_EXPIRES_IN', 'valueFrom': {'secretKeyRef': {'key': 'DHCORE_EXPIRES_IN', 'name': 'sec-kfppipeline-99689803835e4e7995df1d2e968542d9'}}}, {'name': 'DB_DATABASE', 'valueFrom': {'secretKeyRef': {'key': 'DB_DATABASE', 'name': 'sec-kfppipeline-99689803835e4e7995df1d2e968542d9'}}}, {'name': 'DB_PASSWORD', 'valueFrom': {'secretKeyRef': {'key': 'DB_PASSWORD', 'name': 'sec-kfppipeline-99689803835e4e7995df1d2e968542d9'}}}], 'envFrom': [{'configMapRef': {'name': 'digitalhub-common-env'}}], 'image': 'ghcr.io/scc-digitalhub/digitalhub-sdk-wrapper-kfp/wrapper-kfp:0.11.0b4', 'imagePullPolicy': 'IfNotPresent', 'name': 'c-kfppipeline-99689803835e4e7995df1d2e968542d9', 'securityContext': {'allowPrivilegeEscalation': False, 'privileged': False, 'runAsNonRoot': True}, 'terminationMessagePath': '/dev/termination-log', 'terminationMessagePolicy': 'File', 'volumeMounts': [{'mountPath': '/var/run/secrets/kubernetes.io/serviceaccount', 'name': 'kube-api-access-xpjh6', 'readOnly': True}]}], 'dnsPolicy': 'ClusterFirst', 'enableServiceLinks': True, 'imagePullSecrets': [{'name': 'registry-credentials'}], 'nodeName': 'digitalhub-dev-md-0-wjgd6-q9lfh', 'preemptionPolicy': 'PreemptLowerPriority', 'priority': 0, 'restartPolicy': 'Never', 'schedulerName': 'default-scheduler', 'securityContext': {'runAsNonRoot': True}, 'serviceAccount': 'default', 'serviceAccountName': 'default', 'terminationGracePeriodSeconds': 30, 'tolerations': [{'effect': 'NoExecute', 'key': 'node.kubernetes.io/not-ready', 'operator': 'Exists', 'tolerationSeconds': 300}, {'effect': 'NoExecute', 'key': 'node.kubernetes.io/unreachable', 'operator': 'Exists', 'tolerationSeconds': 300}], 'volumes': [{'name': 'kube-api-access-xpjh6', 'projected': {'defaultMode': 420, 'sources': [{'serviceAccountToken': {'expirationSeconds': 3607, 'path': 'token'}}, {'configMap': {'items': [{'key': 'ca.crt', 'path': 'ca.crt'}], 'name': 'kube-root-ca.crt'}}, {'downwardAPI': {'items': [{'fieldRef': {'apiVersion': 'v1', 'fieldPath': 'metadata.namespace'}, 'path': 'namespace'}]}}]}}]}, 'status': {'conditions': [{'lastTransitionTime': 1747900487.0, 'status': 'False', 'type': 'PodReadyToStartContainers'}, {'lastTransitionTime': 1747900483.0, 'reason': 'PodCompleted', 'status': 'True', 'type': 'Initialized'}, {'lastTransitionTime': 1747900486.0, 'reason': 'PodCompleted', 'status': 'False', 'type': 'Ready'}, {'lastTransitionTime': 1747900486.0, 'reason': 'PodCompleted', 'status': 'False', 'type': 'ContainersReady'}, {'lastTransitionTime': 1747900483.0, 'status': 'True', 'type': 'PodScheduled'}], 'containerStatuses': [{'containerID': 'containerd://141040d6e34adcc8ca1f25f022745eb4eb549b8e98f1add4366511495e5cbbfa', 'image': 'ghcr.io/scc-digitalhub/digitalhub-sdk-wrapper-kfp/wrapper-kfp:0.11.0b4', 'imageID': 'ghcr.io/scc-digitalhub/digitalhub-sdk-wrapper-kfp/wrapper-kfp@sha256:a681b8c73cf94802b0168670118ced4d4e7cc5b8c4be555f418753bb8eb61a28', 'name': 'c-kfppipeline-99689803835e4e7995df1d2e968542d9', 'ready': False, 'restartCount': 0, 'started': False, 'state': {'terminated': {'containerID': 'containerd://141040d6e34adcc8ca1f25f022745eb4eb549b8e98f1add4366511495e5cbbfa', 'exitCode': 0, 'finishedAt': 1747900485.0, 'reason': 'Completed', 'startedAt': 1747900483.0}}, 'volumeMounts': [{'mountPath': '/var/run/secrets/kubernetes.io/serviceaccount', 'name': 'kube-api-access-xpjh6', 'readOnly': True, 'recursiveReadOnly': 'Disabled'}]}], 'hostIP': '10.1.0.6', 'hostIPs': [{'ip': '10.1.0.6'}], 'phase': 'Succeeded', 'podIP': '192.168.3.47', 'podIPs': [{'ip': '192.168.3.47'}], 'qosClass': 'BestEffort', 'startTime': 1747900483.0}}], 'secret': {'secret': {'apiVersion': 'v1', 'kind': 'Secret', 'metadata': {'labels': {'dhcore/framework': 'k8sjob', 'app.kubernetes.io/managed-by': 'dhcore', 'app.kubernetes.io/part-of': 'dhcore-deforestation', 'dhcore/project': 'deforestation', 'dhcore/runtime': 'kfp', 'dhcore/run': '99689803835e4e7995df1d2e968542d9', 'app.kubernetes.io/instance': 'dhcore-99689803835e4e7995df1d2e968542d9', 'app.kubernetes.io/version': '99689803835e4e7995df1d2e968542d9'}, 'name': 'sec-kfppipeline-99689803835e4e7995df1d2e968542d9', 'namespace': 'digitalhub-tenant1'}}}}, 'metrics': {}, 'results': {'workflow': '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'}}, 'user': 'khurshid@fbk.eu', 'project': 'deforestation', 'id': '99689803835e4e7995df1d2e968542d9', 'name': '99689803835e4e7995df1d2e968542d9', 'key': 'store://deforestation/run/kfp+run/99689803835e4e7995df1d2e968542d9'}"
      ]
     },
     "execution_count": 40,
     "metadata": {},
     "output_type": "execute_result"
    }
   ],
   "source": [
    "workflow.run(action=\"build\", wait=True)"
   ]
  },
  {
   "cell_type": "code",
   "execution_count": 41,
   "id": "a6364f4d",
   "metadata": {},
   "outputs": [
    {
     "name": "stderr",
     "output_type": "stream",
     "text": [
      "2025-05-22 07:54:58,214 - INFO - Waiting for run 3e20a2968d5d484592bc98d2711df22c to finish...\n",
      "2025-05-22 07:55:03,255 - INFO - Waiting for run 3e20a2968d5d484592bc98d2711df22c to finish...\n",
      "2025-05-22 07:55:08,307 - INFO - Waiting for run 3e20a2968d5d484592bc98d2711df22c to finish...\n",
      "2025-05-22 07:55:13,352 - INFO - Waiting for run 3e20a2968d5d484592bc98d2711df22c to finish...\n",
      "2025-05-22 07:55:18,389 - INFO - Waiting for run 3e20a2968d5d484592bc98d2711df22c to finish...\n",
      "2025-05-22 07:55:23,418 - INFO - Waiting for run 3e20a2968d5d484592bc98d2711df22c to finish...\n",
      "2025-05-22 07:55:28,448 - INFO - Waiting for run 3e20a2968d5d484592bc98d2711df22c to finish...\n",
      "2025-05-22 07:55:33,474 - INFO - Waiting for run 3e20a2968d5d484592bc98d2711df22c to finish...\n",
      "2025-05-22 07:55:38,513 - INFO - Waiting for run 3e20a2968d5d484592bc98d2711df22c to finish...\n",
      "2025-05-22 07:55:43,557 - INFO - Waiting for run 3e20a2968d5d484592bc98d2711df22c to finish...\n",
      "2025-05-22 07:55:48,586 - INFO - Waiting for run 3e20a2968d5d484592bc98d2711df22c to finish...\n",
      "2025-05-22 07:55:53,612 - INFO - Waiting for run 3e20a2968d5d484592bc98d2711df22c to finish...\n",
      "2025-05-22 07:55:58,639 - INFO - Waiting for run 3e20a2968d5d484592bc98d2711df22c to finish...\n",
      "2025-05-22 07:56:03,685 - INFO - Run 3e20a2968d5d484592bc98d2711df22c finished in 65.47 seconds.\n"
     ]
    }
   ],
   "source": [
    "workflow_run = workflow.run(action=\"pipeline\", parameters={\n",
    "    \"startYear\": \"2018\",\n",
    "    \"endYear\": \"2019\",\n",
    "    \"geometry\": \"POLYGON((10.98014831542969 45.455314263477874,11.030273437500002 45.44808893044964,10.99937438964844 45.42014226680115,10.953025817871096 45.435803739956725,10.98014831542969 45.455314263477874))\",\n",
    "    \"input1\":\"bosco\",\n",
    "    'input2': \"data_s2_deforestation\",\n",
    "    \"outputName\": \"deforestation_2018_19\"\n",
    "    },\n",
    "    wait=True)"
   ]
  },
  {
   "cell_type": "code",
   "execution_count": null,
   "id": "2b440b13",
   "metadata": {},
   "outputs": [],
   "source": []
  }
 ],
 "metadata": {
  "kernelspec": {
   "display_name": "Python 3 (ipykernel)",
   "language": "python",
   "name": "python3"
  },
  "language_info": {
   "codemirror_mode": {
    "name": "ipython",
    "version": 3
   },
   "file_extension": ".py",
   "mimetype": "text/x-python",
   "name": "python",
   "nbconvert_exporter": "python",
   "pygments_lexer": "ipython3",
   "version": "3.9.13"
  }
 },
 "nbformat": 4,
 "nbformat_minor": 5
}
