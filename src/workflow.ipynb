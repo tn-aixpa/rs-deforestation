{
 "cells": [
  {
   "cell_type": "code",
   "execution_count": 6,
   "id": "22976efc-003a-4170-bcf0-6a33ac84e76a",
   "metadata": {},
   "outputs": [],
   "source": [
    "import digitalhub as dh\n",
    "PROJECT_NAME = \"deforestation\"\n",
    "proj = dh.get_or_create_project(PROJECT_NAME)"
   ]
  },
  {
   "cell_type": "markdown",
   "id": "246d5c4d",
   "metadata": {},
   "source": [
    "Register to the open data space copernicus(if not already) and get your credentials.\n",
    "\n",
    "https://identity.dataspace.copernicus.eu/auth/realms/CDSE/login-actions/registration?client_id=cdse-public&tab_id=FIiRPJeoiX4\n",
    "\n",
    "Log the credentials as project secret keys as shown below"
   ]
  },
  {
   "cell_type": "code",
   "execution_count": 7,
   "id": "cbb91e46",
   "metadata": {},
   "outputs": [],
   "source": [
    "# THIS NEED TO BE EXECUTED JUST ONCE\n",
    "secret0 = proj.new_secret(name=\"CDSETOOL_ESA_USER\", secret_value=\"esa_username\")\n",
    "secret1 = proj.new_secret(name=\"CDSETOOL_ESA_PASSWORD\", secret_value=\"esa_password\")"
   ]
  },
  {
   "cell_type": "markdown",
   "id": "29a61c81",
   "metadata": {},
   "source": [
    "### Download data from Sentinel 2"
   ]
  },
  {
   "cell_type": "code",
   "execution_count": null,
   "id": "c49ced7c",
   "metadata": {},
   "outputs": [],
   "source": [
    "string_dict_data = \"\"\"{\n",
    " \"satelliteParams\":{\n",
    "     \"satelliteType\": \"Sentinel2\"\n",
    " },\n",
    " \"startDate\": \"2018-01-01\",\n",
    " \"endDate\": \"2019-12-31\",\n",
    " \"geometry\": \"POLYGON((10.968432350469937 46.093829019481056,10.968432350469937 46.09650743619973, 10.97504139531014 46.09650743619973,10.97504139531014 46.093829019481056, 10.968432350469937 46.093829019481056))\",\n",
    " \"area_sampling\": \"true\",\n",
    " \"cloudCover\": \"[0,5]\",\n",
    " \"artifact_name\": \"data_s2_deforestation\" \n",
    " }\"\"\"\n",
    "\n",
    "list_args =  [\"main.py\",string_dict_data]\n"
   ]
  },
  {
   "cell_type": "code",
   "execution_count": null,
   "id": "9e5a0007-e805-4955-b112-451d8eac637a",
   "metadata": {},
   "outputs": [],
   "source": [
    "function_s2 = proj.new_function(\"download_images_s2\",kind=\"container\",image=\"ghcr.io/tn-aixpa/sentinel-tools:0.11.5\",command=\"python\")"
   ]
  },
  {
   "cell_type": "markdown",
   "id": "cb5d1d27-54e4-4810-8466-d8f040682d4d",
   "metadata": {
    "scrolled": true
   },
   "source": [
    "### Perform Data Elaboration on RS-Tool"
   ]
  },
  {
   "cell_type": "code",
   "execution_count": 10,
   "id": "f4a857ec-04bc-4c6e-ae4b-4c6366221690",
   "metadata": {},
   "outputs": [],
   "source": [
    "artifact_name='bosco'\n",
    "src_path='bosco'\n",
    "artifact_bosco = proj.log_artifact(name=artifact_name, kind=\"artifact\", source=src_path)"
   ]
  },
  {
   "cell_type": "code",
   "execution_count": null,
   "id": "c744ddba-b96a-4d86-a006-b0a5ae40441a",
   "metadata": {},
   "outputs": [],
   "source": [
    "function_rs = proj.new_function(\"elaborate\",kind=\"container\", image=\"ghcr.io/tn-aixpa/rs-deforestation:2.7_b2\", command=\"/bin/bash\", code_src=\"launch.sh\")"
   ]
  },
  {
   "cell_type": "markdown",
   "id": "ea47995d-3fa9-448b-a6b7-21d597f56dca",
   "metadata": {},
   "source": [
    "### Pipeline"
   ]
  },
  {
   "cell_type": "code",
   "execution_count": null,
   "id": "f859a4d0-31fa-447d-95ff-0b961c4daaa5",
   "metadata": {},
   "outputs": [
    {
     "name": "stdout",
     "output_type": "stream",
     "text": [
      "Writing deforestation_pipeline.py\n"
     ]
    }
   ],
   "source": [
    "%%writefile \"deforestation_pipeline.py\"\n",
    "\n",
    "from digitalhub_runtime_kfp.dsl import pipeline_context\n",
    "\n",
    "def myhandler(startYear, endYear, geometry, shapeArtifactName, dataArtifactName, outputName):\n",
    "    with pipeline_context() as pc:\n",
    "        string_dict_data = \"\"\"{\"satelliteParams\":{\"satelliteType\":\"Sentinel2\"},\"startDate\":\\\"\"\"\"+ str(startYear) + \"\"\"-01-01\\\",\"endDate\": \\\"\"\"\" + str(endYear) + \"\"\"-12-31\\\",\"geometry\": \\\"\"\"\" + str(geometry) + \"\"\"\\\",\"area_sampling\":\"true\",\"cloudCover\":\"[0,5]\",\"artifact_name\":\"data_s2_v2\"}\"\"\"\n",
    "        s1 = pc.step(name=\"download\",\n",
    "                     function=\"download_images_s2\",\n",
    "                     action=\"job\",\n",
    "                     secrets=[\"CDSETOOL_ESA_USER\",\"CDSETOOL_ESA_PASSWORD\"],\n",
    "                     fs_group='8877',\n",
    "                     args=[\"main.py\", string_dict_data],\n",
    "                     volumes=[{\n",
    "                        \"volume_type\": \"persistent_volume_claim\",\n",
    "                        \"name\": \"volume-deforestation\",\n",
    "                        \"mount_path\": \"/app/files\",\n",
    "                        \"spec\": { \"size\": \"250Gi\" }\n",
    "                        }\n",
    "                    ])\n",
    "        s2 = pc.step(name=\"elaborate\",\n",
    "                     function=\"elaborate\",\n",
    "                     action=\"job\",\n",
    "                     fs_group='8877',\n",
    "                     resources={\"cpu\": {\"requests\": \"6\", \"limits\": \"12\"},\"mem\":{\"requests\": \"32Gi\", \"limits\": \"64Gi\"}},\n",
    "                     volumes=[{\n",
    "                        \"volume_type\": \"persistent_volume_claim\",\n",
    "                        \"name\": \"volume-deforestation\",\n",
    "                        \"mount_path\": \"/app/files\",\n",
    "                        \"spec\": { \"size\": \"250Gi\" }\n",
    "                    }],\n",
    "                     args=['/shared/launch.sh', str(shapeArtifactName), 'data_s2_v2', \"[\" + str(startYear) + ',' + str(endYear) + \"]\", str(outputName)]\n",
    "                     ).after(s1)\n",
    "     \n"
   ]
  },
  {
   "cell_type": "code",
   "execution_count": null,
   "id": "2ff74531-65f7-4f4d-a283-f1dac73a2de5",
   "metadata": {},
   "outputs": [],
   "source": [
    "workflow = proj.new_workflow(name=\"pipeline_deforestation\", kind=\"kfp\", code_src= \"deforestation_pipeline.py\", handler = \"myhandler\")"
   ]
  },
  {
   "cell_type": "markdown",
   "id": "1bdd73bf",
   "metadata": {},
   "source": [
    "Create workflow using project repo source file"
   ]
  },
  {
   "cell_type": "code",
   "execution_count": null,
   "id": "afbf16a2",
   "metadata": {},
   "outputs": [],
   "source": [
    "workflow = proj.new_workflow(\n",
    "name=\"pipeline_deforestation\",\n",
    "kind=\"kfp\",\n",
    "code_src=\"git+https://<username>:<personal_access_token>@github.com/tn-aixpa/rs-deforestation\",\n",
    "handler=\"src.deforestation_pipeline:myhandler\")"
   ]
  },
  {
   "cell_type": "code",
   "execution_count": 15,
   "id": "1bf170e2-0835-4dc8-85ac-1121aafaaf42",
   "metadata": {},
   "outputs": [],
   "source": [
    "workflow_run = workflow.run(action=\"pipeline\", parameters={\n",
    "    \"startYear\": 2018,\n",
    "    \"endYear\": 2019,\n",
    "    \"geometry\": \"POLYGON((10.968432350469937 46.093829019481056,10.968432350469937 46.09650743619973, 10.97504139531014 46.09650743619973,10.97504139531014 46.093829019481056, 10.968432350469937 46.093829019481056))\",\n",
    "    \"shapeArtifactName\":\"bosco\",\n",
    "    'dataArtifactName': \"data_s2_deforestation\",\n",
    "    \"outputName\": \"deforestation_2018_19\"\n",
    "    })"
   ]
  }
 ],
 "metadata": {
  "kernelspec": {
   "display_name": ".conda",
   "language": "python",
   "name": "python3"
  },
  "language_info": {
   "codemirror_mode": {
    "name": "ipython",
    "version": 3
   },
   "file_extension": ".py",
   "mimetype": "text/x-python",
   "name": "python",
   "nbconvert_exporter": "python",
   "pygments_lexer": "ipython3",
   "version": "3.10.16"
  }
 },
 "nbformat": 4,
 "nbformat_minor": 5
}
